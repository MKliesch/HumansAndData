{
 "cells": [
  {
   "cell_type": "markdown",
   "id": "df9f021f",
   "metadata": {},
   "source": [
    "# Natural Language Toolkit NLTK\n",
    "\n",
    "NLTK is a leading platform for building Python programs to work with human language data. It provides easy-to-use interfaces to over 50 corpora and lexical resources such as WordNet, along with a suite of text processing libraries for classification, tokenization, stemming, tagging, parsing, and semantic reasoning, wrappers for industrial-strength NLP libraries and an active discussion forum.\n",
    "\n",
    "## Installation\n",
    "\n",
    "`pip install nltk`\n",
    "\n",
    "## NLTK\n",
    "\n",
    "NLTK comes with many corpora, toy grammars, trained models etc. A complete list is posted at: [http://nltk.org/nltk_data/](http://nltk.org/nltk_data/)\n",
    "\n"
   ]
  },
  {
   "cell_type": "code",
   "execution_count": 1,
   "id": "8b32b0b7",
   "metadata": {},
   "outputs": [
    {
     "name": "stdout",
     "output_type": "stream",
     "text": [
      "showing info https://raw.githubusercontent.com/nltk/nltk_data/gh-pages/index.xml\n"
     ]
    },
    {
     "data": {
      "text/plain": [
       "True"
      ]
     },
     "execution_count": 1,
     "metadata": {},
     "output_type": "execute_result"
    }
   ],
   "source": [
    "import nltk\n",
    "\n",
    "nltk.download()"
   ]
  },
  {
   "cell_type": "markdown",
   "id": "45f66cb1",
   "metadata": {},
   "source": [
    "this will launch the nltk downloader gui, from which you can download any corpus.\n",
    "\n",
    "![](images/wordnet.png)\n",
    "\n",
    "## Let's get started\n",
    "\n"
   ]
  },
  {
   "cell_type": "code",
   "execution_count": 2,
   "id": "a7b853ac",
   "metadata": {},
   "outputs": [],
   "source": [
    "import nltk\n",
    "nltk.download('punkt')"
   ]
  },
  {
   "cell_type": "code",
   "execution_count": 3,
   "id": "e9e6e06c",
   "metadata": {},
   "outputs": [],
   "source": [
    "text = \"\"\"Monticello wasn't designated as UNESCO World Heritage Site until 1987 \"\"\""
   ]
  },
  {
   "cell_type": "markdown",
   "id": "85345e71",
   "metadata": {},
   "source": [
    "## Better word tokenizers"
   ]
  },
  {
   "cell_type": "code",
   "execution_count": 5,
   "id": "6d2015a8",
   "metadata": {},
   "outputs": [
    {
     "data": {
      "text/plain": [
       "['Monticello',\n",
       " \"wasn't\",\n",
       " 'designated',\n",
       " 'as',\n",
       " 'UNESCO',\n",
       " 'World',\n",
       " 'Heritage',\n",
       " 'Site',\n",
       " 'until',\n",
       " '1987',\n",
       " '']"
      ]
     },
     "execution_count": 5,
     "metadata": {},
     "output_type": "execute_result"
    }
   ],
   "source": [
    "import regex\n",
    "regex.split(\"[\\s\\.\\,]\", text)"
   ]
  },
  {
   "cell_type": "code",
   "execution_count": 8,
   "id": "7e10dc43",
   "metadata": {},
   "outputs": [
    {
     "data": {
      "text/plain": [
       "['Monticello',\n",
       " 'was',\n",
       " \"n't\",\n",
       " 'designated',\n",
       " 'as',\n",
       " 'UNESCO',\n",
       " 'World',\n",
       " 'Heritage',\n",
       " 'Site',\n",
       " 'until',\n",
       " '1987']"
      ]
     },
     "execution_count": 8,
     "metadata": {},
     "output_type": "execute_result"
    }
   ],
   "source": [
    "nltk.word_tokenize(text)"
   ]
  },
  {
   "cell_type": "markdown",
   "id": "e792132a",
   "metadata": {},
   "source": [
    "## Stemming\n",
    "\n",
    "There are multiple stemmers in nltk. \n",
    "\n",
    "### Porter stemmer\n",
    "\n",
    "it applies some rules on the text."
   ]
  },
  {
   "cell_type": "code",
   "execution_count": 9,
   "id": "96c0b9e1",
   "metadata": {},
   "outputs": [
    {
     "name": "stdout",
     "output_type": "stream",
     "text": [
      "carresses >>> carress\n",
      "flies >>> fli\n",
      "dies >>> die\n",
      "mules >>> mule\n",
      "denied >>> deni\n",
      "died >>> die\n",
      "agreed >>> agre\n",
      "owned >>> own\n",
      "humbled >>> humbl\n",
      "sized >>> size\n",
      "meeting >>> meet\n",
      "stating >>> state\n",
      "siezing >>> siez\n",
      "itemization >>> item\n",
      "sensational >>> sensat\n",
      "traditional >>> tradit\n",
      "reference >>> refer\n",
      "colonizer >>> colon\n",
      "plotted >>> plot\n"
     ]
    }
   ],
   "source": [
    "from nltk import PorterStemmer\n",
    "\n",
    "stemmer = PorterStemmer()\n",
    "\n",
    "plurals = ['carresses', 'flies', 'dies', 'mules', 'denied', 'died',\n",
    "          'agreed', 'owned', 'humbled', 'sized', 'meeting', 'stating', \n",
    "          'siezing', 'itemization', 'sensational', 'traditional', 'reference',\n",
    "          'colonizer', 'plotted']\n",
    "\n",
    "for word in plurals:\n",
    "    print(f\"{word} >>> {stemmer.stem(word)}\")"
   ]
  },
  {
   "cell_type": "code",
   "execution_count": 10,
   "id": "eed6b887",
   "metadata": {},
   "outputs": [
    {
     "data": {
      "text/plain": [
       "('arabic',\n",
       " 'danish',\n",
       " 'dutch',\n",
       " 'english',\n",
       " 'finnish',\n",
       " 'french',\n",
       " 'german',\n",
       " 'hungarian',\n",
       " 'italian',\n",
       " 'norwegian',\n",
       " 'porter',\n",
       " 'portuguese',\n",
       " 'romanian',\n",
       " 'russian',\n",
       " 'spanish',\n",
       " 'swedish')"
      ]
     },
     "execution_count": 10,
     "metadata": {},
     "output_type": "execute_result"
    }
   ],
   "source": [
    "from nltk.stem.snowball import SnowballStemmer\n",
    "\n",
    "SnowballStemmer.languages"
   ]
  },
  {
   "cell_type": "code",
   "execution_count": 11,
   "id": "c3154770",
   "metadata": {},
   "outputs": [],
   "source": [
    "sn_stemmer = SnowballStemmer('english')"
   ]
  },
  {
   "cell_type": "markdown",
   "id": "c7240b0c",
   "metadata": {},
   "source": [
    "The performance is close, but the `english` snowball stemmer is better in some cases than `porter`."
   ]
  },
  {
   "cell_type": "code",
   "execution_count": 12,
   "id": "2174c36d",
   "metadata": {},
   "outputs": [
    {
     "data": {
      "text/plain": [
       "'generous'"
      ]
     },
     "execution_count": 12,
     "metadata": {},
     "output_type": "execute_result"
    }
   ],
   "source": [
    "sn_stemmer.stem(\"generously\")"
   ]
  },
  {
   "cell_type": "code",
   "execution_count": 13,
   "id": "5bc8fbaa",
   "metadata": {},
   "outputs": [
    {
     "data": {
      "text/plain": [
       "'gener'"
      ]
     },
     "execution_count": 13,
     "metadata": {},
     "output_type": "execute_result"
    }
   ],
   "source": [
    "stemmer.stem(\"generously\")"
   ]
  },
  {
   "cell_type": "markdown",
   "id": "993f114f",
   "metadata": {},
   "source": [
    "## Lemmatization\n",
    "\n",
    "Retrieve the lemma of a word (e.g. \"niñas\" is the feminine gender, plural number of the lemma \"niño\"."
   ]
  },
  {
   "cell_type": "code",
   "execution_count": 14,
   "id": "c4277963",
   "metadata": {},
   "outputs": [],
   "source": [
    "from nltk.stem import WordNetLemmatizer\n",
    "lemmatizer = WordNetLemmatizer()"
   ]
  },
  {
   "cell_type": "code",
   "execution_count": 15,
   "id": "d084f600",
   "metadata": {},
   "outputs": [
    {
     "name": "stdout",
     "output_type": "stream",
     "text": [
      "carresses >>> carresses\n",
      "flies >>> fly\n",
      "dies >>> dy\n",
      "mules >>> mule\n",
      "denied >>> denied\n",
      "died >>> died\n",
      "agreed >>> agreed\n",
      "owned >>> owned\n",
      "humbled >>> humbled\n",
      "sized >>> sized\n",
      "meeting >>> meeting\n",
      "stating >>> stating\n",
      "siezing >>> siezing\n",
      "itemization >>> itemization\n",
      "sensational >>> sensational\n",
      "traditional >>> traditional\n",
      "reference >>> reference\n",
      "colonizer >>> colonizer\n",
      "plotted >>> plotted\n"
     ]
    }
   ],
   "source": [
    "for word in plurals:\n",
    "    print(f\"{word} >>> {lemmatizer.lemmatize(word)}\")"
   ]
  },
  {
   "cell_type": "code",
   "execution_count": null,
   "id": "cac43e64",
   "metadata": {},
   "outputs": [],
   "source": []
  }
 ],
 "metadata": {
  "kernelspec": {
   "display_name": "Python 3",
   "language": "python",
   "name": "python3"
  },
  "language_info": {
   "codemirror_mode": {
    "name": "ipython",
    "version": 3
   },
   "file_extension": ".py",
   "mimetype": "text/x-python",
   "name": "python",
   "nbconvert_exporter": "python",
   "pygments_lexer": "ipython3",
   "version": "3.8.8"
  }
 },
 "nbformat": 4,
 "nbformat_minor": 5
}
