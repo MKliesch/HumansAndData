{
 "cells": [
  {
   "cell_type": "markdown",
   "id": "082c92e3-fa06-41d6-bd2c-b0672f100552",
   "metadata": {},
   "source": [
    "## Workshop Knowing Humans Knowing Data\n",
    "\n",
    "#### Install packages"
   ]
  },
  {
   "cell_type": "code",
   "execution_count": 80,
   "id": "5b46f86a-9dae-497e-9157-686e24fc28f3",
   "metadata": {},
   "outputs": [],
   "source": [
    "import numpy as np \n",
    "import pandas as pd\n",
    "import pygal\n",
    "import seaborn\n",
    "import matplotlib as plt \n",
    "import plotly\n",
    "import pygal \n",
    "import sklearn \n",
    "#import pytorch\n",
    "#import pillow\n",
    "import nltk \n",
    "import requests "
   ]
  },
  {
   "cell_type": "markdown",
   "id": "55208889-0530-427d-9973-a383145ed9d9",
   "metadata": {},
   "source": [
    "## Worüf wird Pygal benötigt bzw. was sind die Vorteile von Pygal?\n",
    "\n",
    "### Plots im SVG-Format erstellen\n",
    "SVG (Scalable Vector Graphics) ist ein Bildformat, das vektorbasierte Grafiken im XML-Format definiert. Vektorgrafiken beschrieben Formen und Farbwerte mathematisch (im Gegensatz zu Rastergrafiken oder auch Bitmap-Grafiken wie GIF, JPEG oder PNG, die die Formen und Farbwerte als festes Pixelgitter abspeichern). Ein Vorteil von SVG-Grafiken gegenüber Bitmap-Grafiken wie z.B. JPG oder PNG ist die stufenlose Skalierbarkeit der Grafik ohne Beeinträchtigung der Bildqualität. Diese Eigenschaft kommt vor allem mobilen Webseiten bedeutend zum Vorteil. Auf Retina-Displays von Smartphones und Tablets wie dem iPhone und dem iPad werden normale PNG-Grafiken unscharf dargestellt. Ein weiterer Vorteil liegt in der Möglichkeit, die Bildelemente direkt und flexibel im Browser einzubetten. Man kann Bilddateien im Webbrowser anzeigen und in das Bild hinein- und herauszoomen, ohne die Details der Grafik zu verlieren. SVG-Grafiken lassen sich mithilfe von JavaScript auch animieren und zeichnen sich durch eine geringe Dateingrösse aus. Das SVG-Format wird von einigen Readern nicht standardmässig untertützt, die Dateien lassen sich aber im Browser oder mit freien SVG-Editoren (wie z.B. GIMP) öffnen, bearbeiten und umwandeln.\n",
    "\n",
    "### Interaktive Plots erstellen\n",
    "\n",
    "Mit Pygal lassen sich interaktive Plots erstellen (dies ist auch möglich mit Matplotlib oder Seaborn - dort allerdings nicht im SVG-Bildformat).\n",
    "\n",
    "## Was sind die Nachteile von Pygal?\n",
    "Meinem (sehr eingeschränkten) Eindruck nach: Eingeschränkte Flexibilität in der Datenvisualisierung (Vergleich: GGPlot2 in R), zumindest wenn es um bestehende Funktionen geht, auf die man zurückgreifen kann. Einen Überblick über bestehende Plotfunktionen findet man hier: http://www.pygal.org/en/stable/documentation/types/index.html.\n",
    "\n"
   ]
  },
  {
   "cell_type": "markdown",
   "id": "bd77b971-16a0-4be5-ad1f-d04fd8753f7b",
   "metadata": {},
   "source": [
    "# Beispiele: Interaktive SVG-Plots"
   ]
  },
  {
   "cell_type": "markdown",
   "id": "69d5f7b5-2816-4976-937f-a265b13f7eba",
   "metadata": {},
   "source": [
    "### Bar plot"
   ]
  },
  {
   "cell_type": "code",
   "execution_count": 113,
   "id": "6d3a5219-672c-496f-ba67-efa5b404d04c",
   "metadata": {},
   "outputs": [],
   "source": [
    "bar_chart = pygal.Bar()                                            # Create a bar graph object\n",
    "bar_chart.add('Fibonacci', [0, 1, 1, 2, 3, 5, 8, 13, 21, 34, 55])  # Add some values\n",
    "bar_chart.render_to_file('bar_chart.svg')                          # Save the svg to a file"
   ]
  },
  {
   "cell_type": "code",
   "execution_count": 114,
   "id": "6f9e8ecc-5c3b-478a-8c67-8fe0b0aded97",
   "metadata": {},
   "outputs": [],
   "source": [
    "bar_chart = pygal.HorizontalStackedBar()\n",
    "bar_chart.title = \"Remarquable sequences\"\n",
    "bar_chart.x_labels = map(str, range(11))\n",
    "bar_chart.add('Fibonacci', [0, 1, 1, 2, 3, 5, 8, 13, 21, 34, 55])\n",
    "bar_chart.add('Padovan', [1, 1, 1, 2, 2, 3, 4, 5, 7, 9, 12])\n",
    "bar_chart.render_to_file('bar_chart_horizontal_stacked.svg')"
   ]
  },
  {
   "cell_type": "markdown",
   "id": "9b726d04-b2c6-4d95-8988-d8ef2c061d9c",
   "metadata": {},
   "source": [
    "### Covid-19 data (https://towardsdatascience.com/interactive-data-visualization-in-python-with-pygal-4696fccc8c96)"
   ]
  },
  {
   "cell_type": "code",
   "execution_count": 119,
   "id": "bf386027-e5bf-4da2-9a8d-c0aee7aa4b73",
   "metadata": {
    "tags": []
   },
   "outputs": [],
   "source": [
    "import pandas as pd\n",
    "\n",
    "# fetch data\n",
    "data = pd.read_csv(\"https://raw.githubusercontent.com/nytimes/covid-19-data/master/us-counties.csv\")\n",
    "data.sample(10)\n",
    "\n",
    "# Group data by state and extract on the case number of each state and then computing the mean value for each state\n",
    "mean_per_state = data.groupby('state')['cases'].mean()\n",
    "\n",
    "# Draw the bar chart\n",
    "bar_chart = pygal.Bar(height=400)\n",
    "[bar_chart.add(x[0], x[1]) for x in mean_per_state.items()]\n",
    "bar_chart.render_to_file('bar_chart_covid19.svg')"
   ]
  },
  {
   "cell_type": "markdown",
   "id": "a1c4f9ad-eef2-4a7e-8e4d-aa4c61993b3b",
   "metadata": {},
   "source": [
    "### Pyramid plot"
   ]
  },
  {
   "cell_type": "code",
   "execution_count": 88,
   "id": "be55ce0a-cce0-435b-b15a-96e24fae5652",
   "metadata": {},
   "outputs": [],
   "source": [
    "ages = [(364381, 358443, 360172, 345848, 334895, 326914, 323053, 312576, 302015, 301277, 309874, 318295, 323396, 332736, 330759, 335267, 345096, 352685, 368067, 381521, 380145, 378724, 388045, 382303, 373469, 365184, 342869, 316928, 285137, 273553, 250861, 221358, 195884, 179321, 171010, 162594, 152221, 148843, 143013, 135887, 125824, 121493, 115913, 113738, 105612, 99596, 91609, 83917, 75688, 69538, 62999, 58864, 54593, 48818, 44739, 41096, 39169, 36321, 34284, 32330, 31437, 30661, 31332, 30334, 23600, 21999, 20187, 19075, 16574, 15091, 14977, 14171, 13687, 13155, 12558, 11600, 10827, 10436, 9851, 9794, 8787, 7993, 6901, 6422, 5506, 4839, 4144, 3433, 2936, 2615),\n",
    "   (346205, 340570, 342668, 328475, 319010, 312898, 308153, 296752, 289639, 290466, 296190, 303871, 309886, 317436, 315487, 316696, 325772, 331694, 345815, 354696, 354899, 351727, 354579, 341702, 336421, 321116, 292261, 261874, 242407, 229488, 208939, 184147, 162662, 147361, 140424, 134336, 126929, 125404, 122764, 116004, 105590, 100813, 95021, 90950, 85036, 79391, 72952, 66022, 59326, 52716, 46582, 42772, 38509, 34048, 30887, 28053, 26152, 23931, 22039, 20677, 19869, 19026, 18757, 18308, 14458, 13685, 12942, 12323, 11033, 10183, 10628, 10803, 10655, 10482, 10202, 10166, 9939, 10138, 10007, 10174, 9997, 9465, 9028, 8806, 8450, 7941, 7253, 6698, 6267, 5773),\n",
    "   (0, 0, 0, 0, 0, 0, 0, 0, 0, 0, 0, 0, 0, 0, 0, 0, 23, 91, 412, 1319, 2984, 5816, 10053, 16045, 24240, 35066, 47828, 62384, 78916, 97822, 112738, 124414, 130658, 140789, 153951, 168560, 179996, 194471, 212006, 225209, 228886, 239690, 245974, 253459, 255455, 260715, 259980, 256481, 252222, 249467, 240268, 238465, 238167, 231361, 223832, 220459, 222512, 220099, 219301, 221322, 229783, 239336, 258360, 271151, 218063, 213461, 207617, 196227, 174615, 160855, 165410, 163070, 157379, 149698, 140570, 131785, 119936, 113751, 106989, 99294, 89097, 78413, 68174, 60592, 52189, 43375, 35469, 29648, 24575, 20863),\n",
    "   (0, 0, 0, 0, 0, 0, 0, 0, 0, 0, 0, 0, 0, 0, 0, 0, 74, 392, 1351, 3906, 7847, 12857, 19913, 29108, 42475, 58287, 74163, 90724, 108375, 125886, 141559, 148061, 152871, 159725, 171298, 183536, 196136, 210831, 228757, 238731, 239616, 250036, 251759, 259593, 261832, 264864, 264702, 264070, 258117, 253678, 245440, 241342, 239843, 232493, 226118, 221644, 223440, 219833, 219659, 221271, 227123, 232865, 250646, 261796, 210136, 201824, 193109, 181831, 159280, 145235, 145929, 140266, 133082, 124350, 114441, 104655, 93223, 85899, 78800, 72081, 62645, 53214, 44086, 38481, 32219, 26867, 21443, 16899, 13680, 11508),\n",
    "   (0, 0, 0, 0, 0, 0, 0, 0, 0, 0, 0, 0, 0, 0, 0, 0, 7, 5, 17, 15, 31, 34, 38, 35, 45, 299, 295, 218, 247, 252, 254, 222, 307, 316, 385, 416, 463, 557, 670, 830, 889, 1025, 1149, 1356, 1488, 1835, 1929, 2130, 2362, 2494, 2884, 3160, 3487, 3916, 4196, 4619, 5032, 5709, 6347, 7288, 8139, 9344, 11002, 12809, 11504, 11918, 12927, 13642, 13298, 14015, 15751, 17445, 18591, 19682, 20969, 21629, 22549, 23619, 25288, 26293, 27038, 27039, 27070, 27750, 27244, 25905, 24357, 22561, 21794, 20595),\n",
    "   (0, 0, 0, 0, 0, 0, 0, 0, 0, 0, 0, 0, 0, 0, 0, 0, 6, 8, 0, 8, 21, 34, 49, 84, 97, 368, 401, 414, 557, 654, 631, 689, 698, 858, 1031, 1120, 1263, 1614, 1882, 2137, 2516, 2923, 3132, 3741, 4259, 4930, 5320, 5948, 6548, 7463, 8309, 9142, 10321, 11167, 12062, 13317, 15238, 16706, 18236, 20336, 23407, 27024, 32502, 37334, 34454, 38080, 41811, 44490, 45247, 46830, 53616, 58798, 63224, 66841, 71086, 73654, 77334, 82062, 87314, 92207, 94603, 94113, 92753, 93174, 91812, 87757, 84255, 79723, 77536, 74173),\n",
    "   (0, 0, 0, 0, 0, 0, 0, 0, 0, 0, 0, 0, 0, 0, 0, 0, 0, 1, 5, 0, 11, 35, 137, 331, 803, 1580, 2361, 3632, 4866, 6849, 8754, 10422, 12316, 14152, 16911, 19788, 22822, 27329, 31547, 35711, 38932, 42956, 46466, 49983, 52885, 55178, 56549, 57632, 57770, 57427, 56348, 55593, 55554, 53266, 51084, 49342, 48555, 47067, 45789, 44988, 44624, 44238, 46267, 46203, 36964, 33866, 31701, 28770, 25174, 22702, 21934, 20638, 19051, 17073, 15381, 13736, 11690, 10368, 9350, 8375, 7063, 6006, 5044, 4030, 3420, 2612, 2006, 1709, 1264, 1018),\n",
    "   (0, 0, 0, 0, 0, 0, 0, 0, 0, 0, 0, 0, 0, 0, 0, 0, 4, 6, 11, 20, 68, 179, 480, 1077, 2094, 3581, 5151, 7047, 9590, 12434, 15039, 17257, 19098, 21324, 24453, 27813, 32316, 37281, 43597, 49647, 53559, 58888, 62375, 67219, 70956, 73547, 74904, 75994, 76224, 74979, 72064, 70330, 68944, 66527, 63073, 60899, 60968, 58756, 57647, 56301, 57246, 57068, 59027, 59187, 47549, 44425, 40976, 38077, 32904, 29431, 29491, 28020, 26086, 24069, 21742, 19498, 17400, 15738, 14451, 13107, 11568, 10171, 8530, 7273, 6488, 5372, 4499, 3691, 3259, 2657)]\n",
    "\n",
    "types = ['Males single', 'Females single',\n",
    "         'Males married', 'Females married',\n",
    "         'Males widowed', 'Females widowed',\n",
    "         'Males divorced', 'Females divorced']\n",
    "\n",
    "pyramid_chart = pygal.Pyramid(human_readable=True, legend_at_bottom=True)\n",
    "pyramid_chart.title = 'England population by age in 2010 (source: ons.gov.uk)'\n",
    "pyramid_chart.x_labels = map(lambda x: str(x) if not x % 5 else '', range(90))\n",
    "for type, age in zip(types, ages):\n",
    "    pyramid_chart.add(type, age)\n",
    "pyramid_chart.render_to_file('pyramid_chart.svg')"
   ]
  },
  {
   "cell_type": "markdown",
   "id": "4e8eedbc-cac0-45ee-b522-5f4313564d5f",
   "metadata": {},
   "source": [
    "### Funnel plot"
   ]
  },
  {
   "cell_type": "code",
   "execution_count": 89,
   "id": "33eb1dc9-53a6-40fb-a9e5-75ea14e43482",
   "metadata": {},
   "outputs": [],
   "source": [
    "funnel_chart = pygal.Funnel()\n",
    "funnel_chart.title = 'V8 benchmark results'\n",
    "funnel_chart.x_labels = ['Richards', 'DeltaBlue', 'Crypto', 'RayTrace', 'EarleyBoyer', 'RegExp', 'Splay', 'NavierStokes']\n",
    "funnel_chart.add('Opera', [3472, 2933, 4203, 5229, 5810, 1828, 9013, 4669])\n",
    "funnel_chart.add('Firefox', [7473, 8099, 11700, 2651, 6361, 1044, 3797, 9450])\n",
    "funnel_chart.add('Chrome', [6395, 8212, 7520, 7218, 12464, 1660, 2123, 8607])\n",
    "funnel_chart.render_to_file('funnel_chart.svg')"
   ]
  },
  {
   "cell_type": "markdown",
   "id": "f852c21e-4742-4d04-9202-f43a6fd5d341",
   "metadata": {},
   "source": [
    "### Beispiel: Built-in styles"
   ]
  },
  {
   "cell_type": "code",
   "execution_count": 90,
   "id": "7cb8adf7-1490-4802-9026-d57249a6e846",
   "metadata": {},
   "outputs": [],
   "source": [
    "### Default\n",
    "\n",
    "from pygal.style import DefaultStyle\n",
    "chart = pygal.StackedLine(fill=True, interpolate='cubic', style=DefaultStyle) # Setting style here is not necessary\n",
    "chart.add('A', [1, 3,  5, 16, 13, 3,  7])\n",
    "chart.add('B', [5, 2,  3,  2,  5, 7, 17])\n",
    "chart.add('C', [6, 10, 9,  7,  3, 1,  0])\n",
    "chart.add('D', [2,  3, 5,  9, 12, 9,  5])\n",
    "chart.add('E', [7,  4, 2,  1,  2, 10, 0])\n",
    "chart.render_to_file('stacked_line_chart_default.svg')\n",
    "\n",
    "### Neon\n",
    "\n",
    "from pygal.style import NeonStyle\n",
    "chart = pygal.StackedLine(fill=True, interpolate='cubic', style=NeonStyle)\n",
    "chart.add('A', [1, 3,  5, 16, 13, 3,  7])\n",
    "chart.add('B', [5, 2,  3,  2,  5, 7, 17])\n",
    "chart.add('C', [6, 10, 9,  7,  3, 1,  0])\n",
    "chart.add('D', [2,  3, 5,  9, 12, 9,  5])\n",
    "chart.add('E', [7,  4, 2,  1,  2, 10, 0])\n",
    "chart.render_to_file('stacked_line_chart_neon.svg')"
   ]
  }
 ],
 "metadata": {
  "kernelspec": {
   "display_name": "Python 3",
   "language": "python",
   "name": "python3"
  },
  "language_info": {
   "codemirror_mode": {
    "name": "ipython",
    "version": 3
   },
   "file_extension": ".py",
   "mimetype": "text/x-python",
   "name": "python",
   "nbconvert_exporter": "python",
   "pygments_lexer": "ipython3",
   "version": "3.8.8"
  }
 },
 "nbformat": 4,
 "nbformat_minor": 5
}
