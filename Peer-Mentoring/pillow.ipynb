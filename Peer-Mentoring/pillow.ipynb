{
 "cells": [
  {
   "cell_type": "markdown",
   "id": "277f2bdd-2016-4d75-a389-c7d56c5aafc7",
   "metadata": {},
   "source": [
    "# PILLOW\n",
    "## 1. Was ist Pillow?\n",
    "\n",
    "Pillow ist eine Python library, die verwendet wird, um Image-Dateien zu öffnen, zu manipulieren und zu analysieren.\n",
    "Pillow ist der Nachfolger von Python Imaging Library (PIL) und baut darauf auf. \n",
    "- hat mehr Funktionalitäten\n",
    "- unterstützt eine Vielzahl an Image-Dateien: jpeg, png, tiff, gif, etc. \n"
   ]
  },
  {
   "cell_type": "markdown",
   "id": "6c384efc-1089-417f-affd-a81a9ff3d818",
   "metadata": {},
   "source": [
    "## 2. Pillow basics\n",
    "### 2.1 read, display, examine, save"
   ]
  },
  {
   "cell_type": "code",
   "execution_count": 1,
   "id": "30ca4241-6b3a-4d6b-bf17-cf3f32787448",
   "metadata": {},
   "outputs": [],
   "source": [
    "from PIL import Image"
   ]
  },
  {
   "cell_type": "code",
   "execution_count": 2,
   "id": "890651cf-28e5-4d24-bb34-4346718e1eb1",
   "metadata": {},
   "outputs": [],
   "source": [
    "# ein Bild anzeigen\n",
    "image1 = Image.open(\"flamingo.jpg\") # ein Image-Objekt kreieren\n",
    "image1.show() # öffnet ein Preview (temp)"
   ]
  },
  {
   "cell_type": "code",
   "execution_count": 3,
   "id": "92f2afd6-0f3d-4300-8893-9ec2d31b1fad",
   "metadata": {},
   "outputs": [],
   "source": [
    "image2 = Image.open(\"zueri.jpg\")\n",
    "image2.show()"
   ]
  },
  {
   "cell_type": "code",
   "execution_count": 71,
   "id": "62d315fb-ddc9-440e-9e97-a14202f2b2fd",
   "metadata": {},
   "outputs": [
    {
     "name": "stdout",
     "output_type": "stream",
     "text": [
      "JPEG (4032, 3017) RGB\n",
      "JPEG (4032, 3024) RGB\n"
     ]
    }
   ],
   "source": [
    "# Dateiinhalte anschauen:\n",
    "print(image1.format, image1.size, image1.mode)\n",
    "\n",
    "print(image2.format, image2.size, image2.mode)"
   ]
  },
  {
   "cell_type": "markdown",
   "id": "8d34574a-32e3-44a9-9355-f3ca5430345d",
   "metadata": {},
   "source": [
    "format:\n",
    "- Format eines Bildes\n",
    "- bspw. JPEG, PNG, GIF, etc. \n",
    "\n",
    "size:\n",
    "- Breite x Länge in Pixel\n",
    "\n",
    "mode:\n",
    "- Format der Pixel\n",
    "- L = greyscale images\n",
    "- RGB = true color images\n",
    "- CMYK = pre-press images"
   ]
  },
  {
   "cell_type": "code",
   "execution_count": 4,
   "id": "a1acf233-f697-46fb-b099-37bc0c78efec",
   "metadata": {},
   "outputs": [],
   "source": [
    "# ein Bild abspeichern (bspw. in einem anderen Format)\n",
    "image1.save(\"flamingo.png\")"
   ]
  },
  {
   "cell_type": "code",
   "execution_count": 5,
   "id": "1ff5e7d6-ec82-496c-b614-498d9f617561",
   "metadata": {},
   "outputs": [],
   "source": [
    "# mehrere Files abspeichern (mittels loop; in einem anderen Format)\n",
    "import os"
   ]
  },
  {
   "cell_type": "code",
   "execution_count": 6,
   "id": "6afbd098-b633-48a8-b98d-08c0dfca66fa",
   "metadata": {},
   "outputs": [],
   "source": [
    "for f in os.listdir(\".\"): # loopt durch die current directory\n",
    "    if f.endswith(\".jpg\"):\n",
    "        #print(f)\n",
    "        i = Image.open(f) # macht aus jedem File ein Image object\n",
    "        fn, fext = os.path.splitext(f) # spaltet filename and file extension\n",
    "        i.save(\"my_pngs/{}.png\".format(fn)) # speichert das Bild als png im Ordner \"my_pngs\" mit dem alten Filename ab"
   ]
  },
  {
   "cell_type": "markdown",
   "id": "eb92d965-e32a-4a7e-b9d3-0299dbf7ce90",
   "metadata": {},
   "source": [
    "### 2.2 manipulations"
   ]
  },
  {
   "cell_type": "code",
   "execution_count": 7,
   "id": "09573d32-31cb-4e9f-abf0-7bd771f323b1",
   "metadata": {},
   "outputs": [],
   "source": [
    "# resize files (bspw. für einen Thumbnail)\n",
    "\n",
    "size_300 = (300, 300) # die neue, erwünschte Bildgrösse wird in einem Tuple gespeichert\n",
    "\n",
    "for f in os.listdir(\".\"): \n",
    "    if f.endswith(\".jpg\"):\n",
    "        i = Image.open(f) \n",
    "        fn, fext = os.path.splitext(f)\n",
    "        \n",
    "        i.thumbnail(size_300)\n",
    "        i.save(\"pics_300/{}_300{}\".format(fn, fext))"
   ]
  },
  {
   "cell_type": "code",
   "execution_count": 9,
   "id": "8aaf8150-1b01-4de6-9be9-704aa303b2b5",
   "metadata": {},
   "outputs": [],
   "source": [
    "# rotate\n",
    "image2 = Image.open(\"zueri.jpg\")\n",
    "image2.show()\n",
    "#image2.rotate(90).save(\"zueri_mod.jpg\")\n",
    "image2 = image2.rotate(90) # Anzahl Grade\n",
    "image2.show()"
   ]
  },
  {
   "cell_type": "code",
   "execution_count": 11,
   "id": "9a7d28ff-fbcf-40aa-afe0-cfe0ed8d3885",
   "metadata": {},
   "outputs": [],
   "source": [
    "# change color\n",
    "image3 = Image.open(\"christmas.jpg\")\n",
    "image3.show()\n",
    "image3 = image3.convert(mode = \"L\") # B&W\n",
    "image3.show()"
   ]
  },
  {
   "cell_type": "code",
   "execution_count": 12,
   "id": "2a372597-e2a1-4652-9229-9f136ac19bc7",
   "metadata": {},
   "outputs": [],
   "source": [
    "# blur\n",
    "from PIL import ImageFilter\n",
    "image4 = Image.open(\"schweden.jpg\")\n",
    "image4.show()\n",
    "image4 = image4.filter(ImageFilter.GaussianBlur(10)) # radius = 10; default = 2 \n",
    "image4.show()"
   ]
  },
  {
   "cell_type": "code",
   "execution_count": 15,
   "id": "09533e0d-a5db-4536-b742-85098d0cc578",
   "metadata": {},
   "outputs": [],
   "source": [
    "# cutting, pasting and merging images\n",
    "# cut\n",
    "image2 = Image.open(\"zueri.jpg\")\n",
    "image2.show()\n",
    "box = (1250, 1250, 2000, 2000) # left, upper, right, lower; (0,0) is in the upper-left corner\n",
    "region = image2.crop(box)\n",
    "region.show()"
   ]
  },
  {
   "cell_type": "code",
   "execution_count": 14,
   "id": "a3cf70e3-9801-47a6-8a1f-4bd62ad9eb09",
   "metadata": {},
   "outputs": [],
   "source": [
    "# process subrectangle, paste it back\n",
    "region = region.rotate(180)\n",
    "image2.paste(region, box)\n",
    "image2.show()"
   ]
  },
  {
   "cell_type": "code",
   "execution_count": 17,
   "id": "f93984d8-4ec9-4efa-b37a-29fbfb2e07a4",
   "metadata": {},
   "outputs": [],
   "source": [
    "# enhancing images\n",
    "from PIL import ImageEnhance\n",
    "image4 = Image.open(\"schweden.jpg\")\n",
    "image4.show()\n",
    "enh = ImageEnhance.Contrast(image4)\n",
    "enh.enhance(1.5).show(\"50% more contrast\")"
   ]
  },
  {
   "cell_type": "markdown",
   "id": "d243a5dc-58ed-42e3-8024-54134b7a4dcd",
   "metadata": {},
   "source": [
    "### 2.3 statistics"
   ]
  },
  {
   "cell_type": "markdown",
   "id": "d240a475-d29e-47b4-b91f-fd3205dbfc23",
   "metadata": {},
   "source": [
    "Farben lassen sich durch 3 Angaben definieren. Im RGB-Farbraum wird eine Farbe durch den Rot-, Grün- und Blauanteil definiert. \n",
    "Jede der drei Farben wird mit jeweils 8 Bit angegeben. Das heisst, pro Farbe sind 255 Werte/Farbausprägungen möglich.\n",
    "- rote Anteile: 0-255\n",
    "- grüne Anteile: 256-511\n",
    "- blaue Anteile: 512-767"
   ]
  },
  {
   "cell_type": "code",
   "execution_count": 19,
   "id": "679313ca-8dc0-4f4a-80b0-3d170f1a89be",
   "metadata": {},
   "outputs": [
    {
     "name": "stdout",
     "output_type": "stream",
     "text": [
      "(0, 0, 255)\n",
      "(255, 192, 203)\n"
     ]
    }
   ],
   "source": [
    "# colors\n",
    "from PIL import ImageColor\n",
    "\n",
    "blue = ImageColor.getrgb(\"blue\")\n",
    "print(blue) # R = 0, G = 0, B = 255\n",
    "\n",
    "pink = ImageColor.getrgb(\"pink\")\n",
    "print(pink) # R = 255, G = 192, B = 203"
   ]
  },
  {
   "cell_type": "markdown",
   "id": "7c867faa-75cf-41fb-9133-5dea48f2b8ac",
   "metadata": {},
   "source": [
    "Die jeweiligen Farbanteile eines Bildes können wir in einem Histogramm darstellen."
   ]
  },
  {
   "cell_type": "code",
   "execution_count": 20,
   "id": "76e85794-b11b-459b-83c9-3ff5d3d7827a",
   "metadata": {},
   "outputs": [
    {
     "data": {
      "image/png": "[encoded data removed]",
      "text/plain": [
       "<Figure size 432x288 with 1 Axes>"
      ]
     },
     "metadata": {
      "needs_background": "light"
     },
     "output_type": "display_data"
    },
    {
     "data": {
      "image/png": "[encoded data removed]",
      "text/plain": [
       "<Figure size 432x288 with 1 Axes>"
      ]
     },
     "metadata": {
      "needs_background": "light"
     },
     "output_type": "display_data"
    },
    {
     "data": {
      "image/png": "[encoded data removed]",
      "text/plain": [
       "<Figure size 432x288 with 1 Axes>"
      ]
     },
     "metadata": {
      "needs_background": "light"
     },
     "output_type": "display_data"
    }
   ],
   "source": [
    "import matplotlib.pyplot as plot\n",
    "\n",
    "def getRed(R): return '#%02x%02x%02x'%(R,0,0) # Hexa-Decimal Color String jeder Farbe\n",
    "def getGreen(G): return '#%02x%02x%02x'%(0,G,0)\n",
    "def getBlue(B):return '#%02x%02x%02x'%(0,0,B)\n",
    "\n",
    "\n",
    "image2 = Image.open(\"zueri.jpg\") # das zu analysierende Bild einlesen\n",
    "hst=image2.histogram() # Histogramm des Bildes (pixel counts)\n",
    "Red=hst[0:256]      # Werte für rot\n",
    "Green=hst[256:512]  # Werte für grün\n",
    "Blue=hst[512:768]   # Werte für blau\n",
    "\n",
    "plot.figure(0)             # Histogramm für rote Farbanteile\n",
    "for i in range(0, 256):\n",
    "    plot.bar(i, Red[i], color = getRed(i),alpha=0.3)\n",
    "\n",
    "plot.figure(1)             # Histogramm für grüne Farbanteile\n",
    "for i in range(0, 256):\n",
    "    plot.bar(i, Green[i], color = getGreen(i),alpha=0.3)\n",
    "\n",
    "plot.figure(2)             # Histogramm für blaue Anteile\n",
    "for i in range(0, 256):\n",
    "    plot.bar(i, Blue[i], color = getBlue(i),alpha=0.3)\n",
    "    \n",
    "plot.show()"
   ]
  },
  {
   "cell_type": "markdown",
   "id": "bc62ec98-fa56-446d-b316-0b2cd07079d2",
   "metadata": {},
   "source": [
    "--> zeigt wie viele rote, grüne und blaue Pixel in einem Bild sind pro (255) Farbausprägung"
   ]
  },
  {
   "cell_type": "markdown",
   "id": "2d28cc43-a865-4e72-9ac9-63dd1dae8393",
   "metadata": {},
   "source": [
    "### 2.4 Pillow & NumPy"
   ]
  },
  {
   "cell_type": "code",
   "execution_count": 22,
   "id": "e1bdf35f-1f83-4d17-9ad7-aa8380862ac7",
   "metadata": {},
   "outputs": [],
   "source": [
    "# create an image from a NumPy array\n",
    "\n",
    "import numpy as np\n",
    "arr = np.zeros([150, 250, 3], dtype=np.uint8) # create a 150x250 pixel array\n",
    "arr[:,:100] = [255, 128, 0] # fill the left half with orange\n",
    "arr[:,100:] = [0, 0, 255] # fill the right half with blue\n",
    "\n",
    "new_img = Image.fromarray(arr)\n",
    "new_img.show()\n",
    "\n",
    "new_img.save(\"RGB_image.jpg\")"
   ]
  },
  {
   "cell_type": "code",
   "execution_count": 25,
   "id": "68290f2a-c4a9-4675-b40c-05cc4fb01e19",
   "metadata": {},
   "outputs": [
    {
     "name": "stdout",
     "output_type": "stream",
     "text": [
      "[[[47 51 78]\n",
      "  [46 50 77]\n",
      "  [44 48 75]\n",
      "  ...\n",
      "  [57 52 82]\n",
      "  [60 55 85]\n",
      "  [62 57 87]]\n",
      "\n",
      " [[47 51 78]\n",
      "  [45 49 76]\n",
      "  [44 48 75]\n",
      "  ...\n",
      "  [58 53 83]\n",
      "  [59 54 84]\n",
      "  [60 55 85]]\n",
      "\n",
      " [[46 50 77]\n",
      "  [45 49 76]\n",
      "  [44 48 75]\n",
      "  ...\n",
      "  [59 54 84]\n",
      "  [59 54 84]\n",
      "  [59 54 84]]\n",
      "\n",
      " ...\n",
      "\n",
      " [[11  6 12]\n",
      "  [12  7 13]\n",
      "  [13  8 14]\n",
      "  ...\n",
      "  [17 10 18]\n",
      "  [17 10 18]\n",
      "  [17 10 18]]\n",
      "\n",
      " [[11  6 12]\n",
      "  [12  7 13]\n",
      "  [13  8 14]\n",
      "  ...\n",
      "  [16  9 17]\n",
      "  [18 11 19]\n",
      "  [19 12 20]]\n",
      "\n",
      " [[11  6 12]\n",
      "  [12  7 13]\n",
      "  [13  8 14]\n",
      "  ...\n",
      "  [16  9 17]\n",
      "  [18 11 19]\n",
      "  [20 13 21]]]\n"
     ]
    }
   ],
   "source": [
    "# create numpy array from an image\n",
    "from PIL import Image\n",
    "from numpy import array\n",
    "\n",
    "# open image & create image object\n",
    "image4 = Image.open(\"schweden.jpg\")\n",
    "image4.show()\n",
    "\n",
    "# convert image object to numpy array\n",
    "img2arr = array(image4)\n",
    "\n",
    "# print array\n",
    "print(img2arr)"
   ]
  },
  {
   "cell_type": "code",
   "execution_count": null,
   "id": "f014d55c-8411-488a-8e1d-435cd67aad9f",
   "metadata": {},
   "outputs": [],
   "source": []
  }
 ],
 "metadata": {
  "kernelspec": {
   "display_name": "Python 3",
   "language": "python",
   "name": "python3"
  },
  "language_info": {
   "codemirror_mode": {
    "name": "ipython",
    "version": 3
   },
   "file_extension": ".py",
   "mimetype": "text/x-python",
   "name": "python",
   "nbconvert_exporter": "python",
   "pygments_lexer": "ipython3",
   "version": "3.8.10"
  }
 },
 "nbformat": 4,
 "nbformat_minor": 5
}
