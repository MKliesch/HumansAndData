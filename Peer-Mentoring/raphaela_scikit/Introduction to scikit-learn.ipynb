{
 "cells": [
  {
   "cell_type": "markdown",
   "metadata": {},
   "source": [
    "# Introduction to scikit-learn\n",
    "\n",
    "Humans-And-Data Workshop\n",
    "\n",
    "22 June 2021 - Raphaela Kotsch\n",
    "\n",
    "The following notebook gives a short introduction to Scikit-learn. \n",
    "\n",
    "### Overview: \n",
    "\n",
    "1. What is the package needed for? \n",
    "2. What are its advantages/disadvantages? \n",
    "3. Example script in which 2-3 functions of the package are applied.\n",
    "\n",
    "\n",
    "### Short history: \n",
    "\n",
    "Developed in 2007 as part of Google's summer of code project by David Cournapeau. \n",
    "\n",
    "\n",
    "### Prerequisits: \n",
    "\n",
    "- Python\n",
    "- NumPy\n",
    "- SciPy\n",
    "- Matplotlib: for plotting\n",
    "- Pandas: for data structure and analysis.\n",
    "- Joblib \n",
    "\n",
    "\n",
    "\n"
   ]
  },
  {
   "cell_type": "markdown",
   "metadata": {},
   "source": [
    "# 1. What is the library needed/used for?"
   ]
  },
  {
   "cell_type": "markdown",
   "metadata": {},
   "source": [
    "Scikit-learn is a useful (some say the best) library for machine learning. It offers a wide range of tools for ML applications and statistical modelling. Some fields of application are:"
   ]
  },
  {
   "cell_type": "markdown",
   "metadata": {},
   "source": [
    "1. Supervised learning algorithms\n",
    "\n",
    "2. Unsupervised learning algorithms\n",
    "\n",
    "3. Feature extraction\n",
    "\n",
    "4. Cross-validation\n",
    "\n",
    "5. Dimensionality reduction\n",
    "\n",
    "6. Clustering\n",
    "\n",
    "7. Ensemble methods\n",
    "\n",
    "\n",
    "\n",
    "\n",
    "\n",
    "![title](img/scikit.png)\n",
    "\n",
    "\n",
    "\n",
    "\n",
    "\n",
    "\n"
   ]
  },
  {
   "cell_type": "markdown",
   "metadata": {},
   "source": [
    "# Pro and cons of scikit "
   ]
  },
  {
   "cell_type": "markdown",
   "metadata": {},
   "source": [
    "### Pros\n",
    "\n",
    "\n",
    "- distributed under BSD license, which makes it free\n",
    "- easy to use and offers many applications\n",
    "- open source with large community and many people contributing to improve and extend the library\n",
    "- can be integrated via API \n",
    "\n",
    "\n",
    "### Cons\n",
    "\n",
    "- can't do Automatic Machine Learning (AutoML) and more complex pipelines \n",
    "- problem with deep learning frameworks (TensorFlow, Keras, PyTorch, Poutyne)\n",
    "- lacks to provide lifecycle methods to manage resources and GPU memory allocation"
   ]
  },
  {
   "cell_type": "markdown",
   "metadata": {},
   "source": [
    "# Applications to carbon market trading data\n",
    "\n",
    "\n",
    "Carbon markets are a key policy tool used worldwide. One of the frst and largest carbon markets to date is the European Union Emissions trading System (EU ETS), which was mplemented in 2005.\n",
    "\n",
    "Total amount of greenhouse gas emissions is caped for certain industries. Firms belonging to these industries need to surrender one emission allowance for each ton of CO2 emitted in each year. However, not only firms thatneed to comply with the climate regulation are allowed in the markets, in the beginning there were no restrictions for market access. \n",
    " \n",
    "\n",
    "\n",
    "### Application of scikit: fraud detection\n",
    "\n",
    "From 2008 to 2010, the market experienced major fraud scandals that invloved organized crime groups thatperformed VAT carousels and money laundering. Based on news paper articles and conviction documents, it was possible to manually identify and flag fraudulent accounts in the EU ETS registry. \n",
    "\n",
    "\n",
    "\n",
    "![title](img/fraud.png)\n",
    "\n",
    "\n"
   ]
  },
  {
   "cell_type": "markdown",
   "metadata": {},
   "source": [
    "# Import packages"
   ]
  },
  {
   "cell_type": "code",
   "execution_count": 151,
   "metadata": {},
   "outputs": [],
   "source": [
    "# Import packages\n",
    "import sys\n",
    "import pandas as pd\n",
    "import matplotlib as mpl\n",
    "import numpy as np\n",
    "import scipy as sp\n",
    "import IPython\n",
    "import sklearn\n",
    "import itertools\n",
    "import datetime\n",
    "import seaborn as sns\n",
    "\n",
    "import matplotlib.pyplot as plt\n",
    "from matplotlib.ticker import ScalarFormatter\n",
    "import matplotlib.ticker as ticker\n",
    "\n",
    "# standard library imports\n",
    "import os\n",
    "import sys\n",
    "from collections import Counter\n",
    "\n",
    "# sklearn outlier models\n",
    "from sklearn.neighbors import NearestNeighbors\n",
    "from sklearn.neighbors import LocalOutlierFactor # Use pyod's wrapper\n",
    "from sklearn.ensemble import IsolationForest\n",
    "from sklearn.cluster import DBSCAN\n",
    "from sklearn.mixture import GaussianMixture\n",
    "\n",
    "# other sklearn functions\n",
    "from sklearn.decomposition import PCA\n",
    "from sklearn.covariance import MinCovDet, EmpiricalCovariance\n",
    "from sklearn.metrics import roc_auc_score, average_precision_score\n",
    "from sklearn.preprocessing import StandardScaler, RobustScaler, MinMaxScaler\n",
    "from sklearn.preprocessing import LabelEncoder\n",
    "from sklearn.preprocessing import scale as preproc_scale\n",
    "from sklearn.manifold import TSNE\n",
    "\n",
    "# pyod\n",
    "import pyod\n",
    "from pyod.models.auto_encoder import AutoEncoder\n",
    "from pyod.models.knn import KNN\n",
    "from pyod.models.lof import LOF\n",
    "from pyod.models.pca import PCA as pyod_PCA\n",
    "from pyod.models.iforest import IForest\n",
    "from pyod.models.mo_gaal import MO_GAAL\n",
    "from pyod.models.so_gaal import SO_GAAL\n",
    "\n",
    "\n",
    "# preprocessing\n",
    "from sklearn import datasets\n",
    "from sklearn import preprocessing\n",
    "from sklearn.model_selection import train_test_split\n",
    "from sklearn.model_selection import StratifiedShuffleSplit\n",
    "from sklearn.model_selection import KFold, StratifiedKFold\n",
    "import sklearn.model_selection as model_selection\n",
    "\n",
    "\n",
    "# Classifier Libraries\n",
    "from sklearn.linear_model import LogisticRegression\n",
    "from sklearn.metrics import classification_report, confusion_matrix\n",
    "from sklearn.svm import SVC\n",
    "from sklearn.neighbors import KNeighborsClassifier\n",
    "from sklearn.tree import DecisionTreeClassifier\n",
    "from sklearn.ensemble import RandomForestClassifier\n",
    "from sklearn.ensemble import IsolationForest\n",
    "from sklearn.neighbors import LocalOutlierFactor\n",
    "from sklearn import svm\n",
    "from sklearn.neighbors import NearestNeighbors\n",
    "import collections\n",
    "\n",
    "# metrics\n",
    "from sklearn.metrics import classification_report\n",
    "from sklearn.metrics import confusion_matrix\n",
    "from sklearn.metrics import recall_score\n",
    "from sklearn.metrics import roc_auc_score\n",
    "from sklearn.model_selection import GridSearchCV\n",
    "from sklearn.metrics import make_scorer\n",
    "from sklearn.metrics import accuracy_score\n",
    "\n",
    "\n",
    "\n",
    "%matplotlib inline\n"
   ]
  },
  {
   "cell_type": "code",
   "execution_count": 129,
   "metadata": {},
   "outputs": [],
   "source": [
    "\n",
    "def byte_decoder(val):\n",
    "    # decodes byte literals to strings\n",
    "    \n",
    "    return val.decode('utf-8')"
   ]
  },
  {
   "cell_type": "code",
   "execution_count": null,
   "metadata": {},
   "outputs": [],
   "source": []
  },
  {
   "cell_type": "markdown",
   "metadata": {},
   "source": [
    "# Import data "
   ]
  },
  {
   "cell_type": "code",
   "execution_count": 125,
   "metadata": {},
   "outputs": [
    {
     "name": "stdout",
     "output_type": "stream",
     "text": [
      "<class 'pandas.core.frame.DataFrame'>\n",
      "RangeIndex: 40294 entries, 0 to 40293\n",
      "Data columns (total 35 columns):\n",
      " #   Column                            Non-Null Count  Dtype  \n",
      "---  ------                            --------------  -----  \n",
      " 0   accountName                       40294 non-null  object \n",
      " 1   accountHolderName                 40294 non-null  object \n",
      " 2   registryCode                      40294 non-null  object \n",
      " 3   nationalAdminstrator              40294 non-null  object \n",
      " 4   accountType                       40294 non-null  object \n",
      " 5   accountTypeCode                   40294 non-null  object \n",
      " 6   accountOpen                       40294 non-null  bool   \n",
      " 7   accountOpeningDate                40284 non-null  object \n",
      " 8   accountClosingDate                40294 non-null  object \n",
      " 9   DaysAccountOpen                   39368 non-null  float64\n",
      " 10  commitmentPeriod                  19079 non-null  object \n",
      " 11  companyRegistrationNumber         36030 non-null  object \n",
      " 12  installationID                    30144 non-null  object \n",
      " 13  bvdID                             33850 non-null  object \n",
      " 14  contactName                       40294 non-null  object \n",
      " 15  contactType                       40294 non-null  object \n",
      " 16  mainAddress                       40285 non-null  object \n",
      " 17  secondaryAddress                  12539 non-null  object \n",
      " 18  countryCode                       40235 non-null  object \n",
      " 19  postalCode                        40236 non-null  object \n",
      " 20  city                              40285 non-null  object \n",
      " 21  country                           40264 non-null  object \n",
      " 22  account_type_code_new             40294 non-null  int64  \n",
      " 23  account_type_new                  40294 non-null  object \n",
      " 24  new_ID                            40294 non-null  int64  \n",
      " 25  acquire_volume                    31319 non-null  float64\n",
      " 26  acquire_count_transactions        31319 non-null  float64\n",
      " 27  average_volume_per_transaction    31319 non-null  float64\n",
      " 28  acquire_trading_partner           31319 non-null  float64\n",
      " 29  transfer_volume                   31741 non-null  float64\n",
      " 30  transfer_count_transactions       31741 non-null  float64\n",
      " 31  average_volume_per_transaction.1  31741 non-null  float64\n",
      " 32  transfer_trading_partner          31741 non-null  float64\n",
      " 33  Fraudulent                        40294 non-null  bool   \n",
      " 34  Unnamed: 34                       2 non-null      object \n",
      "dtypes: bool(2), float64(9), int64(2), object(22)\n",
      "memory usage: 10.2+ MB\n"
     ]
    },
    {
     "name": "stderr",
     "output_type": "stream",
     "text": [
      "/Users/kotsch/opt/anaconda3/lib/python3.7/site-packages/IPython/core/interactiveshell.py:3063: DtypeWarning: Columns (34) have mixed types.Specify dtype option on import or set low_memory=False.\n",
      "  interactivity=interactivity, compiler=compiler, result=result)\n"
     ]
    }
   ],
   "source": [
    "# import account data with flaged fraud accounts\n",
    "file_acc = \"/Users/kotsch/Documents/07_Projects/2020_03_Fraud_detection/Data/accounts_aggregated_fraud_labeled.csv\"\n",
    "df_acc = pd.read_csv(file_acc)\n",
    "df_acc.info()"
   ]
  },
  {
   "cell_type": "markdown",
   "metadata": {},
   "source": [
    "## Clean numerical variables"
   ]
  },
  {
   "cell_type": "code",
   "execution_count": 126,
   "metadata": {},
   "outputs": [
    {
     "name": "stdout",
     "output_type": "stream",
     "text": [
      "table size before cleaning,  (40294, 35)\n",
      "<class 'pandas.core.frame.DataFrame'>\n",
      "RangeIndex: 40294 entries, 0 to 40293\n",
      "Data columns (total 36 columns):\n",
      " #   Column                            Non-Null Count  Dtype  \n",
      "---  ------                            --------------  -----  \n",
      " 0   accountName                       40294 non-null  object \n",
      " 1   accountHolderName                 40294 non-null  object \n",
      " 2   registryCode                      40294 non-null  object \n",
      " 3   nationalAdminstrator              40294 non-null  object \n",
      " 4   accountType                       40294 non-null  object \n",
      " 5   accountTypeCode                   40294 non-null  object \n",
      " 6   accountOpen                       40294 non-null  bool   \n",
      " 7   accountOpeningDate                40294 non-null  object \n",
      " 8   accountClosingDate                40294 non-null  object \n",
      " 9   DaysAccountOpen                   40294 non-null  float64\n",
      " 10  commitmentPeriod                  40294 non-null  object \n",
      " 11  companyRegistrationNumber         40294 non-null  object \n",
      " 12  installationID                    40294 non-null  object \n",
      " 13  bvdID                             40294 non-null  object \n",
      " 14  contactName                       40294 non-null  object \n",
      " 15  contactType                       40294 non-null  object \n",
      " 16  mainAddress                       40294 non-null  object \n",
      " 17  secondaryAddress                  40294 non-null  object \n",
      " 18  countryCode                       40294 non-null  object \n",
      " 19  postalCode                        40294 non-null  object \n",
      " 20  city                              40294 non-null  object \n",
      " 21  country                           40294 non-null  object \n",
      " 22  account_type_code_new             40294 non-null  int64  \n",
      " 23  account_type_new                  40294 non-null  object \n",
      " 24  new_ID                            40294 non-null  int64  \n",
      " 25  acquire_volume                    40294 non-null  float64\n",
      " 26  acquire_count_transactions        40294 non-null  float64\n",
      " 27  average_volume_per_transaction    40294 non-null  float64\n",
      " 28  acquire_trading_partner           40294 non-null  float64\n",
      " 29  transfer_volume                   40294 non-null  float64\n",
      " 30  transfer_count_transactions       40294 non-null  float64\n",
      " 31  average_volume_per_transaction.1  40294 non-null  float64\n",
      " 32  transfer_trading_partner          40294 non-null  float64\n",
      " 33  Fraudulent                        40294 non-null  bool   \n",
      " 34  Unnamed: 34                       40294 non-null  object \n",
      " 35  fraud                             40294 non-null  int64  \n",
      "dtypes: bool(2), float64(9), int64(3), object(22)\n",
      "memory usage: 10.5+ MB\n"
     ]
    }
   ],
   "source": [
    "#shape of the original vs. cleaned sample\n",
    "print('table size before cleaning, ', df_acc.shape)\n",
    "\n",
    "\n",
    "# replace NA values\n",
    "df_acc.fillna(0, inplace = True)\n",
    "\n",
    "\n",
    "# Replace the strings (WAHR/FALSCH) with floats (1/0)\n",
    "# Fraud = WAHR = 1 / no fraud = FALSCH = 0\n",
    "df_acc['fraud'] = df_acc['Fraudulent'].replace({False: 0, True: 1}, inplace=False)\n",
    "\n",
    "\n",
    "df_acc.info()\n"
   ]
  },
  {
   "cell_type": "code",
   "execution_count": 127,
   "metadata": {},
   "outputs": [
    {
     "data": {
      "text/plain": [
       "array([[<matplotlib.axes._subplots.AxesSubplot object at 0x7f9c16b40fd0>,\n",
       "        <matplotlib.axes._subplots.AxesSubplot object at 0x7f9c19e56e50>,\n",
       "        <matplotlib.axes._subplots.AxesSubplot object at 0x7f9c1e505550>,\n",
       "        <matplotlib.axes._subplots.AxesSubplot object at 0x7f9c19db2d50>,\n",
       "        <matplotlib.axes._subplots.AxesSubplot object at 0x7f9c19d63590>,\n",
       "        <matplotlib.axes._subplots.AxesSubplot object at 0x7f9c12a13d90>],\n",
       "       [<matplotlib.axes._subplots.AxesSubplot object at 0x7f9c12d785d0>,\n",
       "        <matplotlib.axes._subplots.AxesSubplot object at 0x7f9c12dabdd0>,\n",
       "        <matplotlib.axes._subplots.AxesSubplot object at 0x7f9c12db6950>,\n",
       "        <matplotlib.axes._subplots.AxesSubplot object at 0x7f9c197e0310>,\n",
       "        <matplotlib.axes._subplots.AxesSubplot object at 0x7f9c19c72650>,\n",
       "        <matplotlib.axes._subplots.AxesSubplot object at 0x7f9c19ca6e50>],\n",
       "       [<matplotlib.axes._subplots.AxesSubplot object at 0x7f9c19ce8690>,\n",
       "        <matplotlib.axes._subplots.AxesSubplot object at 0x7f9c19d1be90>,\n",
       "        <matplotlib.axes._subplots.AxesSubplot object at 0x7f9c1ac9c6d0>,\n",
       "        <matplotlib.axes._subplots.AxesSubplot object at 0x7f9c1acd0ed0>,\n",
       "        <matplotlib.axes._subplots.AxesSubplot object at 0x7f9c1ad91710>,\n",
       "        <matplotlib.axes._subplots.AxesSubplot object at 0x7f9c1ae64f10>],\n",
       "       [<matplotlib.axes._subplots.AxesSubplot object at 0x7f9c1bdee750>,\n",
       "        <matplotlib.axes._subplots.AxesSubplot object at 0x7f9c1be21f50>,\n",
       "        <matplotlib.axes._subplots.AxesSubplot object at 0x7f9c1be66790>,\n",
       "        <matplotlib.axes._subplots.AxesSubplot object at 0x7f9c1be97f90>,\n",
       "        <matplotlib.axes._subplots.AxesSubplot object at 0x7f9c1bedb7d0>,\n",
       "        <matplotlib.axes._subplots.AxesSubplot object at 0x7f9c1bf0dfd0>],\n",
       "       [<matplotlib.axes._subplots.AxesSubplot object at 0x7f9c1bf50810>,\n",
       "        <matplotlib.axes._subplots.AxesSubplot object at 0x7f9c1bf81f90>,\n",
       "        <matplotlib.axes._subplots.AxesSubplot object at 0x7f9c1bfc5850>,\n",
       "        <matplotlib.axes._subplots.AxesSubplot object at 0x7f9c1c002bd0>,\n",
       "        <matplotlib.axes._subplots.AxesSubplot object at 0x7f9c1c03a890>,\n",
       "        <matplotlib.axes._subplots.AxesSubplot object at 0x7f9c1c077c10>],\n",
       "       [<matplotlib.axes._subplots.AxesSubplot object at 0x7f9c1c0ae8d0>,\n",
       "        <matplotlib.axes._subplots.AxesSubplot object at 0x7f9c1c0eac50>,\n",
       "        <matplotlib.axes._subplots.AxesSubplot object at 0x7f9c1c122910>,\n",
       "        <matplotlib.axes._subplots.AxesSubplot object at 0x7f9c1c161c90>,\n",
       "        <matplotlib.axes._subplots.AxesSubplot object at 0x7f9c1c197950>,\n",
       "        <matplotlib.axes._subplots.AxesSubplot object at 0x7f9c1c1d4cd0>]],\n",
       "      dtype=object)"
      ]
     },
     "execution_count": 127,
     "metadata": {},
     "output_type": "execute_result"
    },
    {
     "data": {
      "image/png": "[encoded data removed]",
      "text/plain": [
       "<Figure size 1080x720 with 36 Axes>"
      ]
     },
     "metadata": {
      "needs_background": "light"
     },
     "output_type": "display_data"
    }
   ],
   "source": [
    "from pandas.plotting import scatter_matrix\n",
    "\n",
    "attributes = [\"DaysAccountOpen\", \"acquire_volume\", \"transfer_volume\", \n",
    "              \"acquire_count_transactions\", \"transfer_count_transactions\", \"fraud\"]\n",
    "\n",
    "scatter_matrix(df_acc[attributes], figsize=(15, 10))"
   ]
  },
  {
   "cell_type": "code",
   "execution_count": 128,
   "metadata": {},
   "outputs": [
    {
     "name": "stderr",
     "output_type": "stream",
     "text": [
      "/Users/kotsch/opt/anaconda3/lib/python3.7/site-packages/pandas/plotting/_matplotlib/misc.py:80: UserWarning: Attempting to set identical left == right == 1.0 results in singular transformations; automatically expanding.\n",
      "  ax.set_xlim(boundaries_list[j])\n",
      "/Users/kotsch/opt/anaconda3/lib/python3.7/site-packages/pandas/plotting/_matplotlib/misc.py:81: UserWarning: Attempting to set identical bottom == top == 1.0 results in singular transformations; automatically expanding.\n",
      "  ax.set_ylim(boundaries_list[i])\n",
      "/Users/kotsch/opt/anaconda3/lib/python3.7/site-packages/pandas/plotting/_matplotlib/misc.py:71: UserWarning: Attempting to set identical left == right == 1.0 results in singular transformations; automatically expanding.\n",
      "  ax.set_xlim(boundaries_list[i])\n"
     ]
    },
    {
     "data": {
      "text/plain": [
       "array([[<matplotlib.axes._subplots.AxesSubplot object at 0x7f9c135b8f90>,\n",
       "        <matplotlib.axes._subplots.AxesSubplot object at 0x7f9c1c2d67d0>,\n",
       "        <matplotlib.axes._subplots.AxesSubplot object at 0x7f9c1c2f1ad0>,\n",
       "        <matplotlib.axes._subplots.AxesSubplot object at 0x7f9c19bf4c90>,\n",
       "        <matplotlib.axes._subplots.AxesSubplot object at 0x7f9c19c2b950>,\n",
       "        <matplotlib.axes._subplots.AxesSubplot object at 0x7f9c1cdcacd0>],\n",
       "       [<matplotlib.axes._subplots.AxesSubplot object at 0x7f9c1ce02990>,\n",
       "        <matplotlib.axes._subplots.AxesSubplot object at 0x7f9c1ce3e1d0>,\n",
       "        <matplotlib.axes._subplots.AxesSubplot object at 0x7f9c1ce3ed10>,\n",
       "        <matplotlib.axes._subplots.AxesSubplot object at 0x7f9c1ce806d0>,\n",
       "        <matplotlib.axes._subplots.AxesSubplot object at 0x7f9c1ceeda10>,\n",
       "        <matplotlib.axes._subplots.AxesSubplot object at 0x7f9c1cf2ad90>],\n",
       "       [<matplotlib.axes._subplots.AxesSubplot object at 0x7f9c1cf5fa50>,\n",
       "        <matplotlib.axes._subplots.AxesSubplot object at 0x7f9c1cf9fdd0>,\n",
       "        <matplotlib.axes._subplots.AxesSubplot object at 0x7f9c1cfd3a90>,\n",
       "        <matplotlib.axes._subplots.AxesSubplot object at 0x7f9c1d013e10>,\n",
       "        <matplotlib.axes._subplots.AxesSubplot object at 0x7f9c1d1baad0>,\n",
       "        <matplotlib.axes._subplots.AxesSubplot object at 0x7f9c1d319e50>],\n",
       "       [<matplotlib.axes._subplots.AxesSubplot object at 0x7f9c1d3cfb10>,\n",
       "        <matplotlib.axes._subplots.AxesSubplot object at 0x7f9c1d40ee90>,\n",
       "        <matplotlib.axes._subplots.AxesSubplot object at 0x7f9c1d446b50>,\n",
       "        <matplotlib.axes._subplots.AxesSubplot object at 0x7f9c1d482ed0>,\n",
       "        <matplotlib.axes._subplots.AxesSubplot object at 0x7f9c1d4bab90>,\n",
       "        <matplotlib.axes._subplots.AxesSubplot object at 0x7f9c1d4f9f10>],\n",
       "       [<matplotlib.axes._subplots.AxesSubplot object at 0x7f9c1d52fbd0>,\n",
       "        <matplotlib.axes._subplots.AxesSubplot object at 0x7f9c1d60ef50>,\n",
       "        <matplotlib.axes._subplots.AxesSubplot object at 0x7f9c1d7e5c10>,\n",
       "        <matplotlib.axes._subplots.AxesSubplot object at 0x7f9c1d865f90>,\n",
       "        <matplotlib.axes._subplots.AxesSubplot object at 0x7f9c1d8d7c50>,\n",
       "        <matplotlib.axes._subplots.AxesSubplot object at 0x7f9c1d9b9fd0>],\n",
       "       [<matplotlib.axes._subplots.AxesSubplot object at 0x7f9c1dd0dc90>,\n",
       "        <matplotlib.axes._subplots.AxesSubplot object at 0x7f9c1de2f4d0>,\n",
       "        <matplotlib.axes._subplots.AxesSubplot object at 0x7f9c1de63cd0>,\n",
       "        <matplotlib.axes._subplots.AxesSubplot object at 0x7f9c1e03d510>,\n",
       "        <matplotlib.axes._subplots.AxesSubplot object at 0x7f9c1e117d10>,\n",
       "        <matplotlib.axes._subplots.AxesSubplot object at 0x7f9c1e569550>]],\n",
       "      dtype=object)"
      ]
     },
     "execution_count": 128,
     "metadata": {},
     "output_type": "execute_result"
    },
    {
     "data": {
      "image/png": "[encoded data removed]",
      "text/plain": [
       "<Figure size 1080x720 with 36 Axes>"
      ]
     },
     "metadata": {
      "needs_background": "light"
     },
     "output_type": "display_data"
    }
   ],
   "source": [
    "df_fraud = df_acc[df_acc['Fraudulent'] == True]\n",
    "\n",
    "scatter_matrix(df_fraud[attributes], figsize=(15, 10))"
   ]
  },
  {
   "cell_type": "markdown",
   "metadata": {},
   "source": [
    "# Data cleaning & preprocessing\n",
    "\n",
    "Transaction data from 2005 to 2015. Aggregation of trading metrics for each account in the registry. "
   ]
  },
  {
   "cell_type": "markdown",
   "metadata": {},
   "source": [
    "## Encode categorical attributes"
   ]
  },
  {
   "cell_type": "code",
   "execution_count": 6,
   "metadata": {},
   "outputs": [],
   "source": [
    "from sklearn.preprocessing import OrdinalEncoder\n",
    "\n",
    "ordinal_encoder = OrdinalEncoder()\n",
    "df_acc[\"accountType_encode\"] = ordinal_encoder.fit_transform(df_acc[[\"accountType\"]])"
   ]
  },
  {
   "cell_type": "code",
   "execution_count": 7,
   "metadata": {},
   "outputs": [
    {
     "data": {
      "text/plain": [
       "array([[30.],\n",
       "       [21.],\n",
       "       [25.],\n",
       "       ...,\n",
       "       [20.],\n",
       "       [ 1.],\n",
       "       [27.]])"
      ]
     },
     "execution_count": 7,
     "metadata": {},
     "output_type": "execute_result"
    }
   ],
   "source": [
    "accounttype = df_acc[[\"accountType\"]]\n",
    "accounttype_encode = ordinal_encoder.fit_transform(accounttype)\n",
    "accounttype_encode"
   ]
  },
  {
   "cell_type": "markdown",
   "metadata": {},
   "source": [
    "### One-hot encoding"
   ]
  },
  {
   "cell_type": "code",
   "execution_count": 122,
   "metadata": {},
   "outputs": [
    {
     "data": {
      "text/html": [
       "<div>\n",
       "<style scoped>\n",
       "    .dataframe tbody tr th:only-of-type {\n",
       "        vertical-align: middle;\n",
       "    }\n",
       "\n",
       "    .dataframe tbody tr th {\n",
       "        vertical-align: top;\n",
       "    }\n",
       "\n",
       "    .dataframe thead th {\n",
       "        text-align: right;\n",
       "    }\n",
       "</style>\n",
       "<table border=\"1\" class=\"dataframe\">\n",
       "  <thead>\n",
       "    <tr style=\"text-align: right;\">\n",
       "      <th></th>\n",
       "      <th>accountName</th>\n",
       "      <th>accountHolderName</th>\n",
       "      <th>registryCode</th>\n",
       "      <th>nationalAdminstrator</th>\n",
       "      <th>accountType</th>\n",
       "      <th>accountTypeCode</th>\n",
       "      <th>accountOpen</th>\n",
       "      <th>accountOpeningDate</th>\n",
       "      <th>accountClosingDate</th>\n",
       "      <th>DaysAccountOpen</th>\n",
       "      <th>...</th>\n",
       "      <th>fraud</th>\n",
       "      <th>accountType_encode</th>\n",
       "      <th>standard scaling</th>\n",
       "      <th>min-max scaling</th>\n",
       "      <th>max-abs scaling</th>\n",
       "      <th>robust scaling</th>\n",
       "      <th>quantile transformation (uniform pdf)</th>\n",
       "      <th>quantile transformation (gaussian pdf)</th>\n",
       "      <th>sample-wise L2 normalizing</th>\n",
       "      <th>scaledX</th>\n",
       "    </tr>\n",
       "  </thead>\n",
       "  <tbody>\n",
       "    <tr>\n",
       "      <th>0</th>\n",
       "      <td>DK Frivillig annulleringskonto:DK1</td>\n",
       "      <td>Energistyrelsen</td>\n",
       "      <td>DK</td>\n",
       "      <td>Denmark</td>\n",
       "      <td>Voluntary Cancellation Account (Type 3)</td>\n",
       "      <td>230-0</td>\n",
       "      <td>True</td>\n",
       "      <td>01.01.05 00:00</td>\n",
       "      <td>31.12.15</td>\n",
       "      <td>4016.0</td>\n",
       "      <td>...</td>\n",
       "      <td>0</td>\n",
       "      <td>(0, 30)\\t1.0\\n  (1, 21)\\t1.0\\n  (2, 25)\\t1.0...</td>\n",
       "      <td>0.070233</td>\n",
       "      <td>1.294705e-03</td>\n",
       "      <td>1.294705e-03</td>\n",
       "      <td>39.847344</td>\n",
       "      <td>0.967137</td>\n",
       "      <td>1.840289</td>\n",
       "      <td>1.0</td>\n",
       "      <td>0.070233</td>\n",
       "    </tr>\n",
       "    <tr>\n",
       "      <th>1</th>\n",
       "      <td>DK DK kvotekonto (Kyoto)</td>\n",
       "      <td>Energistyrelsen</td>\n",
       "      <td>DK</td>\n",
       "      <td>Denmark</td>\n",
       "      <td>Party Holding Account</td>\n",
       "      <td>100-0</td>\n",
       "      <td>False</td>\n",
       "      <td>01.01.05 00:00</td>\n",
       "      <td>23.07.13 13:37</td>\n",
       "      <td>3125.0</td>\n",
       "      <td>...</td>\n",
       "      <td>0</td>\n",
       "      <td>(0, 30)\\t1.0\\n  (1, 21)\\t1.0\\n  (2, 25)\\t1.0...</td>\n",
       "      <td>7.393104</td>\n",
       "      <td>7.939758e-02</td>\n",
       "      <td>7.939758e-02</td>\n",
       "      <td>2453.892560</td>\n",
       "      <td>0.998731</td>\n",
       "      <td>3.018850</td>\n",
       "      <td>1.0</td>\n",
       "      <td>7.393104</td>\n",
       "    </tr>\n",
       "    <tr>\n",
       "      <th>2</th>\n",
       "      <td>DK national EU-retirement:DK4</td>\n",
       "      <td>Energistyrelsen</td>\n",
       "      <td>DK</td>\n",
       "      <td>Denmark</td>\n",
       "      <td>Retirement Account</td>\n",
       "      <td>300-0</td>\n",
       "      <td>True</td>\n",
       "      <td>01.01.05 00:00</td>\n",
       "      <td>31.12.15</td>\n",
       "      <td>4016.0</td>\n",
       "      <td>...</td>\n",
       "      <td>0</td>\n",
       "      <td>(0, 30)\\t1.0\\n  (1, 21)\\t1.0\\n  (2, 25)\\t1.0...</td>\n",
       "      <td>0.870841</td>\n",
       "      <td>9.833678e-03</td>\n",
       "      <td>9.833678e-03</td>\n",
       "      <td>303.774452</td>\n",
       "      <td>0.993140</td>\n",
       "      <td>2.464522</td>\n",
       "      <td>1.0</td>\n",
       "      <td>0.870841</td>\n",
       "    </tr>\n",
       "    <tr>\n",
       "      <th>3</th>\n",
       "      <td>DK Rugmarken Central:DK5</td>\n",
       "      <td>Farum Fjernvarme A M B A</td>\n",
       "      <td>DK</td>\n",
       "      <td>Denmark</td>\n",
       "      <td>Former Operator Holding Account</td>\n",
       "      <td>120-0</td>\n",
       "      <td>False</td>\n",
       "      <td>01.01.05 00:00</td>\n",
       "      <td>16.04.13 11:08</td>\n",
       "      <td>3027.0</td>\n",
       "      <td>...</td>\n",
       "      <td>0</td>\n",
       "      <td>(0, 30)\\t1.0\\n  (1, 21)\\t1.0\\n  (2, 25)\\t1.0...</td>\n",
       "      <td>-0.050776</td>\n",
       "      <td>4.063642e-06</td>\n",
       "      <td>4.063642e-06</td>\n",
       "      <td>-0.044491</td>\n",
       "      <td>0.461100</td>\n",
       "      <td>-0.097664</td>\n",
       "      <td>1.0</td>\n",
       "      <td>-0.050776</td>\n",
       "    </tr>\n",
       "    <tr>\n",
       "      <th>4</th>\n",
       "      <td>DK Borg J√∏rgensens</td>\n",
       "      <td>Aalborg Kommune</td>\n",
       "      <td>DK</td>\n",
       "      <td>Denmark</td>\n",
       "      <td>Former Operator Holding Account</td>\n",
       "      <td>120-0</td>\n",
       "      <td>False</td>\n",
       "      <td>01.01.05 00:00</td>\n",
       "      <td>09.04.13 07:53</td>\n",
       "      <td>3020.0</td>\n",
       "      <td>...</td>\n",
       "      <td>0</td>\n",
       "      <td>(0, 30)\\t1.0\\n  (1, 21)\\t1.0\\n  (2, 25)\\t1.0...</td>\n",
       "      <td>-0.051121</td>\n",
       "      <td>3.808114e-07</td>\n",
       "      <td>3.808114e-07</td>\n",
       "      <td>-0.158322</td>\n",
       "      <td>0.304860</td>\n",
       "      <td>-0.510473</td>\n",
       "      <td>1.0</td>\n",
       "      <td>-0.051121</td>\n",
       "    </tr>\n",
       "    <tr>\n",
       "      <th>...</th>\n",
       "      <td>...</td>\n",
       "      <td>...</td>\n",
       "      <td>...</td>\n",
       "      <td>...</td>\n",
       "      <td>...</td>\n",
       "      <td>...</td>\n",
       "      <td>...</td>\n",
       "      <td>...</td>\n",
       "      <td>...</td>\n",
       "      <td>...</td>\n",
       "      <td>...</td>\n",
       "      <td>...</td>\n",
       "      <td>...</td>\n",
       "      <td>...</td>\n",
       "      <td>...</td>\n",
       "      <td>...</td>\n",
       "      <td>...</td>\n",
       "      <td>...</td>\n",
       "      <td>...</td>\n",
       "      <td>...</td>\n",
       "      <td>...</td>\n",
       "    </tr>\n",
       "    <tr>\n",
       "      <th>40289</th>\n",
       "      <td>DE CORDENKA</td>\n",
       "      <td>Cordenka GmbH &amp; CO. KG</td>\n",
       "      <td>DE</td>\n",
       "      <td>Germany</td>\n",
       "      <td>Trading Account</td>\n",
       "      <td>100-12</td>\n",
       "      <td>True</td>\n",
       "      <td>17.12.18 15:44</td>\n",
       "      <td>31.12.15</td>\n",
       "      <td>0.0</td>\n",
       "      <td>...</td>\n",
       "      <td>0</td>\n",
       "      <td>(0, 30)\\t1.0\\n  (1, 21)\\t1.0\\n  (2, 25)\\t1.0...</td>\n",
       "      <td>-0.051157</td>\n",
       "      <td>0.000000e+00</td>\n",
       "      <td>0.000000e+00</td>\n",
       "      <td>-0.170092</td>\n",
       "      <td>0.000000</td>\n",
       "      <td>-5.199338</td>\n",
       "      <td>0.0</td>\n",
       "      <td>-0.051157</td>\n",
       "    </tr>\n",
       "    <tr>\n",
       "      <th>40290</th>\n",
       "      <td>NL SIETCO Dutch Registry TA</td>\n",
       "      <td>Shell Eastern Trading (Pte) Limited</td>\n",
       "      <td>NL</td>\n",
       "      <td>Netherlands</td>\n",
       "      <td>Trading Account</td>\n",
       "      <td>100-12</td>\n",
       "      <td>True</td>\n",
       "      <td>09.01.19 14:05</td>\n",
       "      <td>31.12.15</td>\n",
       "      <td>0.0</td>\n",
       "      <td>...</td>\n",
       "      <td>0</td>\n",
       "      <td>(0, 30)\\t1.0\\n  (1, 21)\\t1.0\\n  (2, 25)\\t1.0...</td>\n",
       "      <td>-0.051157</td>\n",
       "      <td>0.000000e+00</td>\n",
       "      <td>0.000000e+00</td>\n",
       "      <td>-0.170092</td>\n",
       "      <td>0.000000</td>\n",
       "      <td>-5.199338</td>\n",
       "      <td>0.0</td>\n",
       "      <td>-0.051157</td>\n",
       "    </tr>\n",
       "    <tr>\n",
       "      <th>40291</th>\n",
       "      <td>IT Cereal Docks Marghera</td>\n",
       "      <td>CEREAL DOCKS MARGHERA S.R.L.</td>\n",
       "      <td>IT</td>\n",
       "      <td>Italy</td>\n",
       "      <td>Operator Holding Account</td>\n",
       "      <td>100-7</td>\n",
       "      <td>True</td>\n",
       "      <td>24.12.18 10:30</td>\n",
       "      <td>31.12.15</td>\n",
       "      <td>0.0</td>\n",
       "      <td>...</td>\n",
       "      <td>0</td>\n",
       "      <td>(0, 30)\\t1.0\\n  (1, 21)\\t1.0\\n  (2, 25)\\t1.0...</td>\n",
       "      <td>-0.051157</td>\n",
       "      <td>0.000000e+00</td>\n",
       "      <td>0.000000e+00</td>\n",
       "      <td>-0.170092</td>\n",
       "      <td>0.000000</td>\n",
       "      <td>-5.199338</td>\n",
       "      <td>0.0</td>\n",
       "      <td>-0.051157</td>\n",
       "    </tr>\n",
       "    <tr>\n",
       "      <th>40292</th>\n",
       "      <td>GB Maltese Falcon LLC</td>\n",
       "      <td>Maltese Falcon</td>\n",
       "      <td>GB</td>\n",
       "      <td>United Kingdom</td>\n",
       "      <td>Aircraft Operator Account</td>\n",
       "      <td>100-9</td>\n",
       "      <td>True</td>\n",
       "      <td>11.01.19 11:35</td>\n",
       "      <td>31.12.15</td>\n",
       "      <td>0.0</td>\n",
       "      <td>...</td>\n",
       "      <td>0</td>\n",
       "      <td>(0, 30)\\t1.0\\n  (1, 21)\\t1.0\\n  (2, 25)\\t1.0...</td>\n",
       "      <td>-0.051157</td>\n",
       "      <td>0.000000e+00</td>\n",
       "      <td>0.000000e+00</td>\n",
       "      <td>-0.170092</td>\n",
       "      <td>0.000000</td>\n",
       "      <td>-5.199338</td>\n",
       "      <td>0.0</td>\n",
       "      <td>-0.051157</td>\n",
       "    </tr>\n",
       "    <tr>\n",
       "      <th>40293</th>\n",
       "      <td>NO Tussa Energi AS</td>\n",
       "      <td>Tussa Energi AS</td>\n",
       "      <td>NO</td>\n",
       "      <td>Norway</td>\n",
       "      <td>Trading Account</td>\n",
       "      <td>100-12</td>\n",
       "      <td>True</td>\n",
       "      <td>11.01.19 14:07</td>\n",
       "      <td>31.12.15</td>\n",
       "      <td>0.0</td>\n",
       "      <td>...</td>\n",
       "      <td>0</td>\n",
       "      <td>(0, 30)\\t1.0\\n  (1, 21)\\t1.0\\n  (2, 25)\\t1.0...</td>\n",
       "      <td>-0.051157</td>\n",
       "      <td>0.000000e+00</td>\n",
       "      <td>0.000000e+00</td>\n",
       "      <td>-0.170092</td>\n",
       "      <td>0.000000</td>\n",
       "      <td>-5.199338</td>\n",
       "      <td>0.0</td>\n",
       "      <td>-0.051157</td>\n",
       "    </tr>\n",
       "  </tbody>\n",
       "</table>\n",
       "<p>40294 rows × 45 columns</p>\n",
       "</div>"
      ],
      "text/plain": [
       "                              accountName  \\\n",
       "0      DK Frivillig annulleringskonto:DK1   \n",
       "1                DK DK kvotekonto (Kyoto)   \n",
       "2           DK national EU-retirement:DK4   \n",
       "3                DK Rugmarken Central:DK5   \n",
       "4                     DK Borg J√∏rgensens   \n",
       "...                                   ...   \n",
       "40289                         DE CORDENKA   \n",
       "40290         NL SIETCO Dutch Registry TA   \n",
       "40291            IT Cereal Docks Marghera   \n",
       "40292               GB Maltese Falcon LLC   \n",
       "40293                  NO Tussa Energi AS   \n",
       "\n",
       "                         accountHolderName registryCode nationalAdminstrator  \\\n",
       "0                          Energistyrelsen           DK              Denmark   \n",
       "1                          Energistyrelsen           DK              Denmark   \n",
       "2                          Energistyrelsen           DK              Denmark   \n",
       "3                 Farum Fjernvarme A M B A           DK              Denmark   \n",
       "4                          Aalborg Kommune           DK              Denmark   \n",
       "...                                    ...          ...                  ...   \n",
       "40289               Cordenka GmbH & CO. KG           DE              Germany   \n",
       "40290  Shell Eastern Trading (Pte) Limited           NL          Netherlands   \n",
       "40291         CEREAL DOCKS MARGHERA S.R.L.           IT                Italy   \n",
       "40292                       Maltese Falcon           GB       United Kingdom   \n",
       "40293                      Tussa Energi AS           NO               Norway   \n",
       "\n",
       "                                   accountType accountTypeCode  accountOpen  \\\n",
       "0      Voluntary Cancellation Account (Type 3)           230-0         True   \n",
       "1                        Party Holding Account           100-0        False   \n",
       "2                           Retirement Account           300-0         True   \n",
       "3              Former Operator Holding Account           120-0        False   \n",
       "4              Former Operator Holding Account           120-0        False   \n",
       "...                                        ...             ...          ...   \n",
       "40289                          Trading Account          100-12         True   \n",
       "40290                          Trading Account          100-12         True   \n",
       "40291                 Operator Holding Account           100-7         True   \n",
       "40292                Aircraft Operator Account           100-9         True   \n",
       "40293                          Trading Account          100-12         True   \n",
       "\n",
       "      accountOpeningDate accountClosingDate  DaysAccountOpen  ... fraud  \\\n",
       "0         01.01.05 00:00           31.12.15           4016.0  ...     0   \n",
       "1         01.01.05 00:00     23.07.13 13:37           3125.0  ...     0   \n",
       "2         01.01.05 00:00           31.12.15           4016.0  ...     0   \n",
       "3         01.01.05 00:00     16.04.13 11:08           3027.0  ...     0   \n",
       "4         01.01.05 00:00     09.04.13 07:53           3020.0  ...     0   \n",
       "...                  ...                ...              ...  ...   ...   \n",
       "40289     17.12.18 15:44           31.12.15              0.0  ...     0   \n",
       "40290     09.01.19 14:05           31.12.15              0.0  ...     0   \n",
       "40291     24.12.18 10:30           31.12.15              0.0  ...     0   \n",
       "40292     11.01.19 11:35           31.12.15              0.0  ...     0   \n",
       "40293     11.01.19 14:07           31.12.15              0.0  ...     0   \n",
       "\n",
       "                                      accountType_encode standard scaling  \\\n",
       "0        (0, 30)\\t1.0\\n  (1, 21)\\t1.0\\n  (2, 25)\\t1.0...         0.070233   \n",
       "1        (0, 30)\\t1.0\\n  (1, 21)\\t1.0\\n  (2, 25)\\t1.0...         7.393104   \n",
       "2        (0, 30)\\t1.0\\n  (1, 21)\\t1.0\\n  (2, 25)\\t1.0...         0.870841   \n",
       "3        (0, 30)\\t1.0\\n  (1, 21)\\t1.0\\n  (2, 25)\\t1.0...        -0.050776   \n",
       "4        (0, 30)\\t1.0\\n  (1, 21)\\t1.0\\n  (2, 25)\\t1.0...        -0.051121   \n",
       "...                                                  ...              ...   \n",
       "40289    (0, 30)\\t1.0\\n  (1, 21)\\t1.0\\n  (2, 25)\\t1.0...        -0.051157   \n",
       "40290    (0, 30)\\t1.0\\n  (1, 21)\\t1.0\\n  (2, 25)\\t1.0...        -0.051157   \n",
       "40291    (0, 30)\\t1.0\\n  (1, 21)\\t1.0\\n  (2, 25)\\t1.0...        -0.051157   \n",
       "40292    (0, 30)\\t1.0\\n  (1, 21)\\t1.0\\n  (2, 25)\\t1.0...        -0.051157   \n",
       "40293    (0, 30)\\t1.0\\n  (1, 21)\\t1.0\\n  (2, 25)\\t1.0...        -0.051157   \n",
       "\n",
       "      min-max scaling max-abs scaling robust scaling  \\\n",
       "0        1.294705e-03    1.294705e-03      39.847344   \n",
       "1        7.939758e-02    7.939758e-02    2453.892560   \n",
       "2        9.833678e-03    9.833678e-03     303.774452   \n",
       "3        4.063642e-06    4.063642e-06      -0.044491   \n",
       "4        3.808114e-07    3.808114e-07      -0.158322   \n",
       "...               ...             ...            ...   \n",
       "40289    0.000000e+00    0.000000e+00      -0.170092   \n",
       "40290    0.000000e+00    0.000000e+00      -0.170092   \n",
       "40291    0.000000e+00    0.000000e+00      -0.170092   \n",
       "40292    0.000000e+00    0.000000e+00      -0.170092   \n",
       "40293    0.000000e+00    0.000000e+00      -0.170092   \n",
       "\n",
       "      quantile transformation (uniform pdf)  \\\n",
       "0                                  0.967137   \n",
       "1                                  0.998731   \n",
       "2                                  0.993140   \n",
       "3                                  0.461100   \n",
       "4                                  0.304860   \n",
       "...                                     ...   \n",
       "40289                              0.000000   \n",
       "40290                              0.000000   \n",
       "40291                              0.000000   \n",
       "40292                              0.000000   \n",
       "40293                              0.000000   \n",
       "\n",
       "      quantile transformation (gaussian pdf) sample-wise L2 normalizing  \\\n",
       "0                                   1.840289                        1.0   \n",
       "1                                   3.018850                        1.0   \n",
       "2                                   2.464522                        1.0   \n",
       "3                                  -0.097664                        1.0   \n",
       "4                                  -0.510473                        1.0   \n",
       "...                                      ...                        ...   \n",
       "40289                              -5.199338                        0.0   \n",
       "40290                              -5.199338                        0.0   \n",
       "40291                              -5.199338                        0.0   \n",
       "40292                              -5.199338                        0.0   \n",
       "40293                              -5.199338                        0.0   \n",
       "\n",
       "        scaledX  \n",
       "0      0.070233  \n",
       "1      7.393104  \n",
       "2      0.870841  \n",
       "3     -0.050776  \n",
       "4     -0.051121  \n",
       "...         ...  \n",
       "40289 -0.051157  \n",
       "40290 -0.051157  \n",
       "40291 -0.051157  \n",
       "40292 -0.051157  \n",
       "40293 -0.051157  \n",
       "\n",
       "[40294 rows x 45 columns]"
      ]
     },
     "execution_count": 122,
     "metadata": {},
     "output_type": "execute_result"
    }
   ],
   "source": [
    "from sklearn.preprocessing import OneHotEncoder\n",
    "\n",
    "cat_encoder = OneHotEncoder()\n",
    "\n",
    "df_acc[\"accountType_encode\"] = cat_encoder.fit_transform(df_acc[[\"accountType\"]])\n",
    "\n",
    "df_acc \n",
    "\n",
    "# results in SciPy sparse matrix, instead of a NumPy array"
   ]
  },
  {
   "cell_type": "code",
   "execution_count": 9,
   "metadata": {},
   "outputs": [],
   "source": [
    "df_acc[\"accountType_encode\"] = cat_encoder.fit_transform(df_acc[[\"accountType\"]])"
   ]
  },
  {
   "cell_type": "code",
   "execution_count": 10,
   "metadata": {},
   "outputs": [
    {
     "data": {
      "text/plain": [
       "array([[0., 0., 0., ..., 0., 0., 0.],\n",
       "       [0., 0., 0., ..., 0., 0., 0.],\n",
       "       [0., 0., 0., ..., 0., 0., 0.],\n",
       "       ...,\n",
       "       [0., 0., 0., ..., 0., 0., 0.],\n",
       "       [0., 1., 0., ..., 0., 0., 0.],\n",
       "       [0., 0., 0., ..., 0., 0., 0.]])"
      ]
     },
     "execution_count": 10,
     "metadata": {},
     "output_type": "execute_result"
    }
   ],
   "source": [
    "accounttype_hot = cat_encoder.fit_transform(accounttype)\n",
    "accounttype_hot.toarray()"
   ]
  },
  {
   "cell_type": "markdown",
   "metadata": {},
   "source": [
    "## Explore data "
   ]
  },
  {
   "cell_type": "code",
   "execution_count": 11,
   "metadata": {},
   "outputs": [
    {
     "data": {
      "text/plain": [
       "False    40136\n",
       "True       158\n",
       "Name: Fraudulent, dtype: int64"
      ]
     },
     "execution_count": 11,
     "metadata": {},
     "output_type": "execute_result"
    }
   ],
   "source": [
    "# Ratio of Fraudulent to non Fraudulent Data (False = no fraud / True = Fraud)\n",
    "df_acc['Fraudulent'].value_counts()"
   ]
  },
  {
   "cell_type": "code",
   "execution_count": 12,
   "metadata": {},
   "outputs": [
    {
     "data": {
      "text/plain": [
       "Text(0.5, 1.0, 'Fraudulent Companies')"
      ]
     },
     "execution_count": 12,
     "metadata": {},
     "output_type": "execute_result"
    },
    {
     "data": {
      "image/png": "[encoded data removed]",
      "text/plain": [
       "<Figure size 432x288 with 1 Axes>"
      ]
     },
     "metadata": {},
     "output_type": "display_data"
    }
   ],
   "source": [
    "# Graphic of Ratio Fraud vs. non-fraud\n",
    "df_acc['Fraudulent'].value_counts(['True', 'False']).plot.pie(autopct = '%1.2f%%',\n",
    "                                                            radius = 1,\n",
    "                                                            pctdistance = 0.7,\n",
    "                                                            labeldistance = 1.1,)\n",
    "plt.title('Fraudulent Companies')"
   ]
  },
  {
   "cell_type": "code",
   "execution_count": 13,
   "metadata": {},
   "outputs": [
    {
     "data": {
      "text/html": [
       "<div>\n",
       "<style scoped>\n",
       "    .dataframe tbody tr th:only-of-type {\n",
       "        vertical-align: middle;\n",
       "    }\n",
       "\n",
       "    .dataframe tbody tr th {\n",
       "        vertical-align: top;\n",
       "    }\n",
       "\n",
       "    .dataframe thead th {\n",
       "        text-align: right;\n",
       "    }\n",
       "</style>\n",
       "<table border=\"1\" class=\"dataframe\">\n",
       "  <thead>\n",
       "    <tr style=\"text-align: right;\">\n",
       "      <th></th>\n",
       "      <th>count</th>\n",
       "      <th>mean</th>\n",
       "      <th>std</th>\n",
       "      <th>min</th>\n",
       "      <th>25%</th>\n",
       "      <th>50%</th>\n",
       "      <th>75%</th>\n",
       "      <th>max</th>\n",
       "    </tr>\n",
       "    <tr>\n",
       "      <th>Fraudulent</th>\n",
       "      <th></th>\n",
       "      <th></th>\n",
       "      <th></th>\n",
       "      <th></th>\n",
       "      <th></th>\n",
       "      <th></th>\n",
       "      <th></th>\n",
       "      <th></th>\n",
       "    </tr>\n",
       "  </thead>\n",
       "  <tbody>\n",
       "    <tr>\n",
       "      <th>False</th>\n",
       "      <td>40136.0</td>\n",
       "      <td>4.936127e+06</td>\n",
       "      <td>9.689370e+07</td>\n",
       "      <td>0.0</td>\n",
       "      <td>150.75</td>\n",
       "      <td>49633.5</td>\n",
       "      <td>289991.25</td>\n",
       "      <td>9.067481e+09</td>\n",
       "    </tr>\n",
       "    <tr>\n",
       "      <th>True</th>\n",
       "      <td>158.0</td>\n",
       "      <td>7.817142e+06</td>\n",
       "      <td>1.955730e+07</td>\n",
       "      <td>0.0</td>\n",
       "      <td>0.00</td>\n",
       "      <td>568609.0</td>\n",
       "      <td>6873931.75</td>\n",
       "      <td>1.719729e+08</td>\n",
       "    </tr>\n",
       "  </tbody>\n",
       "</table>\n",
       "</div>"
      ],
      "text/plain": [
       "              count          mean           std  min     25%       50%  \\\n",
       "Fraudulent                                                               \n",
       "False       40136.0  4.936127e+06  9.689370e+07  0.0  150.75   49633.5   \n",
       "True          158.0  7.817142e+06  1.955730e+07  0.0    0.00  568609.0   \n",
       "\n",
       "                   75%           max  \n",
       "Fraudulent                            \n",
       "False        289991.25  9.067481e+09  \n",
       "True        6873931.75  1.719729e+08  "
      ]
     },
     "execution_count": 13,
     "metadata": {},
     "output_type": "execute_result"
    }
   ],
   "source": [
    "df_acc['acquire_volume'].groupby(df_acc['Fraudulent']).describe()"
   ]
  },
  {
   "cell_type": "code",
   "execution_count": 14,
   "metadata": {},
   "outputs": [
    {
     "data": {
      "text/plain": [
       "Text(0.5, 1.0, 'Histogram of acquire volume')"
      ]
     },
     "execution_count": 14,
     "metadata": {},
     "output_type": "execute_result"
    },
    {
     "data": {
      "image/png": "[encoded data removed]",
      "text/plain": [
       "<Figure size 576x432 with 1 Axes>"
      ]
     },
     "metadata": {
      "needs_background": "light"
     },
     "output_type": "display_data"
    }
   ],
   "source": [
    "# histogram acquire volume\n",
    "df_acc['acquire_volume'].plot(kind = 'hist',\n",
    "              bins = range(0,100),\n",
    "              density = True,\n",
    "              color = 'b',\n",
    "              figsize = (8,6))\n",
    "plt.xlabel('acquire volume')\n",
    "plt.ylabel('frequency', fontsize = 10)\n",
    "plt.title('Histogram of acquire volume', fontsize = 15)"
   ]
  },
  {
   "cell_type": "code",
   "execution_count": 15,
   "metadata": {},
   "outputs": [
    {
     "data": {
      "text/plain": [
       "Text(0.5, 1.0, 'Histogram of acquire count transactions')"
      ]
     },
     "execution_count": 15,
     "metadata": {},
     "output_type": "execute_result"
    },
    {
     "data": {
      "image/png": "[encoded data removed]",
      "text/plain": [
       "<Figure size 576x432 with 1 Axes>"
      ]
     },
     "metadata": {
      "needs_background": "light"
     },
     "output_type": "display_data"
    }
   ],
   "source": [
    "df_acc['acquire_count_transactions'].plot(kind = 'hist',\n",
    "              bins = range(0,100),\n",
    "              density = True,\n",
    "              color = 'b',\n",
    "              figsize = (8,6))\n",
    "plt.xlabel('acquire count transactions')\n",
    "plt.ylabel('frequency', fontsize = 10)\n",
    "plt.title('Histogram of acquire count transactions', fontsize = 15)"
   ]
  },
  {
   "cell_type": "code",
   "execution_count": 16,
   "metadata": {},
   "outputs": [
    {
     "data": {
      "text/plain": [
       "Text(0.5, 1.0, 'Days Account Open')"
      ]
     },
     "execution_count": 16,
     "metadata": {},
     "output_type": "execute_result"
    },
    {
     "data": {
      "image/png": "[encoded data removed]",
      "text/plain": [
       "<Figure size 864x432 with 1 Axes>"
      ]
     },
     "metadata": {
      "needs_background": "light"
     },
     "output_type": "display_data"
    }
   ],
   "source": [
    "df_acc['DaysAccountOpen'].plot(kind = 'hist',\n",
    "                            bins = 7,\n",
    "                            color = 'b',\n",
    "                            density = True,\n",
    "                            figsize = (12,6))\n",
    "plt.xlabel('Days Account Open')\n",
    "plt.ylabel('frequency', fontsize = 10)\n",
    "plt.title('Days Account Open', fontsize = 15)"
   ]
  },
  {
   "cell_type": "code",
   "execution_count": 203,
   "metadata": {},
   "outputs": [
    {
     "data": {
      "text/plain": [
       "Text(0.5, 1.0, 'Days Account Open')"
      ]
     },
     "execution_count": 203,
     "metadata": {},
     "output_type": "execute_result"
    },
    {
     "data": {
      "image/png": "[encoded data removed]",
      "text/plain": [
       "<Figure size 864x432 with 1 Axes>"
      ]
     },
     "metadata": {
      "needs_background": "light"
     },
     "output_type": "display_data"
    }
   ],
   "source": [
    "df_fraud['DaysAccountOpen'].plot(kind = 'hist',\n",
    "                            bins = 7,\n",
    "                            color = 'b',\n",
    "                            density = True,\n",
    "                            figsize = (12,6))\n",
    "plt.xlabel('Days Account Open')\n",
    "plt.ylabel('frequency', fontsize = 10)\n",
    "plt.title('Days Account Open', fontsize = 15)"
   ]
  },
  {
   "cell_type": "code",
   "execution_count": 17,
   "metadata": {},
   "outputs": [
    {
     "data": {
      "text/plain": [
       "False    40136\n",
       "True       158\n",
       "Name: Fraudulent, dtype: int64"
      ]
     },
     "execution_count": 17,
     "metadata": {},
     "output_type": "execute_result"
    }
   ],
   "source": [
    "df_acc['Fraudulent'].value_counts()"
   ]
  },
  {
   "cell_type": "code",
   "execution_count": 208,
   "metadata": {},
   "outputs": [
    {
     "data": {
      "image/png": "[encoded data removed]",
      "text/plain": [
       "<Figure size 720x720 with 2 Axes>"
      ]
     },
     "metadata": {
      "needs_background": "light"
     },
     "output_type": "display_data"
    }
   ],
   "source": [
    "# Make sure we use the subsample in our correlation\n",
    "\n",
    "f, (ax1) = plt.subplots(1, 1, figsize=(10,10))\n",
    "\n",
    "# Entire DataFrame\n",
    "corr = df_acc.corr()\n",
    "sns.heatmap(corr, cmap='coolwarm_r', annot_kws={'size':20}, ax=ax1)\n",
    "ax1.set_title(\"Imbalanced Correlation Matrix \\n (don't use for reference)\", fontsize=14)\n",
    "\n",
    "plt.show()"
   ]
  },
  {
   "cell_type": "code",
   "execution_count": 19,
   "metadata": {},
   "outputs": [
    {
     "data": {
      "image/png": "[encoded data removed]",
      "text/plain": [
       "<Figure size 864x432 with 1 Axes>"
      ]
     },
     "metadata": {
      "needs_background": "light"
     },
     "output_type": "display_data"
    }
   ],
   "source": [
    "f, ax = plt.subplots(ncols=1, figsize=(12,6))\n",
    "\n",
    "# Negative Correlations with our Class (The lower our feature value the more likely it will be a fraud transaction)\n",
    "sns.boxplot(x=\"Fraudulent\", y=\"DaysAccountOpen\", data=df_acc, palette=\"Set3\", ax=ax)\n",
    "ax.set_title('DaysAccountOpen vs Class Negative Correlation')\n",
    "\n",
    "plt.show()"
   ]
  },
  {
   "cell_type": "code",
   "execution_count": 20,
   "metadata": {},
   "outputs": [
    {
     "data": {
      "image/png": "[encoded data removed]",
      "text/plain": [
       "<Figure size 864x432 with 1 Axes>"
      ]
     },
     "metadata": {
      "needs_background": "light"
     },
     "output_type": "display_data"
    }
   ],
   "source": [
    "f, ax = plt.subplots(ncols=1, figsize=(12,6))\n",
    "\n",
    "# Negative Correlations with our Class (The lower our feature value the more likely it will be a fraud transaction)\n",
    "sns.boxplot(x=\"Fraudulent\", y=\"acquire_volume\", data=df_acc, palette=\"Set3\", ax=ax)\n",
    "ax.set_title('DaysAccountOpen vs Class Negative Correlation')\n",
    "\n",
    "plt.show()"
   ]
  },
  {
   "cell_type": "code",
   "execution_count": 21,
   "metadata": {},
   "outputs": [
    {
     "data": {
      "image/png": "[encoded data removed]",
      "text/plain": [
       "<Figure size 864x432 with 1 Axes>"
      ]
     },
     "metadata": {
      "needs_background": "light"
     },
     "output_type": "display_data"
    }
   ],
   "source": [
    "f, ax = plt.subplots(ncols=1, figsize=(12,6))\n",
    "\n",
    "# Negative Correlations with our Class (The lower our feature value the more likely it will be a fraud transaction)\n",
    "sns.boxplot(x=\"Fraudulent\", y=\"transfer_volume\", data=df_acc, palette=\"Set3\", ax=ax)\n",
    "ax.set_title('DaysAccountOpen vs Class Negative Correlation')\n",
    "\n",
    "plt.show()\n"
   ]
  },
  {
   "cell_type": "markdown",
   "metadata": {},
   "source": [
    "# Preprocessing: Scaling\n",
    "\n",
    "Since our data is heavily skewed, we need to normalize it first. \n",
    "\n",
    "\n",
    "### Normalization \n",
    "Scales each input variable separately to the range 0-1, which is the range for floating-point values where we have the most precision.\n",
    "\n",
    "### Standardization\n",
    "Scales each input variable separately by subtracting the mean (called centering) and dividing by the standard deviation to shift the distribution to have a mean of zero and a standard deviation of one"
   ]
  },
  {
   "cell_type": "code",
   "execution_count": 22,
   "metadata": {},
   "outputs": [],
   "source": [
    "from sklearn import preprocessing\n",
    "\n",
    "from sklearn.preprocessing import MinMaxScaler\n",
    "from sklearn.preprocessing import minmax_scale\n",
    "from sklearn.preprocessing import MaxAbsScaler\n",
    "from sklearn.preprocessing import StandardScaler\n",
    "from sklearn.preprocessing import RobustScaler\n",
    "from sklearn.preprocessing import Normalizer\n",
    "from sklearn.preprocessing import QuantileTransformer\n",
    "from sklearn.preprocessing import PowerTransformer\n",
    "\n",
    "\n",
    "import seaborn as sns\n",
    "sns.set(style=\"white\", color_codes=True)\n",
    "\n",
    "%matplotlib inline"
   ]
  },
  {
   "cell_type": "code",
   "execution_count": 51,
   "metadata": {},
   "outputs": [
    {
     "data": {
      "text/plain": [
       "array([[1.],\n",
       "       [1.],\n",
       "       [1.],\n",
       "       ...,\n",
       "       [0.],\n",
       "       [0.],\n",
       "       [0.]])"
      ]
     },
     "execution_count": 51,
     "metadata": {},
     "output_type": "execute_result"
    }
   ],
   "source": [
    "normalized_X = preprocessing.normalize(df_acc[['acquire_volume']])\n",
    "normalized_X"
   ]
  },
  {
   "cell_type": "markdown",
   "metadata": {},
   "source": [
    "### Start with standard scaler"
   ]
  },
  {
   "cell_type": "code",
   "execution_count": 70,
   "metadata": {},
   "outputs": [
    {
     "data": {
      "text/plain": [
       "Text(0.5, 1.0, 'Histogram of acquired volume')"
      ]
     },
     "execution_count": 70,
     "metadata": {},
     "output_type": "execute_result"
    },
    {
     "data": {
      "image/png": "[encoded data removed]",
      "text/plain": [
       "<Figure size 576x432 with 1 Axes>"
      ]
     },
     "metadata": {
      "needs_background": "light"
     },
     "output_type": "display_data"
    }
   ],
   "source": [
    "scale = StandardScaler()\n",
    "df_acc['scaledX'] = scale.fit_transform(df_acc[['acquire_volume']])\n",
    "\n",
    "df_acc['scaledX'].plot(kind = 'hist',\n",
    "              bins = range(0,10),\n",
    "              density = True,\n",
    "              color = 'b',\n",
    "              figsize = (8,6))\n",
    "plt.xlabel('acquired volume')\n",
    "plt.ylabel('frequency', fontsize = 10)\n",
    "plt.title('Histogram of acquired volume', fontsize = 15)"
   ]
  },
  {
   "cell_type": "code",
   "execution_count": 23,
   "metadata": {},
   "outputs": [
    {
     "name": "stdout",
     "output_type": "stream",
     "text": [
      "<class 'pandas.core.frame.DataFrame'>\n",
      "RangeIndex: 40294 entries, 0 to 40293\n",
      "Data columns (total 44 columns):\n",
      " #   Column                                  Non-Null Count  Dtype  \n",
      "---  ------                                  --------------  -----  \n",
      " 0   accountName                             40294 non-null  object \n",
      " 1   accountHolderName                       40294 non-null  object \n",
      " 2   registryCode                            40294 non-null  object \n",
      " 3   nationalAdminstrator                    40294 non-null  object \n",
      " 4   accountType                             40294 non-null  object \n",
      " 5   accountTypeCode                         40294 non-null  object \n",
      " 6   accountOpen                             40294 non-null  bool   \n",
      " 7   accountOpeningDate                      40294 non-null  object \n",
      " 8   accountClosingDate                      40294 non-null  object \n",
      " 9   DaysAccountOpen                         40294 non-null  float64\n",
      " 10  commitmentPeriod                        40294 non-null  object \n",
      " 11  companyRegistrationNumber               40294 non-null  object \n",
      " 12  installationID                          40294 non-null  object \n",
      " 13  bvdID                                   40294 non-null  object \n",
      " 14  contactName                             40294 non-null  object \n",
      " 15  contactType                             40294 non-null  object \n",
      " 16  mainAddress                             40294 non-null  object \n",
      " 17  secondaryAddress                        40294 non-null  object \n",
      " 18  countryCode                             40294 non-null  object \n",
      " 19  postalCode                              40294 non-null  object \n",
      " 20  city                                    40294 non-null  object \n",
      " 21  country                                 40294 non-null  object \n",
      " 22  account_type_code_new                   40294 non-null  int64  \n",
      " 23  account_type_new                        40294 non-null  object \n",
      " 24  new_ID                                  40294 non-null  int64  \n",
      " 25  acquire_volume                          40294 non-null  float64\n",
      " 26  acquire_count_transactions              40294 non-null  float64\n",
      " 27  average_volume_per_transaction          40294 non-null  float64\n",
      " 28  acquire_trading_partner                 40294 non-null  float64\n",
      " 29  transfer_volume                         40294 non-null  float64\n",
      " 30  transfer_count_transactions             40294 non-null  float64\n",
      " 31  average_volume_per_transaction.1        40294 non-null  float64\n",
      " 32  transfer_trading_partner                40294 non-null  float64\n",
      " 33  Fraudulent                              40294 non-null  bool   \n",
      " 34  Unnamed: 34                             40294 non-null  object \n",
      " 35  fraud                                   40294 non-null  int64  \n",
      " 36  accountType_encode                      40294 non-null  object \n",
      " 37  standard scaling                        40294 non-null  float64\n",
      " 38  min-max scaling                         40294 non-null  float64\n",
      " 39  max-abs scaling                         40294 non-null  float64\n",
      " 40  robust scaling                          40294 non-null  float64\n",
      " 41  quantile transformation (uniform pdf)   40294 non-null  float64\n",
      " 42  quantile transformation (gaussian pdf)  40294 non-null  float64\n",
      " 43  sample-wise L2 normalizing              40294 non-null  float64\n",
      "dtypes: bool(2), float64(16), int64(3), object(23)\n",
      "memory usage: 13.0+ MB\n"
     ]
    }
   ],
   "source": [
    "# defining X and y\n",
    "X = df_acc[['acquire_volume']]\n",
    "col = df_acc['acquire_volume'].values.reshape(-1, 1)\n",
    "\n",
    "\n",
    "scalers = [\n",
    "    #('Unscaled data', X),\n",
    "    ('standard scaling', StandardScaler()),\n",
    "    ('min-max scaling', MinMaxScaler()),\n",
    "    ('max-abs scaling', MaxAbsScaler()),\n",
    "    ('robust scaling', RobustScaler(quantile_range=(25, 75))),\n",
    "    ('quantile transformation (uniform pdf)', QuantileTransformer(output_distribution='uniform')),\n",
    "    ('quantile transformation (gaussian pdf)', QuantileTransformer(output_distribution='normal')),\n",
    "    ('sample-wise L2 normalizing', Normalizer())\n",
    "]\n",
    "\n",
    "for scaler in scalers:\n",
    "    df_acc[scaler[0]] = scaler[1].fit_transform(col)\n",
    "    \n",
    "df_acc.info()"
   ]
  },
  {
   "cell_type": "code",
   "execution_count": 31,
   "metadata": {},
   "outputs": [
    {
     "data": {
      "text/plain": [
       "Text(0.5, 1.0, 'Histogram of acquire count transactions')"
      ]
     },
     "execution_count": 31,
     "metadata": {},
     "output_type": "execute_result"
    },
    {
     "data": {
      "image/png": "[encoded data removed]",
      "text/plain": [
       "<Figure size 576x432 with 1 Axes>"
      ]
     },
     "metadata": {
      "needs_background": "light"
     },
     "output_type": "display_data"
    }
   ],
   "source": [
    "df_acc['robust scaling'].plot(kind = 'hist',\n",
    "              bins = range(0,10),\n",
    "              density = True,\n",
    "              color = 'b',\n",
    "              figsize = (8,6))\n",
    "plt.xlabel('acquire count transactions')\n",
    "plt.ylabel('frequency', fontsize = 10)\n",
    "plt.title('Histogram of acquire count transactions', fontsize = 15)"
   ]
  },
  {
   "cell_type": "code",
   "execution_count": 32,
   "metadata": {},
   "outputs": [
    {
     "data": {
      "text/plain": [
       "Text(0.5, 1.0, 'Histogram of acquire count transactions')"
      ]
     },
     "execution_count": 32,
     "metadata": {},
     "output_type": "execute_result"
    },
    {
     "data": {
      "image/png": "[encoded data removed]",
      "text/plain": [
       "<Figure size 576x432 with 1 Axes>"
      ]
     },
     "metadata": {
      "needs_background": "light"
     },
     "output_type": "display_data"
    }
   ],
   "source": [
    "df_acc['acquire_volume'].plot(kind = 'hist',\n",
    "              bins = range(0,10),\n",
    "              density = True,\n",
    "              color = 'b',\n",
    "              figsize = (8,6))\n",
    "plt.xlabel('acquire count transactions')\n",
    "plt.ylabel('frequency', fontsize = 10)\n",
    "plt.title('Histogram of acquire count transactions', fontsize = 15)"
   ]
  },
  {
   "cell_type": "markdown",
   "metadata": {},
   "source": [
    "## Split data in training and test set"
   ]
  },
  {
   "cell_type": "code",
   "execution_count": 231,
   "metadata": {},
   "outputs": [
    {
     "name": "stdout",
     "output_type": "stream",
     "text": [
      "No Frauds 99.61 % of the dataset\n",
      "Frauds 0.39 % of the dataset\n",
      "----------------------------------------------------------------------------------------------------\n",
      "Train: [    0     1     2 ... 40290 40291 40293] Test: [    6    12    18 ... 40284 40289 40292]\n",
      "Train: [    0     1     2 ... 40289 40291 40292] Test: [    4    10    11 ... 40285 40290 40293]\n",
      "Train: [    0     1     2 ... 40291 40292 40293] Test: [    5    13    16 ... 40278 40286 40288]\n",
      "Train: [    0     1     2 ... 40291 40292 40293] Test: [    3     8    19 ... 40273 40274 40276]\n",
      "Train: [    3     4     5 ... 40290 40292 40293] Test: [    0     1     2 ... 40280 40287 40291]\n",
      "----------------------------------------------------------------------------------------------------\n",
      "(32236, 5) (32236,)\n",
      "(8058, 5) (8058,)\n",
      "----------------------------------------------------------------------------------------------------\n",
      "Label Distributions: \n",
      "\n",
      "[0.99606031 0.00393969]\n",
      "[0.99615289 0.00384711]\n"
     ]
    }
   ],
   "source": [
    "# Frauds and no Frauds of the cleaned Data\n",
    "print('No Frauds', round(df_acc['Fraudulent'].value_counts()[False]/len(df_acc) * 100,2), '% of the dataset')\n",
    "print('Frauds', round(df_acc['Fraudulent'].value_counts()[True]/len(df_acc) * 100,2), '% of the dataset')\n",
    "\n",
    "print('-' * 100)\n",
    "\n",
    "# defining X and y\n",
    "X = df_acc[['DaysAccountOpen', \n",
    "            'acquire_volume', \n",
    "            'acquire_count_transactions', \n",
    "            'transfer_volume',\n",
    "            'transfer_count_transactions']]\n",
    "y = df_acc['fraud']\n",
    "\n",
    "\n",
    "\n",
    "\n",
    "sss = StratifiedKFold(n_splits=5, random_state=42, shuffle=True)\n",
    "\n",
    "for train_index, test_index in sss.split(X, y):\n",
    "    print(\"Train:\", train_index, \"Test:\", test_index)\n",
    "    original_Xtrain, original_Xtest = X.iloc[train_index], X.iloc[test_index]\n",
    "    original_ytrain, original_ytest = y.iloc[train_index], y.iloc[test_index]\n",
    "    \n",
    "print('-' * 100)\n",
    "\n",
    "# train and test data\n",
    "print(original_Xtrain.shape, original_ytrain.shape)\n",
    "print(original_Xtest.shape, original_ytest.shape)\n",
    "    \n",
    "# Turn into an array\n",
    "original_Xtrain = original_Xtrain.values\n",
    "original_Xtest = original_Xtest.values\n",
    "original_ytrain = original_ytrain.values\n",
    "original_ytest = original_ytest.values\n",
    "\n",
    "# See if both the train and test label distribution are similarly distributed\n",
    "train_unique_label, train_counts_label = np.unique(original_ytrain, return_counts=True)\n",
    "test_unique_label, test_counts_label = np.unique(original_ytest, return_counts=True)\n",
    "print('-' * 100)\n",
    "\n",
    "print('Label Distributions: \\n')\n",
    "print(train_counts_label/ len(original_ytrain))\n",
    "print(test_counts_label/ len(original_ytest))"
   ]
  },
  {
   "cell_type": "code",
   "execution_count": null,
   "metadata": {},
   "outputs": [],
   "source": []
  },
  {
   "cell_type": "markdown",
   "metadata": {},
   "source": [
    "## Example I: Supervised learning"
   ]
  },
  {
   "cell_type": "code",
   "execution_count": 209,
   "metadata": {},
   "outputs": [
    {
     "name": "stderr",
     "output_type": "stream",
     "text": [
      "/Users/kotsch/opt/anaconda3/lib/python3.7/site-packages/scipy/optimize/linesearch.py:466: LineSearchWarning: The line search algorithm did not converge\n",
      "  warn('The line search algorithm did not converge', LineSearchWarning)\n",
      "/Users/kotsch/opt/anaconda3/lib/python3.7/site-packages/scipy/optimize/linesearch.py:314: LineSearchWarning: The line search algorithm did not converge\n",
      "  warn('The line search algorithm did not converge', LineSearchWarning)\n",
      "/Users/kotsch/opt/anaconda3/lib/python3.7/site-packages/scipy/optimize/linesearch.py:466: LineSearchWarning: The line search algorithm did not converge\n",
      "  warn('The line search algorithm did not converge', LineSearchWarning)\n",
      "/Users/kotsch/opt/anaconda3/lib/python3.7/site-packages/scipy/optimize/linesearch.py:314: LineSearchWarning: The line search algorithm did not converge\n",
      "  warn('The line search algorithm did not converge', LineSearchWarning)\n",
      "/Users/kotsch/opt/anaconda3/lib/python3.7/site-packages/scipy/optimize/linesearch.py:466: LineSearchWarning: The line search algorithm did not converge\n",
      "  warn('The line search algorithm did not converge', LineSearchWarning)\n",
      "/Users/kotsch/opt/anaconda3/lib/python3.7/site-packages/scipy/optimize/linesearch.py:314: LineSearchWarning: The line search algorithm did not converge\n",
      "  warn('The line search algorithm did not converge', LineSearchWarning)\n",
      "/Users/kotsch/opt/anaconda3/lib/python3.7/site-packages/scipy/optimize/linesearch.py:466: LineSearchWarning: The line search algorithm did not converge\n",
      "  warn('The line search algorithm did not converge', LineSearchWarning)\n",
      "/Users/kotsch/opt/anaconda3/lib/python3.7/site-packages/scipy/optimize/linesearch.py:314: LineSearchWarning: The line search algorithm did not converge\n",
      "  warn('The line search algorithm did not converge', LineSearchWarning)\n",
      "/Users/kotsch/opt/anaconda3/lib/python3.7/site-packages/scipy/optimize/linesearch.py:466: LineSearchWarning: The line search algorithm did not converge\n",
      "  warn('The line search algorithm did not converge', LineSearchWarning)\n",
      "/Users/kotsch/opt/anaconda3/lib/python3.7/site-packages/scipy/optimize/linesearch.py:314: LineSearchWarning: The line search algorithm did not converge\n",
      "  warn('The line search algorithm did not converge', LineSearchWarning)\n",
      "/Users/kotsch/opt/anaconda3/lib/python3.7/site-packages/scipy/optimize/linesearch.py:466: LineSearchWarning: The line search algorithm did not converge\n",
      "  warn('The line search algorithm did not converge', LineSearchWarning)\n",
      "/Users/kotsch/opt/anaconda3/lib/python3.7/site-packages/scipy/optimize/linesearch.py:314: LineSearchWarning: The line search algorithm did not converge\n",
      "  warn('The line search algorithm did not converge', LineSearchWarning)\n",
      "/Users/kotsch/opt/anaconda3/lib/python3.7/site-packages/scipy/optimize/linesearch.py:466: LineSearchWarning: The line search algorithm did not converge\n",
      "  warn('The line search algorithm did not converge', LineSearchWarning)\n",
      "/Users/kotsch/opt/anaconda3/lib/python3.7/site-packages/scipy/optimize/linesearch.py:314: LineSearchWarning: The line search algorithm did not converge\n",
      "  warn('The line search algorithm did not converge', LineSearchWarning)\n",
      "/Users/kotsch/opt/anaconda3/lib/python3.7/site-packages/scipy/optimize/linesearch.py:466: LineSearchWarning: The line search algorithm did not converge\n",
      "  warn('The line search algorithm did not converge', LineSearchWarning)\n",
      "/Users/kotsch/opt/anaconda3/lib/python3.7/site-packages/scipy/optimize/linesearch.py:314: LineSearchWarning: The line search algorithm did not converge\n",
      "  warn('The line search algorithm did not converge', LineSearchWarning)\n",
      "/Users/kotsch/opt/anaconda3/lib/python3.7/site-packages/scipy/optimize/linesearch.py:466: LineSearchWarning: The line search algorithm did not converge\n",
      "  warn('The line search algorithm did not converge', LineSearchWarning)\n",
      "/Users/kotsch/opt/anaconda3/lib/python3.7/site-packages/scipy/optimize/linesearch.py:314: LineSearchWarning: The line search algorithm did not converge\n",
      "  warn('The line search algorithm did not converge', LineSearchWarning)\n",
      "/Users/kotsch/opt/anaconda3/lib/python3.7/site-packages/scipy/optimize/linesearch.py:466: LineSearchWarning: The line search algorithm did not converge\n",
      "  warn('The line search algorithm did not converge', LineSearchWarning)\n",
      "/Users/kotsch/opt/anaconda3/lib/python3.7/site-packages/scipy/optimize/linesearch.py:314: LineSearchWarning: The line search algorithm did not converge\n",
      "  warn('The line search algorithm did not converge', LineSearchWarning)\n",
      "/Users/kotsch/opt/anaconda3/lib/python3.7/site-packages/scipy/optimize/linesearch.py:466: LineSearchWarning: The line search algorithm did not converge\n",
      "  warn('The line search algorithm did not converge', LineSearchWarning)\n",
      "/Users/kotsch/opt/anaconda3/lib/python3.7/site-packages/scipy/optimize/linesearch.py:314: LineSearchWarning: The line search algorithm did not converge\n",
      "  warn('The line search algorithm did not converge', LineSearchWarning)\n",
      "/Users/kotsch/opt/anaconda3/lib/python3.7/site-packages/scipy/optimize/linesearch.py:466: LineSearchWarning: The line search algorithm did not converge\n",
      "  warn('The line search algorithm did not converge', LineSearchWarning)\n",
      "/Users/kotsch/opt/anaconda3/lib/python3.7/site-packages/scipy/optimize/linesearch.py:314: LineSearchWarning: The line search algorithm did not converge\n",
      "  warn('The line search algorithm did not converge', LineSearchWarning)\n",
      "/Users/kotsch/opt/anaconda3/lib/python3.7/site-packages/scipy/optimize/linesearch.py:466: LineSearchWarning: The line search algorithm did not converge\n",
      "  warn('The line search algorithm did not converge', LineSearchWarning)\n",
      "/Users/kotsch/opt/anaconda3/lib/python3.7/site-packages/scipy/optimize/linesearch.py:314: LineSearchWarning: The line search algorithm did not converge\n",
      "  warn('The line search algorithm did not converge', LineSearchWarning)\n",
      "/Users/kotsch/opt/anaconda3/lib/python3.7/site-packages/scipy/optimize/linesearch.py:466: LineSearchWarning: The line search algorithm did not converge\n",
      "  warn('The line search algorithm did not converge', LineSearchWarning)\n",
      "/Users/kotsch/opt/anaconda3/lib/python3.7/site-packages/scipy/optimize/linesearch.py:314: LineSearchWarning: The line search algorithm did not converge\n",
      "  warn('The line search algorithm did not converge', LineSearchWarning)\n",
      "/Users/kotsch/opt/anaconda3/lib/python3.7/site-packages/scipy/optimize/linesearch.py:466: LineSearchWarning: The line search algorithm did not converge\n",
      "  warn('The line search algorithm did not converge', LineSearchWarning)\n",
      "/Users/kotsch/opt/anaconda3/lib/python3.7/site-packages/scipy/optimize/linesearch.py:314: LineSearchWarning: The line search algorithm did not converge\n",
      "  warn('The line search algorithm did not converge', LineSearchWarning)\n",
      "/Users/kotsch/opt/anaconda3/lib/python3.7/site-packages/scipy/optimize/linesearch.py:466: LineSearchWarning: The line search algorithm did not converge\n",
      "  warn('The line search algorithm did not converge', LineSearchWarning)\n",
      "/Users/kotsch/opt/anaconda3/lib/python3.7/site-packages/scipy/optimize/linesearch.py:314: LineSearchWarning: The line search algorithm did not converge\n",
      "  warn('The line search algorithm did not converge', LineSearchWarning)\n",
      "/Users/kotsch/opt/anaconda3/lib/python3.7/site-packages/scipy/optimize/linesearch.py:466: LineSearchWarning: The line search algorithm did not converge\n",
      "  warn('The line search algorithm did not converge', LineSearchWarning)\n",
      "/Users/kotsch/opt/anaconda3/lib/python3.7/site-packages/scipy/optimize/linesearch.py:314: LineSearchWarning: The line search algorithm did not converge\n",
      "  warn('The line search algorithm did not converge', LineSearchWarning)\n",
      "/Users/kotsch/opt/anaconda3/lib/python3.7/site-packages/scipy/optimize/linesearch.py:466: LineSearchWarning: The line search algorithm did not converge\n",
      "  warn('The line search algorithm did not converge', LineSearchWarning)\n",
      "/Users/kotsch/opt/anaconda3/lib/python3.7/site-packages/scipy/optimize/linesearch.py:314: LineSearchWarning: The line search algorithm did not converge\n",
      "  warn('The line search algorithm did not converge', LineSearchWarning)\n",
      "/Users/kotsch/opt/anaconda3/lib/python3.7/site-packages/scipy/optimize/linesearch.py:466: LineSearchWarning: The line search algorithm did not converge\n",
      "  warn('The line search algorithm did not converge', LineSearchWarning)\n",
      "/Users/kotsch/opt/anaconda3/lib/python3.7/site-packages/scipy/optimize/linesearch.py:314: LineSearchWarning: The line search algorithm did not converge\n",
      "  warn('The line search algorithm did not converge', LineSearchWarning)\n",
      "/Users/kotsch/opt/anaconda3/lib/python3.7/site-packages/scipy/optimize/linesearch.py:466: LineSearchWarning: The line search algorithm did not converge\n",
      "  warn('The line search algorithm did not converge', LineSearchWarning)\n",
      "/Users/kotsch/opt/anaconda3/lib/python3.7/site-packages/scipy/optimize/linesearch.py:314: LineSearchWarning: The line search algorithm did not converge\n",
      "  warn('The line search algorithm did not converge', LineSearchWarning)\n",
      "/Users/kotsch/opt/anaconda3/lib/python3.7/site-packages/scipy/optimize/linesearch.py:466: LineSearchWarning: The line search algorithm did not converge\n",
      "  warn('The line search algorithm did not converge', LineSearchWarning)\n",
      "/Users/kotsch/opt/anaconda3/lib/python3.7/site-packages/scipy/optimize/linesearch.py:314: LineSearchWarning: The line search algorithm did not converge\n",
      "  warn('The line search algorithm did not converge', LineSearchWarning)\n"
     ]
    },
    {
     "name": "stderr",
     "output_type": "stream",
     "text": [
      "/Users/kotsch/opt/anaconda3/lib/python3.7/site-packages/scipy/optimize/linesearch.py:466: LineSearchWarning: The line search algorithm did not converge\n",
      "  warn('The line search algorithm did not converge', LineSearchWarning)\n",
      "/Users/kotsch/opt/anaconda3/lib/python3.7/site-packages/scipy/optimize/linesearch.py:314: LineSearchWarning: The line search algorithm did not converge\n",
      "  warn('The line search algorithm did not converge', LineSearchWarning)\n",
      "/Users/kotsch/opt/anaconda3/lib/python3.7/site-packages/scipy/optimize/linesearch.py:466: LineSearchWarning: The line search algorithm did not converge\n",
      "  warn('The line search algorithm did not converge', LineSearchWarning)\n",
      "/Users/kotsch/opt/anaconda3/lib/python3.7/site-packages/scipy/optimize/linesearch.py:314: LineSearchWarning: The line search algorithm did not converge\n",
      "  warn('The line search algorithm did not converge', LineSearchWarning)\n",
      "/Users/kotsch/opt/anaconda3/lib/python3.7/site-packages/scipy/optimize/linesearch.py:466: LineSearchWarning: The line search algorithm did not converge\n",
      "  warn('The line search algorithm did not converge', LineSearchWarning)\n",
      "/Users/kotsch/opt/anaconda3/lib/python3.7/site-packages/scipy/optimize/linesearch.py:314: LineSearchWarning: The line search algorithm did not converge\n",
      "  warn('The line search algorithm did not converge', LineSearchWarning)\n",
      "/Users/kotsch/opt/anaconda3/lib/python3.7/site-packages/scipy/optimize/linesearch.py:466: LineSearchWarning: The line search algorithm did not converge\n",
      "  warn('The line search algorithm did not converge', LineSearchWarning)\n",
      "/Users/kotsch/opt/anaconda3/lib/python3.7/site-packages/scipy/optimize/linesearch.py:314: LineSearchWarning: The line search algorithm did not converge\n",
      "  warn('The line search algorithm did not converge', LineSearchWarning)\n",
      "/Users/kotsch/opt/anaconda3/lib/python3.7/site-packages/scipy/optimize/linesearch.py:466: LineSearchWarning: The line search algorithm did not converge\n",
      "  warn('The line search algorithm did not converge', LineSearchWarning)\n",
      "/Users/kotsch/opt/anaconda3/lib/python3.7/site-packages/scipy/optimize/linesearch.py:314: LineSearchWarning: The line search algorithm did not converge\n",
      "  warn('The line search algorithm did not converge', LineSearchWarning)\n",
      "/Users/kotsch/opt/anaconda3/lib/python3.7/site-packages/scipy/optimize/linesearch.py:466: LineSearchWarning: The line search algorithm did not converge\n",
      "  warn('The line search algorithm did not converge', LineSearchWarning)\n",
      "/Users/kotsch/opt/anaconda3/lib/python3.7/site-packages/scipy/optimize/linesearch.py:314: LineSearchWarning: The line search algorithm did not converge\n",
      "  warn('The line search algorithm did not converge', LineSearchWarning)\n",
      "/Users/kotsch/opt/anaconda3/lib/python3.7/site-packages/scipy/optimize/linesearch.py:466: LineSearchWarning: The line search algorithm did not converge\n",
      "  warn('The line search algorithm did not converge', LineSearchWarning)\n",
      "/Users/kotsch/opt/anaconda3/lib/python3.7/site-packages/scipy/optimize/linesearch.py:314: LineSearchWarning: The line search algorithm did not converge\n",
      "  warn('The line search algorithm did not converge', LineSearchWarning)\n",
      "/Users/kotsch/opt/anaconda3/lib/python3.7/site-packages/scipy/optimize/linesearch.py:466: LineSearchWarning: The line search algorithm did not converge\n",
      "  warn('The line search algorithm did not converge', LineSearchWarning)\n",
      "/Users/kotsch/opt/anaconda3/lib/python3.7/site-packages/scipy/optimize/linesearch.py:314: LineSearchWarning: The line search algorithm did not converge\n",
      "  warn('The line search algorithm did not converge', LineSearchWarning)\n",
      "/Users/kotsch/opt/anaconda3/lib/python3.7/site-packages/scipy/optimize/linesearch.py:466: LineSearchWarning: The line search algorithm did not converge\n",
      "  warn('The line search algorithm did not converge', LineSearchWarning)\n",
      "/Users/kotsch/opt/anaconda3/lib/python3.7/site-packages/scipy/optimize/linesearch.py:314: LineSearchWarning: The line search algorithm did not converge\n",
      "  warn('The line search algorithm did not converge', LineSearchWarning)\n",
      "/Users/kotsch/opt/anaconda3/lib/python3.7/site-packages/scipy/optimize/linesearch.py:466: LineSearchWarning: The line search algorithm did not converge\n",
      "  warn('The line search algorithm did not converge', LineSearchWarning)\n",
      "/Users/kotsch/opt/anaconda3/lib/python3.7/site-packages/scipy/optimize/linesearch.py:314: LineSearchWarning: The line search algorithm did not converge\n",
      "  warn('The line search algorithm did not converge', LineSearchWarning)\n",
      "/Users/kotsch/opt/anaconda3/lib/python3.7/site-packages/scipy/optimize/linesearch.py:466: LineSearchWarning: The line search algorithm did not converge\n",
      "  warn('The line search algorithm did not converge', LineSearchWarning)\n",
      "/Users/kotsch/opt/anaconda3/lib/python3.7/site-packages/scipy/optimize/linesearch.py:314: LineSearchWarning: The line search algorithm did not converge\n",
      "  warn('The line search algorithm did not converge', LineSearchWarning)\n",
      "/Users/kotsch/opt/anaconda3/lib/python3.7/site-packages/scipy/optimize/linesearch.py:466: LineSearchWarning: The line search algorithm did not converge\n",
      "  warn('The line search algorithm did not converge', LineSearchWarning)\n",
      "/Users/kotsch/opt/anaconda3/lib/python3.7/site-packages/scipy/optimize/linesearch.py:314: LineSearchWarning: The line search algorithm did not converge\n",
      "  warn('The line search algorithm did not converge', LineSearchWarning)\n",
      "/Users/kotsch/opt/anaconda3/lib/python3.7/site-packages/scipy/optimize/linesearch.py:466: LineSearchWarning: The line search algorithm did not converge\n",
      "  warn('The line search algorithm did not converge', LineSearchWarning)\n",
      "/Users/kotsch/opt/anaconda3/lib/python3.7/site-packages/scipy/optimize/linesearch.py:314: LineSearchWarning: The line search algorithm did not converge\n",
      "  warn('The line search algorithm did not converge', LineSearchWarning)\n",
      "/Users/kotsch/opt/anaconda3/lib/python3.7/site-packages/scipy/optimize/linesearch.py:466: LineSearchWarning: The line search algorithm did not converge\n",
      "  warn('The line search algorithm did not converge', LineSearchWarning)\n",
      "/Users/kotsch/opt/anaconda3/lib/python3.7/site-packages/scipy/optimize/linesearch.py:314: LineSearchWarning: The line search algorithm did not converge\n",
      "  warn('The line search algorithm did not converge', LineSearchWarning)\n",
      "/Users/kotsch/opt/anaconda3/lib/python3.7/site-packages/scipy/optimize/linesearch.py:466: LineSearchWarning: The line search algorithm did not converge\n",
      "  warn('The line search algorithm did not converge', LineSearchWarning)\n",
      "/Users/kotsch/opt/anaconda3/lib/python3.7/site-packages/scipy/optimize/linesearch.py:314: LineSearchWarning: The line search algorithm did not converge\n",
      "  warn('The line search algorithm did not converge', LineSearchWarning)\n",
      "/Users/kotsch/opt/anaconda3/lib/python3.7/site-packages/scipy/optimize/linesearch.py:466: LineSearchWarning: The line search algorithm did not converge\n",
      "  warn('The line search algorithm did not converge', LineSearchWarning)\n",
      "/Users/kotsch/opt/anaconda3/lib/python3.7/site-packages/scipy/optimize/linesearch.py:314: LineSearchWarning: The line search algorithm did not converge\n",
      "  warn('The line search algorithm did not converge', LineSearchWarning)\n",
      "/Users/kotsch/opt/anaconda3/lib/python3.7/site-packages/scipy/optimize/linesearch.py:466: LineSearchWarning: The line search algorithm did not converge\n",
      "  warn('The line search algorithm did not converge', LineSearchWarning)\n",
      "/Users/kotsch/opt/anaconda3/lib/python3.7/site-packages/scipy/optimize/linesearch.py:314: LineSearchWarning: The line search algorithm did not converge\n",
      "  warn('The line search algorithm did not converge', LineSearchWarning)\n",
      "/Users/kotsch/opt/anaconda3/lib/python3.7/site-packages/scipy/optimize/linesearch.py:466: LineSearchWarning: The line search algorithm did not converge\n",
      "  warn('The line search algorithm did not converge', LineSearchWarning)\n",
      "/Users/kotsch/opt/anaconda3/lib/python3.7/site-packages/scipy/optimize/linesearch.py:314: LineSearchWarning: The line search algorithm did not converge\n",
      "  warn('The line search algorithm did not converge', LineSearchWarning)\n",
      "/Users/kotsch/opt/anaconda3/lib/python3.7/site-packages/scipy/optimize/linesearch.py:466: LineSearchWarning: The line search algorithm did not converge\n",
      "  warn('The line search algorithm did not converge', LineSearchWarning)\n",
      "/Users/kotsch/opt/anaconda3/lib/python3.7/site-packages/scipy/optimize/linesearch.py:314: LineSearchWarning: The line search algorithm did not converge\n",
      "  warn('The line search algorithm did not converge', LineSearchWarning)\n",
      "/Users/kotsch/opt/anaconda3/lib/python3.7/site-packages/scipy/optimize/linesearch.py:466: LineSearchWarning: The line search algorithm did not converge\n",
      "  warn('The line search algorithm did not converge', LineSearchWarning)\n",
      "/Users/kotsch/opt/anaconda3/lib/python3.7/site-packages/scipy/optimize/linesearch.py:314: LineSearchWarning: The line search algorithm did not converge\n",
      "  warn('The line search algorithm did not converge', LineSearchWarning)\n",
      "/Users/kotsch/opt/anaconda3/lib/python3.7/site-packages/scipy/optimize/linesearch.py:466: LineSearchWarning: The line search algorithm did not converge\n",
      "  warn('The line search algorithm did not converge', LineSearchWarning)\n",
      "/Users/kotsch/opt/anaconda3/lib/python3.7/site-packages/scipy/optimize/linesearch.py:314: LineSearchWarning: The line search algorithm did not converge\n",
      "  warn('The line search algorithm did not converge', LineSearchWarning)\n"
     ]
    },
    {
     "name": "stderr",
     "output_type": "stream",
     "text": [
      "/Users/kotsch/opt/anaconda3/lib/python3.7/site-packages/scipy/optimize/linesearch.py:466: LineSearchWarning: The line search algorithm did not converge\n",
      "  warn('The line search algorithm did not converge', LineSearchWarning)\n",
      "/Users/kotsch/opt/anaconda3/lib/python3.7/site-packages/scipy/optimize/linesearch.py:314: LineSearchWarning: The line search algorithm did not converge\n",
      "  warn('The line search algorithm did not converge', LineSearchWarning)\n",
      "/Users/kotsch/opt/anaconda3/lib/python3.7/site-packages/scipy/optimize/linesearch.py:466: LineSearchWarning: The line search algorithm did not converge\n",
      "  warn('The line search algorithm did not converge', LineSearchWarning)\n",
      "/Users/kotsch/opt/anaconda3/lib/python3.7/site-packages/scipy/optimize/linesearch.py:314: LineSearchWarning: The line search algorithm did not converge\n",
      "  warn('The line search algorithm did not converge', LineSearchWarning)\n",
      "/Users/kotsch/opt/anaconda3/lib/python3.7/site-packages/scipy/optimize/linesearch.py:466: LineSearchWarning: The line search algorithm did not converge\n",
      "  warn('The line search algorithm did not converge', LineSearchWarning)\n",
      "/Users/kotsch/opt/anaconda3/lib/python3.7/site-packages/scipy/optimize/linesearch.py:314: LineSearchWarning: The line search algorithm did not converge\n",
      "  warn('The line search algorithm did not converge', LineSearchWarning)\n",
      "/Users/kotsch/opt/anaconda3/lib/python3.7/site-packages/scipy/optimize/linesearch.py:426: LineSearchWarning: Rounding errors prevent the line search from converging\n",
      "  warn(msg, LineSearchWarning)\n",
      "/Users/kotsch/opt/anaconda3/lib/python3.7/site-packages/scipy/optimize/linesearch.py:314: LineSearchWarning: The line search algorithm did not converge\n",
      "  warn('The line search algorithm did not converge', LineSearchWarning)\n",
      "/Users/kotsch/opt/anaconda3/lib/python3.7/site-packages/sklearn/utils/optimize.py:204: UserWarning: Line Search failed\n",
      "  warnings.warn('Line Search failed')\n"
     ]
    },
    {
     "data": {
      "image/png": "[encoded data removed]",
      "text/plain": [
       "<Figure size 288x288 with 1 Axes>"
      ]
     },
     "metadata": {
      "needs_background": "light"
     },
     "output_type": "display_data"
    },
    {
     "name": "stdout",
     "output_type": "stream",
     "text": [
      "Fraction of correct predictions:  0.9960540030773812\n"
     ]
    }
   ],
   "source": [
    "# Logistic Regression on Training Data Set\n",
    "model = LogisticRegression(solver='newton-cg', C=1, fit_intercept=True,\n",
    "                           random_state=42, \n",
    "                           max_iter=1000) #maybe change solver to newton-cg\n",
    "model.fit(X, y)\n",
    "model.predict_proba(X)\n",
    "pred = model.predict(X)\n",
    "\n",
    "cm = confusion_matrix(y, model.predict(X))\n",
    "frac_correct = (cm[0,0]+cm[1,1])/len(df_acc)\n",
    "\n",
    "fig, ax = plt.subplots(figsize=(4,4))\n",
    "ax.imshow(cm)\n",
    "ax.grid(False)\n",
    "ax.xaxis.set(ticks=(0,1), ticklabels=('Predicted 0s', 'Predicted 1s'))\n",
    "ax.yaxis.set(ticks=(0,1), ticklabels=('Actual 0s', 'Actual 1s'))\n",
    "ax.xaxis.tick_top()\n",
    "ax.set_ylim(1.5,-0.5)\n",
    "for i in range(2):\n",
    "    for j in range(2):\n",
    "        ax.text(j, i, cm[i, j], ha='center', va='center', color='red')\n",
    "plt.show()\n",
    "print('Fraction of correct predictions: ', frac_correct)\n",
    "\n"
   ]
  },
  {
   "cell_type": "markdown",
   "metadata": {},
   "source": [
    "# Find the hyperparameters"
   ]
  },
  {
   "cell_type": "code",
   "execution_count": 210,
   "metadata": {},
   "outputs": [
    {
     "data": {
      "text/plain": [
       "LogisticRegression(C=0.001, class_weight=None, dual=False, fit_intercept=True,\n",
       "                   intercept_scaling=1, l1_ratio=None, max_iter=100,\n",
       "                   multi_class='auto', n_jobs=None, penalty='l2',\n",
       "                   random_state=None, solver='liblinear', tol=0.0001, verbose=0,\n",
       "                   warm_start=False)"
      ]
     },
     "execution_count": 210,
     "metadata": {},
     "output_type": "execute_result"
    }
   ],
   "source": [
    "# Use GridSearchCV to find the best parameters.\n",
    "from sklearn.model_selection import GridSearchCV, RandomizedSearchCV\n",
    "\n",
    "\n",
    "# Logistic Regression \n",
    "log_reg_params = {\"penalty\": ['l2'], 'C': [0.001, 0.01, 0.1, 1, 10, 100, 1000], 'solver': ['liblinear']}\n",
    "\n",
    "\n",
    "\n",
    "grid_log_reg = GridSearchCV(LogisticRegression(), log_reg_params, cv=5)\n",
    "grid_log_reg.fit(X_train, y_train)\n",
    "\n",
    "# We automatically get the logistic regression with the best parameters.\n",
    "log_reg = grid_log_reg.best_estimator_\n",
    "grid_log_reg.best_estimator_"
   ]
  },
  {
   "cell_type": "code",
   "execution_count": 211,
   "metadata": {},
   "outputs": [
    {
     "data": {
      "image/png": "[encoded data removed]",
      "text/plain": [
       "<Figure size 288x288 with 1 Axes>"
      ]
     },
     "metadata": {
      "needs_background": "light"
     },
     "output_type": "display_data"
    },
    {
     "name": "stdout",
     "output_type": "stream",
     "text": [
      "Fraction of correct predictions:  0.9960788206680895\n"
     ]
    }
   ],
   "source": [
    "# Logistic Regression on Training Data Set\n",
    "model = LogisticRegression(C=0.001, class_weight=None, dual=False, fit_intercept=True,\n",
    "                   intercept_scaling=1, l1_ratio=None, max_iter=100,\n",
    "                   multi_class='auto', n_jobs=None, penalty='l2',\n",
    "                   random_state=None, solver='liblinear', tol=0.0001, verbose=0,\n",
    "                   warm_start=False)\n",
    "model.fit(X, y)\n",
    "model.predict_proba(X)\n",
    "pred = model.predict(X)\n",
    "\n",
    "cm = confusion_matrix(y, model.predict(X))\n",
    "frac_correct = (cm[0,0]+cm[1,1])/len(df_acc)\n",
    "\n",
    "fig, ax = plt.subplots(figsize=(4,4))\n",
    "ax.imshow(cm)\n",
    "ax.grid(False)\n",
    "ax.xaxis.set(ticks=(0,1), ticklabels=('Predicted 0s', 'Predicted 1s'))\n",
    "ax.yaxis.set(ticks=(0,1), ticklabels=('Actual 0s', 'Actual 1s'))\n",
    "ax.xaxis.tick_top()\n",
    "ax.set_ylim(1.5,-0.5)\n",
    "for i in range(2):\n",
    "    for j in range(2):\n",
    "        ax.text(j, i, cm[i, j], ha='center', va='center', color='red')\n",
    "plt.show()\n",
    "print('Fraction of correct predictions: ', frac_correct)\n",
    "\n"
   ]
  },
  {
   "cell_type": "code",
   "execution_count": 212,
   "metadata": {},
   "outputs": [
    {
     "data": {
      "image/png": "[encoded data removed]",
      "text/plain": [
       "<Figure size 288x288 with 1 Axes>"
      ]
     },
     "metadata": {
      "needs_background": "light"
     },
     "output_type": "display_data"
    },
    {
     "name": "stdout",
     "output_type": "stream",
     "text": [
      "Fraction of correct predictions:  0.9960788206680895\n"
     ]
    }
   ],
   "source": [
    "# Random forest\n",
    "model = RandomForestClassifier(max_depth=2, random_state=0)\n",
    "model.fit(X, y)\n",
    "model.predict_proba(X)\n",
    "pred = model.predict(X)\n",
    "cm = confusion_matrix(y, model.predict(X))\n",
    "frac_correct = (cm[0,0]+cm[1,1])/len(df_acc)\n",
    "\n",
    "fig, ax = plt.subplots(figsize=(4,4))\n",
    "ax.imshow(cm)\n",
    "ax.grid(False)\n",
    "ax.xaxis.set(ticks=(0,1), ticklabels=('Predicted 0s', 'Predicted 1s'))\n",
    "ax.yaxis.set(ticks=(0,1), ticklabels=('Actual 0s', 'Actual 1s'))\n",
    "ax.xaxis.tick_top()\n",
    "ax.set_ylim(1.5,-0.5)\n",
    "for i in range(2):\n",
    "    for j in range(2):\n",
    "        ax.text(j, i, cm[i, j], ha='center', va='center', color='red')\n",
    "plt.show()\n",
    "print('Fraction of correct predictions: ', frac_correct)\n",
    "\n"
   ]
  },
  {
   "cell_type": "markdown",
   "metadata": {},
   "source": [
    "## Unsupervised learning: Isolation forest"
   ]
  },
  {
   "cell_type": "code",
   "execution_count": 130,
   "metadata": {},
   "outputs": [],
   "source": [
    "# definition of confusion matrix\n",
    "\n",
    "def plot_confusion_matrix(cm, title, classes=['abnormal', 'normal'],\n",
    "                          cmap=plt.cm.Blues, save=False, saveas=\"MyFigure.png\"):\n",
    "    \n",
    "    # print Confusion matrix with blue gradient colours\n",
    "    \n",
    "    cm = cm.astype('float') / cm.sum(axis=1)[:, np.newaxis]\n",
    "    \n",
    "    plt.imshow(cm, interpolation='nearest', cmap=cmap)\n",
    "    plt.title(title)\n",
    "    plt.colorbar()\n",
    "    tick_marks = np.arange(len(classes))\n",
    "    plt.xticks(tick_marks, classes, rotation=90)\n",
    "    plt.yticks(tick_marks, classes)\n",
    "\n",
    "    fmt = '.1%'\n",
    "    thresh = cm.max() / 2.\n",
    "    for i, j in itertools.product(range(cm.shape[0]), range(cm.shape[1])):\n",
    "        plt.text(j, i, format(cm[i, j], fmt),\n",
    "                 horizontalalignment=\"center\",\n",
    "                 color=\"white\" if cm[i, j] > thresh else \"black\")\n",
    "\n",
    "    plt.tight_layout()\n",
    "    plt.ylabel('True label')\n",
    "    plt.xlabel('Predicted label')\n",
    "    \n",
    "    if save:\n",
    "        plt.savefig(saveas, dpi=100)"
   ]
  },
  {
   "cell_type": "code",
   "execution_count": 131,
   "metadata": {},
   "outputs": [],
   "source": [
    "# definition of Gridsearch\n",
    "\n",
    "def plot_gridsearch_cv(results, estimator, x_min, x_max, y_min, y_max,save=False, saveas=\"MyFigure.png\"):\n",
    "    \n",
    "    # print GridSearch cross-validation for parameters\n",
    "    \n",
    "    plt.figure(figsize=(10,8))\n",
    "    plt.title(\"GridSearchCV for \"+estimator, fontsize=24)\n",
    "\n",
    "    plt.xlabel(estimator)\n",
    "    plt.ylabel(\"Score\")\n",
    "    plt.grid()\n",
    "\n",
    "    ax = plt.axes()\n",
    "    ax.set_xlim(x_min, x_max)\n",
    "    ax.set_ylim(y_min, y_max)\n",
    "\n",
    "    pad = 0.005\n",
    "    X_axis = np.array(results[\"param_\"+estimator].data, dtype=float)\n",
    "\n",
    "    for scorer, color in zip(sorted(scoring), ['b', 'k']):\n",
    "        for sample, style in (('train', '--'), ('test', '-')):\n",
    "            sample_score_mean = results['mean_%s_%s' % (sample, scorer)]\n",
    "            sample_score_std = results['std_%s_%s' % (sample, scorer)]\n",
    "            ax.fill_between(X_axis, sample_score_mean - sample_score_std,\n",
    "                        sample_score_mean + sample_score_std,\n",
    "                        alpha=0.1 if sample == 'test' else 0, color=color)\n",
    "            ax.plot(X_axis, sample_score_mean, style, color=color,\n",
    "                alpha=1 if sample == 'test' else 0.7,\n",
    "                label=\"%s (%s)\" % (scorer, sample))\n",
    "\n",
    "        best_index = np.nonzero(results['rank_test_%s' % scorer] == 1)[0][0]\n",
    "        best_score = results['mean_test_%s' % scorer][best_index]\n",
    "\n",
    "        # Plot a dotted vertical line at the best score for that scorer marked by x\n",
    "        ax.plot([X_axis[best_index], ] * 2, [0, best_score],\n",
    "            linestyle='-.', color=color, marker='x', markeredgewidth=3, ms=8)\n",
    "\n",
    "        # Annotate the best score for that scorer\n",
    "        ax.annotate(\"%0.2f\" % best_score,\n",
    "                (X_axis[best_index], best_score+pad))\n",
    "\n",
    "    plt.legend(loc=\"best\")\n",
    "    plt.grid('off')\n",
    "    plt.tight_layout()\n",
    "    if save:\n",
    "        plt.savefig(saveas, dpi=100)\n",
    "        \n",
    "    plt.show()"
   ]
  },
  {
   "cell_type": "markdown",
   "metadata": {},
   "source": [
    "# Supervised ML: Train Isolation Forest and Local Outlier Factor in Supervised Setting\n",
    "\n",
    "\n",
    "## 1. Data processing\n",
    "\n"
   ]
  },
  {
   "cell_type": "code",
   "execution_count": 143,
   "metadata": {},
   "outputs": [],
   "source": [
    "X = df_acc[['DaysAccountOpen', \n",
    "            'acquire_volume', \n",
    "            'acquire_count_transactions', \n",
    "            'transfer_volume',\n",
    "            'transfer_count_transactions']]\n",
    "y = df_acc['fraud']"
   ]
  },
  {
   "cell_type": "code",
   "execution_count": 160,
   "metadata": {},
   "outputs": [
    {
     "data": {
      "text/plain": [
       "array([0, 1])"
      ]
     },
     "execution_count": 160,
     "metadata": {},
     "output_type": "execute_result"
    }
   ],
   "source": [
    "df_acc['fraud'].unique()"
   ]
  },
  {
   "cell_type": "code",
   "execution_count": 148,
   "metadata": {},
   "outputs": [],
   "source": [
    "# normalized\n",
    "\n",
    "X_normed = preprocessing.normalize(X)"
   ]
  },
  {
   "cell_type": "markdown",
   "metadata": {},
   "source": [
    "## Split data into training and test set"
   ]
  },
  {
   "cell_type": "code",
   "execution_count": 218,
   "metadata": {},
   "outputs": [],
   "source": [
    "# training and test data for isolation forest\n",
    "X_train_sa, X_test_sa, y_train_sa, y_test_sa = train_test_split(X, \n",
    "                                                                y, test_size=0.30, random_state=11)\n",
    "\n",
    "\n",
    "# Turn into an array\n",
    "X_train_sa = X_train_sa.values\n",
    "X_test_sa = X_test_sa.values\n",
    "y_train_sa = y_train_sa.values\n",
    "y_test_sa = y_test_sa.values\n",
    "\n",
    "\n",
    "# trainign and test data fror LOFs\n",
    "X_train_nd, X_test_nd, y_train_nd, y_test_nd = train_test_split(X_normed, y,\n",
    "                                                    test_size=0.30, random_state=11)\n"
   ]
  },
  {
   "cell_type": "code",
   "execution_count": 193,
   "metadata": {},
   "outputs": [
    {
     "data": {
      "text/plain": [
       "array([[3.892000e+03, 1.997569e+06, 1.290000e+02, 1.997569e+06,\n",
       "        1.330000e+02],\n",
       "       [1.886000e+03, 0.000000e+00, 0.000000e+00, 1.324500e+04,\n",
       "        2.000000e+00],\n",
       "       [3.766000e+03, 6.176500e+04, 1.000000e+01, 4.538300e+04,\n",
       "        1.100000e+01],\n",
       "       ...,\n",
       "       [2.921000e+03, 4.371650e+05, 7.000000e+00, 6.745230e+05,\n",
       "        1.100000e+01],\n",
       "       [9.800000e+02, 4.400000e+01, 1.000000e+00, 4.400000e+01,\n",
       "        1.000000e+00],\n",
       "       [3.541000e+03, 4.059945e+06, 2.500000e+01, 4.059945e+06,\n",
       "        3.000000e+01]])"
      ]
     },
     "execution_count": 193,
     "metadata": {},
     "output_type": "execute_result"
    }
   ],
   "source": [
    "X_train_sa"
   ]
  },
  {
   "cell_type": "code",
   "execution_count": null,
   "metadata": {},
   "outputs": [],
   "source": [
    "original_Xtrain = original_Xtrain.values\n",
    "original_Xtest = original_Xtest.values\n",
    "original_ytrain = original_ytrain.values\n",
    "original_ytest = original_ytest.values"
   ]
  },
  {
   "cell_type": "markdown",
   "metadata": {},
   "source": [
    "## Training"
   ]
  },
  {
   "cell_type": "code",
   "execution_count": 219,
   "metadata": {},
   "outputs": [],
   "source": [
    "# define model\n",
    "clfIF = IsolationForest(max_samples=0.25, random_state=11, contamination=0.15, n_estimators=100, n_jobs=-1)\n",
    "clfLOF = LocalOutlierFactor(n_neighbors=15, metric='euclidean', algorithm='auto', contamination=0.15, n_jobs=-1)"
   ]
  },
  {
   "cell_type": "code",
   "execution_count": 232,
   "metadata": {},
   "outputs": [
    {
     "name": "stdout",
     "output_type": "stream",
     "text": [
      "0:00:01.960028\n"
     ]
    }
   ],
   "source": [
    "# train model IF\n",
    "start = datetime.datetime.now()\n",
    "clfIF.fit(original_Xtrain)\n",
    "y_pred_train = clfIF.predict(original_Xtrain )\n",
    "end = datetime.datetime.now()\n",
    "print (end-start)"
   ]
  },
  {
   "cell_type": "code",
   "execution_count": 221,
   "metadata": {},
   "outputs": [
    {
     "name": "stdout",
     "output_type": "stream",
     "text": [
      "0:00:00.506430\n"
     ]
    }
   ],
   "source": [
    "# train model LOF\n",
    "start = datetime.datetime.now()\n",
    "y_pred_train_lof = clfLOF.fit_predict(X_train_nd, y_train_nd)\n",
    "end = datetime.datetime.now()\n",
    "print (end-start)"
   ]
  },
  {
   "cell_type": "code",
   "execution_count": 200,
   "metadata": {},
   "outputs": [
    {
     "data": {
      "text/plain": [
       "array([-1,  1,  1, ...,  1,  1,  1])"
      ]
     },
     "execution_count": 200,
     "metadata": {},
     "output_type": "execute_result"
    }
   ],
   "source": [
    "y_pred_train"
   ]
  },
  {
   "cell_type": "markdown",
   "metadata": {},
   "source": [
    "## Training results"
   ]
  },
  {
   "cell_type": "code",
   "execution_count": 233,
   "metadata": {},
   "outputs": [
    {
     "data": {
      "image/png": "[encoded data removed]",
      "text/plain": [
       "<Figure size 288x288 with 1 Axes>"
      ]
     },
     "metadata": {
      "needs_background": "light"
     },
     "output_type": "display_data"
    },
    {
     "name": "stdout",
     "output_type": "stream",
     "text": [
      "Fraction of correct predictions:  0.0\n"
     ]
    }
   ],
   "source": [
    "cm = confusion_matrix(y, model.predict(X))\n",
    "frac_correct = (cm[0,0]+cm[1,1])/len(df_acc)\n",
    "\n",
    "fig, ax = plt.subplots(figsize=(4,4))\n",
    "ax.imshow(cm)\n",
    "ax.grid(False)\n",
    "ax.xaxis.set(ticks=(0,1), ticklabels=('Predicted 0s', 'Predicted 1s'))\n",
    "ax.yaxis.set(ticks=(0,1), ticklabels=('Actual 0s', 'Actual 1s'))\n",
    "ax.xaxis.tick_top()\n",
    "ax.set_ylim(1.5,-0.5)\n",
    "for i in range(2):\n",
    "    for j in range(2):\n",
    "        ax.text(j, i, cm[i, j], ha='center', va='center', color='red')\n",
    "plt.show()\n",
    "print('Fraction of correct predictions: ', frac_correct)"
   ]
  },
  {
   "cell_type": "code",
   "execution_count": 236,
   "metadata": {},
   "outputs": [
    {
     "name": "stdout",
     "output_type": "stream",
     "text": [
      "              precision    recall  f1-score   support\n",
      "\n",
      "     anomaly       0.00      0.00      0.00         0\n",
      "      normal       0.00      0.00      0.00     32109\n",
      "          na       0.00      0.31      0.00       127\n",
      "\n",
      "    accuracy                           0.00     32236\n",
      "   macro avg       0.00      0.10      0.00     32236\n",
      "weighted avg       0.00      0.00      0.00     32236\n",
      "\n",
      "AUC:  23.1%\n"
     ]
    },
    {
     "name": "stderr",
     "output_type": "stream",
     "text": [
      "/Users/kotsch/opt/anaconda3/lib/python3.7/site-packages/sklearn/metrics/_classification.py:1272: UndefinedMetricWarning: Precision and F-score are ill-defined and being set to 0.0 in labels with no predicted samples. Use `zero_division` parameter to control this behavior.\n",
      "  _warn_prf(average, modifier, msg_start, len(result))\n",
      "/Users/kotsch/opt/anaconda3/lib/python3.7/site-packages/sklearn/metrics/_classification.py:1272: UndefinedMetricWarning: Recall and F-score are ill-defined and being set to 0.0 in labels with no true samples. Use `zero_division` parameter to control this behavior.\n",
      "  _warn_prf(average, modifier, msg_start, len(result))\n"
     ]
    },
    {
     "ename": "ValueError",
     "evalue": "Found input variables with inconsistent numbers of samples: [28205, 32236]",
     "output_type": "error",
     "traceback": [
      "\u001b[0;31m---------------------------------------------------------------------------\u001b[0m",
      "\u001b[0;31mValueError\u001b[0m                                Traceback (most recent call last)",
      "\u001b[0;32m<ipython-input-236-6e003b8e0cdd>\u001b[0m in \u001b[0;36m<module>\u001b[0;34m\u001b[0m\n\u001b[1;32m      1\u001b[0m \u001b[0mprint\u001b[0m\u001b[0;34m(\u001b[0m\u001b[0mclassification_report\u001b[0m\u001b[0;34m(\u001b[0m\u001b[0moriginal_ytrain\u001b[0m\u001b[0;34m,\u001b[0m \u001b[0my_pred_train\u001b[0m\u001b[0;34m,\u001b[0m \u001b[0mtarget_names\u001b[0m\u001b[0;34m=\u001b[0m\u001b[0;34m[\u001b[0m\u001b[0;34m'anomaly'\u001b[0m\u001b[0;34m,\u001b[0m \u001b[0;34m'normal'\u001b[0m\u001b[0;34m,\u001b[0m \u001b[0;34m\"na\"\u001b[0m\u001b[0;34m]\u001b[0m\u001b[0;34m)\u001b[0m\u001b[0;34m)\u001b[0m\u001b[0;34m\u001b[0m\u001b[0;34m\u001b[0m\u001b[0m\n\u001b[1;32m      2\u001b[0m \u001b[0mprint\u001b[0m \u001b[0;34m(\u001b[0m\u001b[0;34m\"AUC: \"\u001b[0m\u001b[0;34m,\u001b[0m \u001b[0;34m\"{:.1%}\"\u001b[0m\u001b[0;34m.\u001b[0m\u001b[0mformat\u001b[0m\u001b[0;34m(\u001b[0m\u001b[0mroc_auc_score\u001b[0m\u001b[0;34m(\u001b[0m\u001b[0moriginal_ytrain\u001b[0m\u001b[0;34m,\u001b[0m \u001b[0my_pred_train\u001b[0m\u001b[0;34m)\u001b[0m\u001b[0;34m)\u001b[0m\u001b[0;34m)\u001b[0m\u001b[0;34m\u001b[0m\u001b[0;34m\u001b[0m\u001b[0m\n\u001b[0;32m----> 3\u001b[0;31m \u001b[0mcm\u001b[0m \u001b[0;34m=\u001b[0m \u001b[0mconfusion_matrix\u001b[0m\u001b[0;34m(\u001b[0m\u001b[0my_train_sa\u001b[0m\u001b[0;34m,\u001b[0m \u001b[0my_pred_train\u001b[0m\u001b[0;34m)\u001b[0m\u001b[0;34m\u001b[0m\u001b[0;34m\u001b[0m\u001b[0m\n\u001b[0m\u001b[1;32m      4\u001b[0m \u001b[0mplot_confusion_matrix\u001b[0m\u001b[0;34m(\u001b[0m\u001b[0mcm\u001b[0m\u001b[0;34m,\u001b[0m \u001b[0mtitle\u001b[0m\u001b[0;34m=\u001b[0m\u001b[0;34m\"IF Confusion Matrix - SA\"\u001b[0m\u001b[0;34m,\u001b[0m \u001b[0msave\u001b[0m\u001b[0;34m=\u001b[0m\u001b[0;32mTrue\u001b[0m\u001b[0;34m,\u001b[0m \u001b[0msaveas\u001b[0m\u001b[0;34m=\u001b[0m\u001b[0;34m\"IF_SA.png\"\u001b[0m\u001b[0;34m)\u001b[0m\u001b[0;34m\u001b[0m\u001b[0;34m\u001b[0m\u001b[0m\n",
      "\u001b[0;32m~/opt/anaconda3/lib/python3.7/site-packages/sklearn/metrics/_classification.py\u001b[0m in \u001b[0;36mconfusion_matrix\u001b[0;34m(y_true, y_pred, labels, sample_weight, normalize)\u001b[0m\n\u001b[1;32m    266\u001b[0m \u001b[0;34m\u001b[0m\u001b[0m\n\u001b[1;32m    267\u001b[0m     \"\"\"\n\u001b[0;32m--> 268\u001b[0;31m     \u001b[0my_type\u001b[0m\u001b[0;34m,\u001b[0m \u001b[0my_true\u001b[0m\u001b[0;34m,\u001b[0m \u001b[0my_pred\u001b[0m \u001b[0;34m=\u001b[0m \u001b[0m_check_targets\u001b[0m\u001b[0;34m(\u001b[0m\u001b[0my_true\u001b[0m\u001b[0;34m,\u001b[0m \u001b[0my_pred\u001b[0m\u001b[0;34m)\u001b[0m\u001b[0;34m\u001b[0m\u001b[0;34m\u001b[0m\u001b[0m\n\u001b[0m\u001b[1;32m    269\u001b[0m     \u001b[0;32mif\u001b[0m \u001b[0my_type\u001b[0m \u001b[0;32mnot\u001b[0m \u001b[0;32min\u001b[0m \u001b[0;34m(\u001b[0m\u001b[0;34m\"binary\"\u001b[0m\u001b[0;34m,\u001b[0m \u001b[0;34m\"multiclass\"\u001b[0m\u001b[0;34m)\u001b[0m\u001b[0;34m:\u001b[0m\u001b[0;34m\u001b[0m\u001b[0;34m\u001b[0m\u001b[0m\n\u001b[1;32m    270\u001b[0m         \u001b[0;32mraise\u001b[0m \u001b[0mValueError\u001b[0m\u001b[0;34m(\u001b[0m\u001b[0;34m\"%s is not supported\"\u001b[0m \u001b[0;34m%\u001b[0m \u001b[0my_type\u001b[0m\u001b[0;34m)\u001b[0m\u001b[0;34m\u001b[0m\u001b[0;34m\u001b[0m\u001b[0m\n",
      "\u001b[0;32m~/opt/anaconda3/lib/python3.7/site-packages/sklearn/metrics/_classification.py\u001b[0m in \u001b[0;36m_check_targets\u001b[0;34m(y_true, y_pred)\u001b[0m\n\u001b[1;32m     78\u001b[0m     \u001b[0my_pred\u001b[0m \u001b[0;34m:\u001b[0m \u001b[0marray\u001b[0m \u001b[0;32mor\u001b[0m \u001b[0mindicator\u001b[0m \u001b[0mmatrix\u001b[0m\u001b[0;34m\u001b[0m\u001b[0;34m\u001b[0m\u001b[0m\n\u001b[1;32m     79\u001b[0m     \"\"\"\n\u001b[0;32m---> 80\u001b[0;31m     \u001b[0mcheck_consistent_length\u001b[0m\u001b[0;34m(\u001b[0m\u001b[0my_true\u001b[0m\u001b[0;34m,\u001b[0m \u001b[0my_pred\u001b[0m\u001b[0;34m)\u001b[0m\u001b[0;34m\u001b[0m\u001b[0;34m\u001b[0m\u001b[0m\n\u001b[0m\u001b[1;32m     81\u001b[0m     \u001b[0mtype_true\u001b[0m \u001b[0;34m=\u001b[0m \u001b[0mtype_of_target\u001b[0m\u001b[0;34m(\u001b[0m\u001b[0my_true\u001b[0m\u001b[0;34m)\u001b[0m\u001b[0;34m\u001b[0m\u001b[0;34m\u001b[0m\u001b[0m\n\u001b[1;32m     82\u001b[0m     \u001b[0mtype_pred\u001b[0m \u001b[0;34m=\u001b[0m \u001b[0mtype_of_target\u001b[0m\u001b[0;34m(\u001b[0m\u001b[0my_pred\u001b[0m\u001b[0;34m)\u001b[0m\u001b[0;34m\u001b[0m\u001b[0;34m\u001b[0m\u001b[0m\n",
      "\u001b[0;32m~/opt/anaconda3/lib/python3.7/site-packages/sklearn/utils/validation.py\u001b[0m in \u001b[0;36mcheck_consistent_length\u001b[0;34m(*arrays)\u001b[0m\n\u001b[1;32m    210\u001b[0m     \u001b[0;32mif\u001b[0m \u001b[0mlen\u001b[0m\u001b[0;34m(\u001b[0m\u001b[0muniques\u001b[0m\u001b[0;34m)\u001b[0m \u001b[0;34m>\u001b[0m \u001b[0;36m1\u001b[0m\u001b[0;34m:\u001b[0m\u001b[0;34m\u001b[0m\u001b[0;34m\u001b[0m\u001b[0m\n\u001b[1;32m    211\u001b[0m         raise ValueError(\"Found input variables with inconsistent numbers of\"\n\u001b[0;32m--> 212\u001b[0;31m                          \" samples: %r\" % [int(l) for l in lengths])\n\u001b[0m\u001b[1;32m    213\u001b[0m \u001b[0;34m\u001b[0m\u001b[0m\n\u001b[1;32m    214\u001b[0m \u001b[0;34m\u001b[0m\u001b[0m\n",
      "\u001b[0;31mValueError\u001b[0m: Found input variables with inconsistent numbers of samples: [28205, 32236]"
     ]
    }
   ],
   "source": [
    "print(classification_report(original_ytrain, y_pred_train, target_names=['anomaly', 'normal', \"na\"]))\n",
    "print (\"AUC: \", \"{:.1%}\".format(roc_auc_score(original_ytrain, y_pred_train)))\n",
    "cm = confusion_matrix(y_train_sa, y_pred_train)\n",
    "plot_confusion_matrix(cm, title=\"IF Confusion Matrix - SA\", save=True, saveas=\"IF_SA.png\")"
   ]
  },
  {
   "cell_type": "code",
   "execution_count": 190,
   "metadata": {},
   "outputs": [
    {
     "name": "stderr",
     "output_type": "stream",
     "text": [
      "/Users/kotsch/opt/anaconda3/lib/python3.7/site-packages/sklearn/metrics/_classification.py:1272: UndefinedMetricWarning: Precision and F-score are ill-defined and being set to 0.0 in labels with no predicted samples. Use `zero_division` parameter to control this behavior.\n",
      "  _warn_prf(average, modifier, msg_start, len(result))\n",
      "/Users/kotsch/opt/anaconda3/lib/python3.7/site-packages/sklearn/metrics/_classification.py:1272: UndefinedMetricWarning: Recall and F-score are ill-defined and being set to 0.0 in labels with no true samples. Use `zero_division` parameter to control this behavior.\n",
      "  _warn_prf(average, modifier, msg_start, len(result))\n",
      "/Users/kotsch/opt/anaconda3/lib/python3.7/site-packages/ipykernel_launcher.py:8: RuntimeWarning: invalid value encountered in true_divide\n",
      "  \n"
     ]
    },
    {
     "name": "stdout",
     "output_type": "stream",
     "text": [
      "              precision    recall  f1-score   support\n",
      "\n",
      "     anomaly       0.00      0.00      0.00         0\n",
      "      normal       0.00      0.00      0.00     28100\n",
      "          na       0.00      0.69      0.01       105\n",
      "\n",
      "    accuracy                           0.00     28205\n",
      "   macro avg       0.00      0.23      0.00     28205\n",
      "weighted avg       0.00      0.00      0.00     28205\n",
      "\n",
      "AUC:  41.8%\n"
     ]
    },
    {
     "data": {
      "image/png": "[encoded data removed]",
      "text/plain": [
       "<Figure size 432x288 with 2 Axes>"
      ]
     },
     "metadata": {
      "needs_background": "light"
     },
     "output_type": "display_data"
    }
   ],
   "source": [
    "print(classification_report(y_train_nd, y_pred_train_lof, target_names=['anomaly', 'normal', \"na\"]))\n",
    "print (\"AUC: \", \"{:.1%}\".format(roc_auc_score(y_train_nd, y_pred_train_lof)))\n",
    "cm = confusion_matrix(y_train_nd, y_pred_train_lof)\n",
    "plot_confusion_matrix(cm, title=\"LOF Confusion Matrix - SA\")"
   ]
  },
  {
   "cell_type": "code",
   "execution_count": null,
   "metadata": {},
   "outputs": [],
   "source": []
  },
  {
   "cell_type": "code",
   "execution_count": null,
   "metadata": {},
   "outputs": [],
   "source": []
  },
  {
   "cell_type": "code",
   "execution_count": null,
   "metadata": {},
   "outputs": [],
   "source": []
  },
  {
   "cell_type": "code",
   "execution_count": null,
   "metadata": {},
   "outputs": [],
   "source": []
  },
  {
   "cell_type": "code",
   "execution_count": null,
   "metadata": {},
   "outputs": [],
   "source": []
  },
  {
   "cell_type": "code",
   "execution_count": 191,
   "metadata": {},
   "outputs": [
    {
     "name": "stderr",
     "output_type": "stream",
     "text": [
      "Downloading https://ndownloader.figshare.com/files/5976045\n"
     ]
    },
    {
     "data": {
      "text/plain": [
       "'SF Anomaly Rate is:0.5%'"
      ]
     },
     "execution_count": 191,
     "metadata": {},
     "output_type": "execute_result"
    }
   ],
   "source": [
    "target = 'target'\n",
    "sf = datasets.fetch_kddcup99(subset='SF', percent10=False)\n",
    "dfSF=pd.DataFrame(sf.data, \n",
    "                  columns=[\"duration\", \"service\", \"src_bytes\", \"dst_bytes\"])\n",
    "assert len(dfSF)>0, \"SF dataset no loaded.\"\n",
    "\n",
    "dfSF[target]=sf.target\n",
    "anomaly_rateSF = 1.0 - len(dfSF.loc[dfSF[target]==b'normal.'])/len(dfSF)\n",
    "\n",
    "\"SF Anomaly Rate is:\"+\"{:.1%}\".format(anomaly_rateSF)"
   ]
  },
  {
   "cell_type": "code",
   "execution_count": null,
   "metadata": {},
   "outputs": [],
   "source": []
  },
  {
   "cell_type": "code",
   "execution_count": null,
   "metadata": {},
   "outputs": [],
   "source": []
  },
  {
   "cell_type": "code",
   "execution_count": null,
   "metadata": {},
   "outputs": [],
   "source": []
  },
  {
   "cell_type": "code",
   "execution_count": null,
   "metadata": {},
   "outputs": [],
   "source": []
  },
  {
   "cell_type": "code",
   "execution_count": null,
   "metadata": {},
   "outputs": [],
   "source": []
  },
  {
   "cell_type": "code",
   "execution_count": 104,
   "metadata": {},
   "outputs": [],
   "source": [
    "\n",
    "\n",
    "\n",
    "# create test and training data \n",
    "X_train, X_test, y_train, y_test = train_test_split(X, y, test_size=0.3, random_state=1)\n",
    "\n",
    "\n",
    "# scale data\n",
    "scaler = StandardScaler()\n",
    "X_train = scaler.fit_transform(X_train)\n",
    "X_test = scaler.transform(X_test)\n"
   ]
  },
  {
   "cell_type": "code",
   "execution_count": 81,
   "metadata": {},
   "outputs": [],
   "source": [
    "ifo = IForest(n_estimators=1000, max_samples=1024, random_state=1,\n",
    "              contamination=0.01, behaviour='new')\n",
    "ifo.fit(X_train)\n",
    "# NB: in contradiction to the documentation, there is no .decision_scores_ attribute for iForest\n",
    "iforest_scores = ifo.decision_scores_ #ifo.decision_function(x_pen) "
   ]
  },
  {
   "cell_type": "code",
   "execution_count": 82,
   "metadata": {},
   "outputs": [
    {
     "data": {
      "text/plain": [
       "(array([1.6172e+04, 4.2610e+03, 2.1840e+03, 1.6650e+03, 6.7200e+02,\n",
       "        4.4200e+02, 3.6700e+02, 2.7100e+02, 2.2800e+02, 2.2600e+02,\n",
       "        1.7900e+02, 1.2600e+02, 1.3300e+02, 1.0100e+02, 9.8000e+01,\n",
       "        7.7000e+01, 6.3000e+01, 8.1000e+01, 6.6000e+01, 4.3000e+01,\n",
       "        4.9000e+01, 4.8000e+01, 4.5000e+01, 4.6000e+01, 3.9000e+01,\n",
       "        4.1000e+01, 4.2000e+01, 3.2000e+01, 2.5000e+01, 4.7000e+01,\n",
       "        3.7000e+01, 3.0000e+01, 2.4000e+01, 2.8000e+01, 2.8000e+01,\n",
       "        2.4000e+01, 1.5000e+01, 2.6000e+01, 2.2000e+01, 1.3000e+01,\n",
       "        1.8000e+01, 1.0000e+01, 1.7000e+01, 8.0000e+00, 1.1000e+01,\n",
       "        9.0000e+00, 5.0000e+00, 7.0000e+00, 2.0000e+00, 2.0000e+00]),\n",
       " array([-0.36016911, -0.34880555, -0.33744199, -0.32607843, -0.31471487,\n",
       "        -0.30335131, -0.29198775, -0.28062419, -0.26926063, -0.25789707,\n",
       "        -0.24653352, -0.23516996, -0.2238064 , -0.21244284, -0.20107928,\n",
       "        -0.18971572, -0.17835216, -0.1669886 , -0.15562504, -0.14426148,\n",
       "        -0.13289792, -0.12153436, -0.11017081, -0.09880725, -0.08744369,\n",
       "        -0.07608013, -0.06471657, -0.05335301, -0.04198945, -0.03062589,\n",
       "        -0.01926233, -0.00789877,  0.00346479,  0.01482835,  0.0261919 ,\n",
       "         0.03755546,  0.04891902,  0.06028258,  0.07164614,  0.0830097 ,\n",
       "         0.09437326,  0.10573682,  0.11710038,  0.12846394,  0.1398275 ,\n",
       "         0.15119105,  0.16255461,  0.17391817,  0.18528173,  0.19664529,\n",
       "         0.20800885]),\n",
       " <a list of 50 Patch objects>)"
      ]
     },
     "execution_count": 82,
     "metadata": {},
     "output_type": "execute_result"
    },
    {
     "data": {
      "image/png": "[encoded data removed]",
      "text/plain": [
       "<Figure size 864x576 with 1 Axes>"
      ]
     },
     "metadata": {
      "needs_background": "light"
     },
     "output_type": "display_data"
    }
   ],
   "source": [
    "#### Ploting the graph to identify the anomolie score .\n",
    "plt.figure(figsize=(12, 8))\n",
    "plt.hist(iforest_scores, bins=50)"
   ]
  },
  {
   "cell_type": "code",
   "execution_count": 108,
   "metadata": {},
   "outputs": [
    {
     "data": {
      "text/plain": [
       "array([ 1,  1, -1, ...,  1,  1,  1])"
      ]
     },
     "execution_count": 108,
     "metadata": {},
     "output_type": "execute_result"
    }
   ],
   "source": [
    "rng = np.random.RandomState(42)\n",
    "\n",
    "\n",
    "\n",
    "fraud = df_acc[df_acc[\"fraud\"]== 1]\n",
    "\n",
    "X_outliers = fraud[['DaysAccountOpen', \n",
    "            'acquire_volume', \n",
    "            'acquire_count_transactions', \n",
    "            'transfer_volume',\n",
    "            'transfer_count_transactions']]\n",
    "\n",
    "# X_outliers = y\n",
    "# X_outliers = y.values\n",
    "# X_outliers = y.array.reshape(-1, 1) \n",
    "\n",
    "\n",
    "# fit the model\n",
    "clf = IsolationForest(max_samples=100, random_state=rng)\n",
    "clf.fit(X_train)\n",
    "y_pred_train = clf.predict(X_train)\n",
    "y_pred_test = clf.predict(X_test)"
   ]
  },
  {
   "cell_type": "code",
   "execution_count": 113,
   "metadata": {},
   "outputs": [
    {
     "ename": "ValueError",
     "evalue": "Number of features of the model must match the input. Model n_features is 5 and input n_features is 2.",
     "output_type": "error",
     "traceback": [
      "\u001b[0;31m---------------------------------------------------------------------------\u001b[0m",
      "\u001b[0;31mValueError\u001b[0m                                Traceback (most recent call last)",
      "\u001b[0;32m<ipython-input-113-063d373400a5>\u001b[0m in \u001b[0;36m<module>\u001b[0;34m\u001b[0m\n\u001b[1;32m     25\u001b[0m \u001b[0;31m# plot the line, the samples, and the nearest vectors to the plane\u001b[0m\u001b[0;34m\u001b[0m\u001b[0;34m\u001b[0m\u001b[0;34m\u001b[0m\u001b[0m\n\u001b[1;32m     26\u001b[0m \u001b[0mxx\u001b[0m\u001b[0;34m,\u001b[0m \u001b[0myy\u001b[0m \u001b[0;34m=\u001b[0m \u001b[0mnp\u001b[0m\u001b[0;34m.\u001b[0m\u001b[0mmeshgrid\u001b[0m\u001b[0;34m(\u001b[0m\u001b[0mnp\u001b[0m\u001b[0;34m.\u001b[0m\u001b[0mlinspace\u001b[0m\u001b[0;34m(\u001b[0m\u001b[0;34m-\u001b[0m\u001b[0;36m5\u001b[0m\u001b[0;34m,\u001b[0m \u001b[0;36m2\u001b[0m\u001b[0;34m,\u001b[0m \u001b[0;36m50\u001b[0m\u001b[0;34m)\u001b[0m\u001b[0;34m,\u001b[0m \u001b[0mnp\u001b[0m\u001b[0;34m.\u001b[0m\u001b[0mlinspace\u001b[0m\u001b[0;34m(\u001b[0m\u001b[0;34m-\u001b[0m\u001b[0;36m5\u001b[0m\u001b[0;34m,\u001b[0m \u001b[0;36m2\u001b[0m\u001b[0;34m,\u001b[0m \u001b[0;36m50\u001b[0m\u001b[0;34m)\u001b[0m\u001b[0;34m)\u001b[0m\u001b[0;34m\u001b[0m\u001b[0;34m\u001b[0m\u001b[0m\n\u001b[0;32m---> 27\u001b[0;31m \u001b[0mZ\u001b[0m \u001b[0;34m=\u001b[0m \u001b[0mclf\u001b[0m\u001b[0;34m.\u001b[0m\u001b[0mdecision_function\u001b[0m\u001b[0;34m(\u001b[0m\u001b[0mnp\u001b[0m\u001b[0;34m.\u001b[0m\u001b[0mc_\u001b[0m\u001b[0;34m[\u001b[0m\u001b[0mxx\u001b[0m\u001b[0;34m.\u001b[0m\u001b[0mravel\u001b[0m\u001b[0;34m(\u001b[0m\u001b[0;34m)\u001b[0m\u001b[0;34m,\u001b[0m \u001b[0myy\u001b[0m\u001b[0;34m.\u001b[0m\u001b[0mravel\u001b[0m\u001b[0;34m(\u001b[0m\u001b[0;34m)\u001b[0m\u001b[0;34m]\u001b[0m\u001b[0;34m)\u001b[0m\u001b[0;34m\u001b[0m\u001b[0;34m\u001b[0m\u001b[0m\n\u001b[0m\u001b[1;32m     28\u001b[0m \u001b[0mZ\u001b[0m \u001b[0;34m=\u001b[0m \u001b[0mZ\u001b[0m\u001b[0;34m.\u001b[0m\u001b[0mreshape\u001b[0m\u001b[0;34m(\u001b[0m\u001b[0mxx\u001b[0m\u001b[0;34m.\u001b[0m\u001b[0mshape\u001b[0m\u001b[0;34m)\u001b[0m\u001b[0;34m\u001b[0m\u001b[0;34m\u001b[0m\u001b[0m\n\u001b[1;32m     29\u001b[0m \u001b[0;34m\u001b[0m\u001b[0m\n",
      "\u001b[0;32m~/opt/anaconda3/lib/python3.7/site-packages/sklearn/ensemble/_iforest.py\u001b[0m in \u001b[0;36mdecision_function\u001b[0;34m(self, X)\u001b[0m\n\u001b[1;32m    360\u001b[0m         \u001b[0;31m# an outlier:\u001b[0m\u001b[0;34m\u001b[0m\u001b[0;34m\u001b[0m\u001b[0;34m\u001b[0m\u001b[0m\n\u001b[1;32m    361\u001b[0m \u001b[0;34m\u001b[0m\u001b[0m\n\u001b[0;32m--> 362\u001b[0;31m         \u001b[0;32mreturn\u001b[0m \u001b[0mself\u001b[0m\u001b[0;34m.\u001b[0m\u001b[0mscore_samples\u001b[0m\u001b[0;34m(\u001b[0m\u001b[0mX\u001b[0m\u001b[0;34m)\u001b[0m \u001b[0;34m-\u001b[0m \u001b[0mself\u001b[0m\u001b[0;34m.\u001b[0m\u001b[0moffset_\u001b[0m\u001b[0;34m\u001b[0m\u001b[0;34m\u001b[0m\u001b[0m\n\u001b[0m\u001b[1;32m    363\u001b[0m \u001b[0;34m\u001b[0m\u001b[0m\n\u001b[1;32m    364\u001b[0m     \u001b[0;32mdef\u001b[0m \u001b[0mscore_samples\u001b[0m\u001b[0;34m(\u001b[0m\u001b[0mself\u001b[0m\u001b[0;34m,\u001b[0m \u001b[0mX\u001b[0m\u001b[0;34m)\u001b[0m\u001b[0;34m:\u001b[0m\u001b[0;34m\u001b[0m\u001b[0;34m\u001b[0m\u001b[0m\n",
      "\u001b[0;32m~/opt/anaconda3/lib/python3.7/site-packages/sklearn/ensemble/_iforest.py\u001b[0m in \u001b[0;36mscore_samples\u001b[0;34m(self, X)\u001b[0m\n\u001b[1;32m    395\u001b[0m                              \u001b[0;34m\"match the input. Model n_features is {0} and \"\u001b[0m\u001b[0;34m\u001b[0m\u001b[0;34m\u001b[0m\u001b[0m\n\u001b[1;32m    396\u001b[0m                              \u001b[0;34m\"input n_features is {1}.\"\u001b[0m\u001b[0;34m\u001b[0m\u001b[0;34m\u001b[0m\u001b[0m\n\u001b[0;32m--> 397\u001b[0;31m                              \"\".format(self.n_features_, X.shape[1]))\n\u001b[0m\u001b[1;32m    398\u001b[0m \u001b[0;34m\u001b[0m\u001b[0m\n\u001b[1;32m    399\u001b[0m         \u001b[0;31m# Take the opposite of the scores as bigger is better (here less\u001b[0m\u001b[0;34m\u001b[0m\u001b[0;34m\u001b[0m\u001b[0;34m\u001b[0m\u001b[0m\n",
      "\u001b[0;31mValueError\u001b[0m: Number of features of the model must match the input. Model n_features is 5 and input n_features is 2."
     ]
    }
   ],
   "source": [
    "rng = np.random.RandomState(42)\n",
    "\n",
    "\n",
    "\n",
    "fraud = df_acc[df_acc[\"fraud\"]== 1]\n",
    "\n",
    "X_outliers = fraud[['DaysAccountOpen', \n",
    "            'acquire_volume', \n",
    "            'acquire_count_transactions', \n",
    "            'transfer_volume',\n",
    "            'transfer_count_transactions']]\n",
    "\n",
    "# X_outliers = y\n",
    "# X_outliers = y.values\n",
    "# X_outliers = y.array.reshape(-1, 1) \n",
    "\n",
    "\n",
    "# fit the model\n",
    "clf = IsolationForest(max_samples=100, random_state=rng)\n",
    "clf.fit(X_train)\n",
    "y_pred_train = clf.predict(X_train)\n",
    "y_pred_test = clf.predict(X_test)\n",
    "y_pred_outliers = clf.predict(X_outliers)\n",
    "\n",
    "# plot the line, the samples, and the nearest vectors to the plane\n",
    "xx, yy = np.meshgrid(np.linspace(-5, 2, 50), np.linspace(-5, 2, 50))\n",
    "Z = clf.decision_function(np.c_[xx.ravel(), yy.ravel()])\n",
    "Z = Z.reshape(xx.shape)\n",
    "\n",
    "plt.title(\"IsolationForest\")\n",
    "plt.contourf(xx, yy, Z, cmap=plt.cm.Blues_r)\n",
    "\n",
    "b1 = plt.scatter(X_train[:, 0], X_train[:, 1], c='white',\n",
    "                 s=20, edgecolor='k')\n",
    "b2 = plt.scatter(X_test[:, 0], X_test[:, 1], c='green',\n",
    "                 s=20, edgecolor='k')\n",
    "c = plt.scatter(X_outliers[:, 0], X_outliers[:, 1], c='red',\n",
    "                s=20, edgecolor='k')\n",
    "plt.axis('tight')\n",
    "plt.xlim((-5, 5))\n",
    "plt.ylim((-5, 5))\n",
    "plt.legend([b1, b2, c],\n",
    "           [\"training observations\",\n",
    "            \"new regular observations\", \"new abnormal observations\"],\n",
    "           loc=\"upper left\")\n",
    "plt.show()"
   ]
  },
  {
   "cell_type": "code",
   "execution_count": 90,
   "metadata": {},
   "outputs": [],
   "source": [
    "# Generate train data\n",
    "X = 0.3 * rng.randn(100, 2)\n",
    "X_train = np.r_[X + 2, X - 2]\n",
    "# Generate some regular novel observations\n",
    "X = 0.3 * rng.randn(20, 2)\n",
    "X_test = np.r_[X + 2, X - 2]\n",
    "# Generate some abnormal novel observations\n",
    "X_outliers = rng.uniform(low=-4, high=4, size=(20, 2))"
   ]
  },
  {
   "cell_type": "code",
   "execution_count": 100,
   "metadata": {},
   "outputs": [
    {
     "data": {
      "text/plain": [
       "array([['DE 1903 - BHF - Bank Aktiengesellschaft Personenkonto',\n",
       "        'BHF - Bank Aktiengesellschaft', 'DE', ..., 2.654416924549659,\n",
       "        1.0, 1.7270721230170791],\n",
       "       ['BE Sintex International INC Holding',\n",
       "        'Sintex International INC', 'BE', ..., 1.036595671888611, 1.0,\n",
       "        -0.04227499164175835],\n",
       "       ['PL Instalacja do wypalania ceramiki budowlanej - piec',\n",
       "        'P.P.U.H. \"MARZENA\" sp. z o.o.', 'PL', ..., -5.199337582605575,\n",
       "        0.0, -0.05115719694218756],\n",
       "       ...,\n",
       "       ['DE TIMES TRADING GmbH', 'TIMES TRADING GmbH', 'DE', ...,\n",
       "        -5.199337582605575, 0.0, -0.05115719694218756],\n",
       "       ['DE World Energy Germany', 'World Energy DE GmbH', 'DE', ...,\n",
       "        -5.199337582605575, 0.0, -0.05115719694218756],\n",
       "       ['GB SVS Trading Account', 'SVS Securities PLC', 'GB', ...,\n",
       "        1.7956002269816422, 1.0, 0.05374379841106473]], dtype=object)"
      ]
     },
     "execution_count": 100,
     "metadata": {},
     "output_type": "execute_result"
    }
   ],
   "source": [
    "X_outliers"
   ]
  },
  {
   "cell_type": "code",
   "execution_count": 111,
   "metadata": {},
   "outputs": [
    {
     "data": {
      "text/plain": [
       "array([[ 4.01800000e+03,  1.17397170e+07,  1.27000000e+03,\n",
       "         2.00000000e+00,  2.00000000e+00],\n",
       "       [ 3.12700000e+03,  7.19936092e+08,  3.95200000e+03,\n",
       "         6.46543679e+08,  7.96300000e+03],\n",
       "       [ 4.01800000e+03,  8.91666930e+07,  2.55000000e+03,\n",
       "         2.00000000e+00,  2.00000000e+00],\n",
       "       ...,\n",
       "       [-2.00000000e+00, -2.00000000e+00, -2.00000000e+00,\n",
       "        -2.00000000e+00, -2.00000000e+00],\n",
       "       [-2.00000000e+00, -2.00000000e+00, -2.00000000e+00,\n",
       "        -2.00000000e+00, -2.00000000e+00],\n",
       "       [-2.00000000e+00, -2.00000000e+00, -2.00000000e+00,\n",
       "        -2.00000000e+00, -2.00000000e+00]])"
      ]
     },
     "execution_count": 111,
     "metadata": {},
     "output_type": "execute_result"
    }
   ],
   "source": []
  },
  {
   "cell_type": "code",
   "execution_count": null,
   "metadata": {},
   "outputs": [],
   "source": []
  },
  {
   "cell_type": "code",
   "execution_count": null,
   "metadata": {},
   "outputs": [],
   "source": [
    "# define data and target \n",
    "df_acc_data = df_acc[['acquire_volume', 'acquire_count_transactions', 'transfer_volume',\n",
    "                      'transfer_count_transactions', 'average_volume_per_transaction',\n",
    "                     'average_volume_per_transaction.1']]\n",
    "\n",
    "df_acc_target = df_acc[['Fraudulent']]\n",
    "\n",
    "\n",
    "# Split dataset into training set and test set\n",
    "X_train, X_test, y_train, y_test = train_test_split(df_acc_data,\n",
    "                                                    df_acc_target, test_size=0.3,random_state=109)\n",
    "\n"
   ]
  },
  {
   "cell_type": "code",
   "execution_count": null,
   "metadata": {},
   "outputs": [],
   "source": []
  },
  {
   "cell_type": "code",
   "execution_count": null,
   "metadata": {},
   "outputs": [],
   "source": []
  },
  {
   "cell_type": "code",
   "execution_count": null,
   "metadata": {},
   "outputs": [],
   "source": [
    "### Split the data set in training and test \n",
    "\n",
    "msk = np.random.rand(len(df_acc)) < 0.8\n",
    "train = df_acc[msk]\n",
    "test = df_acc[~msk]\n"
   ]
  },
  {
   "cell_type": "code",
   "execution_count": null,
   "metadata": {},
   "outputs": [],
   "source": [
    "len(test)"
   ]
  },
  {
   "cell_type": "code",
   "execution_count": null,
   "metadata": {},
   "outputs": [],
   "source": [
    "len(train)"
   ]
  },
  {
   "cell_type": "code",
   "execution_count": null,
   "metadata": {},
   "outputs": [],
   "source": [
    "train['Fraudulent'].value_counts()"
   ]
  },
  {
   "cell_type": "code",
   "execution_count": null,
   "metadata": {},
   "outputs": [],
   "source": [
    "\n",
    "\n",
    "x_train, x_test, y_train, y_test = train_test_split(df_acc, test_size=0.2)"
   ]
  },
  {
   "cell_type": "code",
   "execution_count": null,
   "metadata": {},
   "outputs": [],
   "source": [
    "# Split dataset into training set and test set\n",
    "X_train, X_test, y_train, y_test = train_test_split(cancer.data,\n",
    "                                                    cancer.target, test_size=0.3,random_state=109) # 70% training and 30% test"
   ]
  },
  {
   "cell_type": "code",
   "execution_count": null,
   "metadata": {},
   "outputs": [],
   "source": [
    "train['Fraudulent'].value_counts()"
   ]
  },
  {
   "cell_type": "code",
   "execution_count": null,
   "metadata": {},
   "outputs": [],
   "source": [
    "### Apply support vector machine model"
   ]
  },
  {
   "cell_type": "code",
   "execution_count": null,
   "metadata": {},
   "outputs": [],
   "source": [
    "#Import svm model\n",
    "from sklearn import svm\n",
    "\n",
    "#Create a svm Classifier\n",
    "clf = svm.SVC(kernel='linear') # Linear Kernel"
   ]
  },
  {
   "cell_type": "code",
   "execution_count": null,
   "metadata": {},
   "outputs": [],
   "source": [
    "#Train the model using the training sets\n",
    "clf.fit(train)\n",
    "\n",
    "#Predict the response for test dataset\n",
    "y_pred = clf.predict(test)"
   ]
  },
  {
   "cell_type": "code",
   "execution_count": null,
   "metadata": {},
   "outputs": [],
   "source": []
  },
  {
   "cell_type": "code",
   "execution_count": null,
   "metadata": {},
   "outputs": [],
   "source": []
  },
  {
   "cell_type": "code",
   "execution_count": null,
   "metadata": {},
   "outputs": [],
   "source": [
    "#Import scikit-learn dataset library\n",
    "from sklearn import datasets\n",
    "\n",
    "#Load dataset\n",
    "cancer = datasets.load_breast_cancer()"
   ]
  },
  {
   "cell_type": "code",
   "execution_count": null,
   "metadata": {},
   "outputs": [],
   "source": [
    "cancer"
   ]
  },
  {
   "cell_type": "code",
   "execution_count": null,
   "metadata": {},
   "outputs": [],
   "source": [
    "import pandas as pd\n",
    "from sklearn import datasets, linear_model\n",
    "from sklearn.model_selection import train_test_split\n",
    "from matplotlib import pyplot as plt\n",
    "\n",
    "# Load the Diabetes dataset\n",
    "columns = \"age sex bmi map tc ldl hdl tch ltg glu\".split() # Declare the columns names\n",
    "diabetes = datasets.load_diabetes() # Call the diabetes dataset from sklearn\n",
    "df = pd.DataFrame(diabetes.data, columns=columns) # load the dataset as a pandas data frame\n",
    "y = diabetes.target # define the target variable (dependent variable) as y"
   ]
  },
  {
   "cell_type": "code",
   "execution_count": null,
   "metadata": {},
   "outputs": [],
   "source": [
    "df"
   ]
  },
  {
   "cell_type": "code",
   "execution_count": null,
   "metadata": {},
   "outputs": [],
   "source": []
  }
 ],
 "metadata": {
  "kernelspec": {
   "display_name": "Python 3",
   "language": "python",
   "name": "python3"
  },
  "language_info": {
   "codemirror_mode": {
    "name": "ipython",
    "version": 3
   },
   "file_extension": ".py",
   "mimetype": "text/x-python",
   "name": "python",
   "nbconvert_exporter": "python",
   "pygments_lexer": "ipython3",
   "version": "3.7.6"
  }
 },
 "nbformat": 4,
 "nbformat_minor": 4
}
