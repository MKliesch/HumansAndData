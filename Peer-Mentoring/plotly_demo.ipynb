{
 "cells": [
  {
   "cell_type": "markdown",
   "id": "79e210a3",
   "metadata": {},
   "source": [
    "# Plotly brief demonstration\n",
    "> Knowing humans knowing data: peer mentoring 22.06.21\n",
    "\n",
    "\n"
   ]
  },
  {
   "cell_type": "markdown",
   "id": "f8baaf0e",
   "metadata": {},
   "source": [
    "## Creating a scatterplot using plotly 📈"
   ]
  },
  {
   "cell_type": "markdown",
   "id": "68643d50",
   "metadata": {},
   "source": [
    "### 1. setting up "
   ]
  },
  {
   "cell_type": "code",
   "execution_count": 19,
   "id": "be6a12e5",
   "metadata": {},
   "outputs": [
    {
     "data": {
      "text/html": [
       "        <script type=\"text/javascript\">\n",
       "        window.PlotlyConfig = {MathJaxConfig: 'local'};\n",
       "        if (window.MathJax) {MathJax.Hub.Config({SVG: {font: \"STIX-Web\"}});}\n",
       "        if (typeof require !== 'undefined') {\n",
       "        require.undef(\"plotly\");\n",
       "        requirejs.config({\n",
       "            paths: {\n",
       "                'plotly': ['https://cdn.plot.ly/plotly-latest.min']\n",
       "            }\n",
       "        });\n",
       "        require(['plotly'], function(Plotly) {\n",
       "            window._Plotly = Plotly;\n",
       "        });\n",
       "        }\n",
       "        </script>\n",
       "        "
      ]
     },
     "metadata": {},
     "output_type": "display_data"
    }
   ],
   "source": [
    "import plotly as py\n",
    "import plotly.graph_objs as go  #importing graph object library of plotly, making more customized plots\n",
    "import plotly.express as px     #easier code, very quick data handling, changing features of the graph \n",
    "import pandas as pd             #reading in data frames\n",
    "\n",
    "import plotly.offline as pyo    #to be able to use all plotly functionality offline\n",
    "py.offline.init_notebook_mode(connected=True) #to display plots inside the notebook, you need to initiate plotly's notebook mode as follows"
   ]
  },
  {
   "cell_type": "markdown",
   "id": "f395bf7d",
   "metadata": {},
   "source": [
    "### 2. importing data"
   ]
  },
  {
   "cell_type": "code",
   "execution_count": 9,
   "id": "0eb583d0",
   "metadata": {},
   "outputs": [],
   "source": [
    "df = pd.read_csv ('/Users/reka/Desktop/knowing_humnas_knowing_data/Scatterplot.csv')\n"
   ]
  },
  {
   "cell_type": "markdown",
   "id": "02fe47e7",
   "metadata": {},
   "source": [
    "> minor note: I had problems accessing my local drive so I had to set up full disk access in the Privacy Settings on my mac"
   ]
  },
  {
   "cell_type": "markdown",
   "id": "4fde29dd",
   "metadata": {},
   "source": [
    "### 2.1. check out the data to make sure it was read correctly"
   ]
  },
  {
   "cell_type": "code",
   "execution_count": 10,
   "id": "9531ddc7",
   "metadata": {
    "scrolled": true
   },
   "outputs": [
    {
     "data": {
      "text/html": [
       "<div>\n",
       "<style scoped>\n",
       "    .dataframe tbody tr th:only-of-type {\n",
       "        vertical-align: middle;\n",
       "    }\n",
       "\n",
       "    .dataframe tbody tr th {\n",
       "        vertical-align: top;\n",
       "    }\n",
       "\n",
       "    .dataframe thead th {\n",
       "        text-align: right;\n",
       "    }\n",
       "</style>\n",
       "<table border=\"1\" class=\"dataframe\">\n",
       "  <thead>\n",
       "    <tr style=\"text-align: right;\">\n",
       "      <th></th>\n",
       "      <th>Group</th>\n",
       "      <th>GMV_children</th>\n",
       "      <th>GMV_adults</th>\n",
       "    </tr>\n",
       "  </thead>\n",
       "  <tbody>\n",
       "    <tr>\n",
       "      <th>0</th>\n",
       "      <td>own_mother</td>\n",
       "      <td>36300</td>\n",
       "      <td>27544</td>\n",
       "    </tr>\n",
       "    <tr>\n",
       "      <th>1</th>\n",
       "      <td>own_mother</td>\n",
       "      <td>33411</td>\n",
       "      <td>25574</td>\n",
       "    </tr>\n",
       "    <tr>\n",
       "      <th>2</th>\n",
       "      <td>own_mother</td>\n",
       "      <td>33491</td>\n",
       "      <td>26752</td>\n",
       "    </tr>\n",
       "    <tr>\n",
       "      <th>3</th>\n",
       "      <td>own_mother</td>\n",
       "      <td>32000</td>\n",
       "      <td>23911</td>\n",
       "    </tr>\n",
       "    <tr>\n",
       "      <th>4</th>\n",
       "      <td>own_mother</td>\n",
       "      <td>38225</td>\n",
       "      <td>30927</td>\n",
       "    </tr>\n",
       "    <tr>\n",
       "      <th>...</th>\n",
       "      <td>...</td>\n",
       "      <td>...</td>\n",
       "      <td>...</td>\n",
       "    </tr>\n",
       "    <tr>\n",
       "      <th>129</th>\n",
       "      <td>random_adult</td>\n",
       "      <td>33241</td>\n",
       "      <td>22063</td>\n",
       "    </tr>\n",
       "    <tr>\n",
       "      <th>130</th>\n",
       "      <td>random_adult</td>\n",
       "      <td>32564</td>\n",
       "      <td>22510</td>\n",
       "    </tr>\n",
       "    <tr>\n",
       "      <th>131</th>\n",
       "      <td>random_adult</td>\n",
       "      <td>31830</td>\n",
       "      <td>26357</td>\n",
       "    </tr>\n",
       "    <tr>\n",
       "      <th>132</th>\n",
       "      <td>random_adult</td>\n",
       "      <td>33595</td>\n",
       "      <td>25814</td>\n",
       "    </tr>\n",
       "    <tr>\n",
       "      <th>133</th>\n",
       "      <td>random_adult</td>\n",
       "      <td>32788</td>\n",
       "      <td>22941</td>\n",
       "    </tr>\n",
       "  </tbody>\n",
       "</table>\n",
       "<p>134 rows × 3 columns</p>\n",
       "</div>"
      ],
      "text/plain": [
       "           Group   GMV_children  GMV_adults\n",
       "0      own_mother         36300       27544\n",
       "1      own_mother         33411       25574\n",
       "2      own_mother         33491       26752\n",
       "3      own_mother         32000       23911\n",
       "4      own_mother         38225       30927\n",
       "..            ...           ...         ...\n",
       "129  random_adult         33241       22063\n",
       "130  random_adult         32564       22510\n",
       "131  random_adult         31830       26357\n",
       "132  random_adult         33595       25814\n",
       "133  random_adult         32788       22941\n",
       "\n",
       "[134 rows x 3 columns]"
      ]
     },
     "execution_count": 10,
     "metadata": {},
     "output_type": "execute_result"
    }
   ],
   "source": [
    "df"
   ]
  },
  {
   "cell_type": "markdown",
   "id": "6359d839",
   "metadata": {},
   "source": [
    "### 2.2. Plotting my data and adjusting with each step "
   ]
  },
  {
   "cell_type": "code",
   "execution_count": 20,
   "id": "a1d91c56",
   "metadata": {},
   "outputs": [
    {
     "data": {
      "application/vnd.plotly.v1+json": {
       "config": {
        "plotlyServerURL": "https://plot.ly"
       },
       "data": [
        {
         "hovertemplate": "GMV_adults=%{x}<br>GMV_children=%{y}<extra></extra>",
         "legendgroup": "",
         "marker": {
          "color": "#636efa",
          "symbol": "circle"
         },
         "mode": "markers",
         "name": "",
         "orientation": "v",
         "showlegend": false,
         "type": "scatter",
         "x": [
          27544,
          25574,
          26752,
          23911,
          30927,
          26339,
          22983,
          21831,
          23345,
          24945,
          22777,
          26298,
          26164,
          19851,
          27428,
          20793,
          24507,
          31235,
          27604,
          26941,
          28038,
          30286,
          27567,
          30742,
          19782,
          23858,
          24831,
          23954,
          25062,
          28708,
          24126,
          24891,
          25099,
          24086,
          26034,
          26357,
          27212,
          24781,
          27898,
          24996,
          25551,
          28447,
          22817,
          23855,
          24993,
          24593,
          24289,
          22941,
          24900,
          26167,
          25339,
          24785,
          28138,
          25814,
          26982,
          22013,
          22709,
          30230,
          27416,
          21800,
          22510,
          22063,
          25732,
          28258,
          27131,
          24831,
          29999,
          26752,
          30927,
          19782,
          24945,
          25062,
          22983,
          23345,
          26941,
          27567,
          23911,
          23858,
          24891,
          21831,
          24126,
          28708,
          26164,
          27428,
          30742,
          24831,
          23954,
          19851,
          22777,
          20793,
          25574,
          24086,
          30286,
          28038,
          27604,
          27544,
          25099,
          26298,
          26339,
          31235,
          24507,
          29999,
          24993,
          24996,
          22817,
          28447,
          26034,
          21800,
          27212,
          23855,
          28258,
          27416,
          24831,
          24900,
          30230,
          24781,
          27898,
          25551,
          26982,
          24593,
          25339,
          28138,
          22709,
          26167,
          25732,
          24289,
          27131,
          22013,
          24785,
          22063,
          22510,
          26357,
          25814,
          22941
         ],
         "xaxis": "x",
         "y": [
          36300,
          33411,
          33491,
          32000,
          38225,
          31580,
          30891,
          27946,
          31262,
          32729,
          36607,
          34836,
          36500,
          32726,
          33958,
          28972,
          31513,
          34069,
          31631,
          38128,
          37651,
          36179,
          36073,
          42425,
          37554,
          33519,
          35133,
          37380,
          29446,
          35993,
          31611,
          27307,
          33719,
          30222,
          28825,
          29754,
          39859,
          35821,
          33509,
          33013,
          34052,
          35260,
          34978,
          30839,
          33026,
          32144,
          31273,
          33827,
          32022,
          37533,
          32472,
          34225,
          37919,
          41490,
          29758,
          29983,
          34098,
          40744,
          36680,
          29743,
          27713,
          28034,
          33241,
          32564,
          31830,
          33595,
          32788,
          36300,
          33411,
          33491,
          32000,
          38225,
          31580,
          30891,
          27946,
          31262,
          32729,
          36607,
          34836,
          36500,
          32726,
          33958,
          28972,
          31513,
          34069,
          31631,
          38128,
          37651,
          36179,
          36073,
          42425,
          37554,
          33519,
          35133,
          37380,
          29446,
          35993,
          31611,
          27307,
          33719,
          30222,
          28825,
          29754,
          39859,
          35821,
          33509,
          33013,
          34052,
          35260,
          34978,
          30839,
          33026,
          32144,
          31273,
          33827,
          32022,
          37533,
          32472,
          34225,
          37919,
          41490,
          29758,
          29983,
          34098,
          40744,
          36680,
          29743,
          27713,
          28034,
          33241,
          32564,
          31830,
          33595,
          32788
         ],
         "yaxis": "y"
        }
       ],
       "layout": {
        "legend": {
         "tracegroupgap": 0
        },
        "margin": {
         "t": 60
        },
        "template": {
         "data": {
          "bar": [
           {
            "error_x": {
             "color": "#2a3f5f"
            },
            "error_y": {
             "color": "#2a3f5f"
            },
            "marker": {
             "line": {
              "color": "#E5ECF6",
              "width": 0.5
             }
            },
            "type": "bar"
           }
          ],
          "barpolar": [
           {
            "marker": {
             "line": {
              "color": "#E5ECF6",
              "width": 0.5
             }
            },
            "type": "barpolar"
           }
          ],
          "carpet": [
           {
            "aaxis": {
             "endlinecolor": "#2a3f5f",
             "gridcolor": "white",
             "linecolor": "white",
             "minorgridcolor": "white",
             "startlinecolor": "#2a3f5f"
            },
            "baxis": {
             "endlinecolor": "#2a3f5f",
             "gridcolor": "white",
             "linecolor": "white",
             "minorgridcolor": "white",
             "startlinecolor": "#2a3f5f"
            },
            "type": "carpet"
           }
          ],
          "choropleth": [
           {
            "colorbar": {
             "outlinewidth": 0,
             "ticks": ""
            },
            "type": "choropleth"
           }
          ],
          "contour": [
           {
            "colorbar": {
             "outlinewidth": 0,
             "ticks": ""
            },
            "colorscale": [
             [
              0,
              "#0d0887"
             ],
             [
              0.1111111111111111,
              "#46039f"
             ],
             [
              0.2222222222222222,
              "#7201a8"
             ],
             [
              0.3333333333333333,
              "#9c179e"
             ],
             [
              0.4444444444444444,
              "#bd3786"
             ],
             [
              0.5555555555555556,
              "#d8576b"
             ],
             [
              0.6666666666666666,
              "#ed7953"
             ],
             [
              0.7777777777777778,
              "#fb9f3a"
             ],
             [
              0.8888888888888888,
              "#fdca26"
             ],
             [
              1,
              "#f0f921"
             ]
            ],
            "type": "contour"
           }
          ],
          "contourcarpet": [
           {
            "colorbar": {
             "outlinewidth": 0,
             "ticks": ""
            },
            "type": "contourcarpet"
           }
          ],
          "heatmap": [
           {
            "colorbar": {
             "outlinewidth": 0,
             "ticks": ""
            },
            "colorscale": [
             [
              0,
              "#0d0887"
             ],
             [
              0.1111111111111111,
              "#46039f"
             ],
             [
              0.2222222222222222,
              "#7201a8"
             ],
             [
              0.3333333333333333,
              "#9c179e"
             ],
             [
              0.4444444444444444,
              "#bd3786"
             ],
             [
              0.5555555555555556,
              "#d8576b"
             ],
             [
              0.6666666666666666,
              "#ed7953"
             ],
             [
              0.7777777777777778,
              "#fb9f3a"
             ],
             [
              0.8888888888888888,
              "#fdca26"
             ],
             [
              1,
              "#f0f921"
             ]
            ],
            "type": "heatmap"
           }
          ],
          "heatmapgl": [
           {
            "colorbar": {
             "outlinewidth": 0,
             "ticks": ""
            },
            "colorscale": [
             [
              0,
              "#0d0887"
             ],
             [
              0.1111111111111111,
              "#46039f"
             ],
             [
              0.2222222222222222,
              "#7201a8"
             ],
             [
              0.3333333333333333,
              "#9c179e"
             ],
             [
              0.4444444444444444,
              "#bd3786"
             ],
             [
              0.5555555555555556,
              "#d8576b"
             ],
             [
              0.6666666666666666,
              "#ed7953"
             ],
             [
              0.7777777777777778,
              "#fb9f3a"
             ],
             [
              0.8888888888888888,
              "#fdca26"
             ],
             [
              1,
              "#f0f921"
             ]
            ],
            "type": "heatmapgl"
           }
          ],
          "histogram": [
           {
            "marker": {
             "colorbar": {
              "outlinewidth": 0,
              "ticks": ""
             }
            },
            "type": "histogram"
           }
          ],
          "histogram2d": [
           {
            "colorbar": {
             "outlinewidth": 0,
             "ticks": ""
            },
            "colorscale": [
             [
              0,
              "#0d0887"
             ],
             [
              0.1111111111111111,
              "#46039f"
             ],
             [
              0.2222222222222222,
              "#7201a8"
             ],
             [
              0.3333333333333333,
              "#9c179e"
             ],
             [
              0.4444444444444444,
              "#bd3786"
             ],
             [
              0.5555555555555556,
              "#d8576b"
             ],
             [
              0.6666666666666666,
              "#ed7953"
             ],
             [
              0.7777777777777778,
              "#fb9f3a"
             ],
             [
              0.8888888888888888,
              "#fdca26"
             ],
             [
              1,
              "#f0f921"
             ]
            ],
            "type": "histogram2d"
           }
          ],
          "histogram2dcontour": [
           {
            "colorbar": {
             "outlinewidth": 0,
             "ticks": ""
            },
            "colorscale": [
             [
              0,
              "#0d0887"
             ],
             [
              0.1111111111111111,
              "#46039f"
             ],
             [
              0.2222222222222222,
              "#7201a8"
             ],
             [
              0.3333333333333333,
              "#9c179e"
             ],
             [
              0.4444444444444444,
              "#bd3786"
             ],
             [
              0.5555555555555556,
              "#d8576b"
             ],
             [
              0.6666666666666666,
              "#ed7953"
             ],
             [
              0.7777777777777778,
              "#fb9f3a"
             ],
             [
              0.8888888888888888,
              "#fdca26"
             ],
             [
              1,
              "#f0f921"
             ]
            ],
            "type": "histogram2dcontour"
           }
          ],
          "mesh3d": [
           {
            "colorbar": {
             "outlinewidth": 0,
             "ticks": ""
            },
            "type": "mesh3d"
           }
          ],
          "parcoords": [
           {
            "line": {
             "colorbar": {
              "outlinewidth": 0,
              "ticks": ""
             }
            },
            "type": "parcoords"
           }
          ],
          "pie": [
           {
            "automargin": true,
            "type": "pie"
           }
          ],
          "scatter": [
           {
            "marker": {
             "colorbar": {
              "outlinewidth": 0,
              "ticks": ""
             }
            },
            "type": "scatter"
           }
          ],
          "scatter3d": [
           {
            "line": {
             "colorbar": {
              "outlinewidth": 0,
              "ticks": ""
             }
            },
            "marker": {
             "colorbar": {
              "outlinewidth": 0,
              "ticks": ""
             }
            },
            "type": "scatter3d"
           }
          ],
          "scattercarpet": [
           {
            "marker": {
             "colorbar": {
              "outlinewidth": 0,
              "ticks": ""
             }
            },
            "type": "scattercarpet"
           }
          ],
          "scattergeo": [
           {
            "marker": {
             "colorbar": {
              "outlinewidth": 0,
              "ticks": ""
             }
            },
            "type": "scattergeo"
           }
          ],
          "scattergl": [
           {
            "marker": {
             "colorbar": {
              "outlinewidth": 0,
              "ticks": ""
             }
            },
            "type": "scattergl"
           }
          ],
          "scattermapbox": [
           {
            "marker": {
             "colorbar": {
              "outlinewidth": 0,
              "ticks": ""
             }
            },
            "type": "scattermapbox"
           }
          ],
          "scatterpolar": [
           {
            "marker": {
             "colorbar": {
              "outlinewidth": 0,
              "ticks": ""
             }
            },
            "type": "scatterpolar"
           }
          ],
          "scatterpolargl": [
           {
            "marker": {
             "colorbar": {
              "outlinewidth": 0,
              "ticks": ""
             }
            },
            "type": "scatterpolargl"
           }
          ],
          "scatterternary": [
           {
            "marker": {
             "colorbar": {
              "outlinewidth": 0,
              "ticks": ""
             }
            },
            "type": "scatterternary"
           }
          ],
          "surface": [
           {
            "colorbar": {
             "outlinewidth": 0,
             "ticks": ""
            },
            "colorscale": [
             [
              0,
              "#0d0887"
             ],
             [
              0.1111111111111111,
              "#46039f"
             ],
             [
              0.2222222222222222,
              "#7201a8"
             ],
             [
              0.3333333333333333,
              "#9c179e"
             ],
             [
              0.4444444444444444,
              "#bd3786"
             ],
             [
              0.5555555555555556,
              "#d8576b"
             ],
             [
              0.6666666666666666,
              "#ed7953"
             ],
             [
              0.7777777777777778,
              "#fb9f3a"
             ],
             [
              0.8888888888888888,
              "#fdca26"
             ],
             [
              1,
              "#f0f921"
             ]
            ],
            "type": "surface"
           }
          ],
          "table": [
           {
            "cells": {
             "fill": {
              "color": "#EBF0F8"
             },
             "line": {
              "color": "white"
             }
            },
            "header": {
             "fill": {
              "color": "#C8D4E3"
             },
             "line": {
              "color": "white"
             }
            },
            "type": "table"
           }
          ]
         },
         "layout": {
          "annotationdefaults": {
           "arrowcolor": "#2a3f5f",
           "arrowhead": 0,
           "arrowwidth": 1
          },
          "autotypenumbers": "strict",
          "coloraxis": {
           "colorbar": {
            "outlinewidth": 0,
            "ticks": ""
           }
          },
          "colorscale": {
           "diverging": [
            [
             0,
             "#8e0152"
            ],
            [
             0.1,
             "#c51b7d"
            ],
            [
             0.2,
             "#de77ae"
            ],
            [
             0.3,
             "#f1b6da"
            ],
            [
             0.4,
             "#fde0ef"
            ],
            [
             0.5,
             "#f7f7f7"
            ],
            [
             0.6,
             "#e6f5d0"
            ],
            [
             0.7,
             "#b8e186"
            ],
            [
             0.8,
             "#7fbc41"
            ],
            [
             0.9,
             "#4d9221"
            ],
            [
             1,
             "#276419"
            ]
           ],
           "sequential": [
            [
             0,
             "#0d0887"
            ],
            [
             0.1111111111111111,
             "#46039f"
            ],
            [
             0.2222222222222222,
             "#7201a8"
            ],
            [
             0.3333333333333333,
             "#9c179e"
            ],
            [
             0.4444444444444444,
             "#bd3786"
            ],
            [
             0.5555555555555556,
             "#d8576b"
            ],
            [
             0.6666666666666666,
             "#ed7953"
            ],
            [
             0.7777777777777778,
             "#fb9f3a"
            ],
            [
             0.8888888888888888,
             "#fdca26"
            ],
            [
             1,
             "#f0f921"
            ]
           ],
           "sequentialminus": [
            [
             0,
             "#0d0887"
            ],
            [
             0.1111111111111111,
             "#46039f"
            ],
            [
             0.2222222222222222,
             "#7201a8"
            ],
            [
             0.3333333333333333,
             "#9c179e"
            ],
            [
             0.4444444444444444,
             "#bd3786"
            ],
            [
             0.5555555555555556,
             "#d8576b"
            ],
            [
             0.6666666666666666,
             "#ed7953"
            ],
            [
             0.7777777777777778,
             "#fb9f3a"
            ],
            [
             0.8888888888888888,
             "#fdca26"
            ],
            [
             1,
             "#f0f921"
            ]
           ]
          },
          "colorway": [
           "#636efa",
           "#EF553B",
           "#00cc96",
           "#ab63fa",
           "#FFA15A",
           "#19d3f3",
           "#FF6692",
           "#B6E880",
           "#FF97FF",
           "#FECB52"
          ],
          "font": {
           "color": "#2a3f5f"
          },
          "geo": {
           "bgcolor": "white",
           "lakecolor": "white",
           "landcolor": "#E5ECF6",
           "showlakes": true,
           "showland": true,
           "subunitcolor": "white"
          },
          "hoverlabel": {
           "align": "left"
          },
          "hovermode": "closest",
          "mapbox": {
           "style": "light"
          },
          "paper_bgcolor": "white",
          "plot_bgcolor": "#E5ECF6",
          "polar": {
           "angularaxis": {
            "gridcolor": "white",
            "linecolor": "white",
            "ticks": ""
           },
           "bgcolor": "#E5ECF6",
           "radialaxis": {
            "gridcolor": "white",
            "linecolor": "white",
            "ticks": ""
           }
          },
          "scene": {
           "xaxis": {
            "backgroundcolor": "#E5ECF6",
            "gridcolor": "white",
            "gridwidth": 2,
            "linecolor": "white",
            "showbackground": true,
            "ticks": "",
            "zerolinecolor": "white"
           },
           "yaxis": {
            "backgroundcolor": "#E5ECF6",
            "gridcolor": "white",
            "gridwidth": 2,
            "linecolor": "white",
            "showbackground": true,
            "ticks": "",
            "zerolinecolor": "white"
           },
           "zaxis": {
            "backgroundcolor": "#E5ECF6",
            "gridcolor": "white",
            "gridwidth": 2,
            "linecolor": "white",
            "showbackground": true,
            "ticks": "",
            "zerolinecolor": "white"
           }
          },
          "shapedefaults": {
           "line": {
            "color": "#2a3f5f"
           }
          },
          "ternary": {
           "aaxis": {
            "gridcolor": "white",
            "linecolor": "white",
            "ticks": ""
           },
           "baxis": {
            "gridcolor": "white",
            "linecolor": "white",
            "ticks": ""
           },
           "bgcolor": "#E5ECF6",
           "caxis": {
            "gridcolor": "white",
            "linecolor": "white",
            "ticks": ""
           }
          },
          "title": {
           "x": 0.05
          },
          "xaxis": {
           "automargin": true,
           "gridcolor": "white",
           "linecolor": "white",
           "ticks": "",
           "title": {
            "standoff": 15
           },
           "zerolinecolor": "white",
           "zerolinewidth": 2
          },
          "yaxis": {
           "automargin": true,
           "gridcolor": "white",
           "linecolor": "white",
           "ticks": "",
           "title": {
            "standoff": 15
           },
           "zerolinecolor": "white",
           "zerolinewidth": 2
          }
         }
        },
        "xaxis": {
         "anchor": "y",
         "domain": [
          0,
          1
         ],
         "title": {
          "text": "GMV_adults"
         }
        },
        "yaxis": {
         "anchor": "x",
         "domain": [
          0,
          1
         ],
         "title": {
          "text": "GMV_children"
         }
        }
       }
      },
      "text/html": [
       "<div>                            <div id=\"790cab80-7d3b-4113-9120-37e4f83b30fa\" class=\"plotly-graph-div\" style=\"height:525px; width:100%;\"></div>            <script type=\"text/javascript\">                require([\"plotly\"], function(Plotly) {                    window.PLOTLYENV=window.PLOTLYENV || {};                                    if (document.getElementById(\"790cab80-7d3b-4113-9120-37e4f83b30fa\")) {                    Plotly.newPlot(                        \"790cab80-7d3b-4113-9120-37e4f83b30fa\",                        [{\"hovertemplate\": \"GMV_adults=%{x}<br>GMV_children=%{y}<extra></extra>\", \"legendgroup\": \"\", \"marker\": {\"color\": \"#636efa\", \"symbol\": \"circle\"}, \"mode\": \"markers\", \"name\": \"\", \"orientation\": \"v\", \"showlegend\": false, \"type\": \"scatter\", \"x\": [27544, 25574, 26752, 23911, 30927, 26339, 22983, 21831, 23345, 24945, 22777, 26298, 26164, 19851, 27428, 20793, 24507, 31235, 27604, 26941, 28038, 30286, 27567, 30742, 19782, 23858, 24831, 23954, 25062, 28708, 24126, 24891, 25099, 24086, 26034, 26357, 27212, 24781, 27898, 24996, 25551, 28447, 22817, 23855, 24993, 24593, 24289, 22941, 24900, 26167, 25339, 24785, 28138, 25814, 26982, 22013, 22709, 30230, 27416, 21800, 22510, 22063, 25732, 28258, 27131, 24831, 29999, 26752, 30927, 19782, 24945, 25062, 22983, 23345, 26941, 27567, 23911, 23858, 24891, 21831, 24126, 28708, 26164, 27428, 30742, 24831, 23954, 19851, 22777, 20793, 25574, 24086, 30286, 28038, 27604, 27544, 25099, 26298, 26339, 31235, 24507, 29999, 24993, 24996, 22817, 28447, 26034, 21800, 27212, 23855, 28258, 27416, 24831, 24900, 30230, 24781, 27898, 25551, 26982, 24593, 25339, 28138, 22709, 26167, 25732, 24289, 27131, 22013, 24785, 22063, 22510, 26357, 25814, 22941], \"xaxis\": \"x\", \"y\": [36300, 33411, 33491, 32000, 38225, 31580, 30891, 27946, 31262, 32729, 36607, 34836, 36500, 32726, 33958, 28972, 31513, 34069, 31631, 38128, 37651, 36179, 36073, 42425, 37554, 33519, 35133, 37380, 29446, 35993, 31611, 27307, 33719, 30222, 28825, 29754, 39859, 35821, 33509, 33013, 34052, 35260, 34978, 30839, 33026, 32144, 31273, 33827, 32022, 37533, 32472, 34225, 37919, 41490, 29758, 29983, 34098, 40744, 36680, 29743, 27713, 28034, 33241, 32564, 31830, 33595, 32788, 36300, 33411, 33491, 32000, 38225, 31580, 30891, 27946, 31262, 32729, 36607, 34836, 36500, 32726, 33958, 28972, 31513, 34069, 31631, 38128, 37651, 36179, 36073, 42425, 37554, 33519, 35133, 37380, 29446, 35993, 31611, 27307, 33719, 30222, 28825, 29754, 39859, 35821, 33509, 33013, 34052, 35260, 34978, 30839, 33026, 32144, 31273, 33827, 32022, 37533, 32472, 34225, 37919, 41490, 29758, 29983, 34098, 40744, 36680, 29743, 27713, 28034, 33241, 32564, 31830, 33595, 32788], \"yaxis\": \"y\"}],                        {\"legend\": {\"tracegroupgap\": 0}, \"margin\": {\"t\": 60}, \"template\": {\"data\": {\"bar\": [{\"error_x\": {\"color\": \"#2a3f5f\"}, \"error_y\": {\"color\": \"#2a3f5f\"}, \"marker\": {\"line\": {\"color\": \"#E5ECF6\", \"width\": 0.5}}, \"type\": \"bar\"}], \"barpolar\": [{\"marker\": {\"line\": {\"color\": \"#E5ECF6\", \"width\": 0.5}}, \"type\": \"barpolar\"}], \"carpet\": [{\"aaxis\": {\"endlinecolor\": \"#2a3f5f\", \"gridcolor\": \"white\", \"linecolor\": \"white\", \"minorgridcolor\": \"white\", \"startlinecolor\": \"#2a3f5f\"}, \"baxis\": {\"endlinecolor\": \"#2a3f5f\", \"gridcolor\": \"white\", \"linecolor\": \"white\", \"minorgridcolor\": \"white\", \"startlinecolor\": \"#2a3f5f\"}, \"type\": \"carpet\"}], \"choropleth\": [{\"colorbar\": {\"outlinewidth\": 0, \"ticks\": \"\"}, \"type\": \"choropleth\"}], \"contour\": [{\"colorbar\": {\"outlinewidth\": 0, \"ticks\": \"\"}, \"colorscale\": [[0.0, \"#0d0887\"], [0.1111111111111111, \"#46039f\"], [0.2222222222222222, \"#7201a8\"], [0.3333333333333333, \"#9c179e\"], [0.4444444444444444, \"#bd3786\"], [0.5555555555555556, \"#d8576b\"], [0.6666666666666666, \"#ed7953\"], [0.7777777777777778, \"#fb9f3a\"], [0.8888888888888888, \"#fdca26\"], [1.0, \"#f0f921\"]], \"type\": \"contour\"}], \"contourcarpet\": [{\"colorbar\": {\"outlinewidth\": 0, \"ticks\": \"\"}, \"type\": \"contourcarpet\"}], \"heatmap\": [{\"colorbar\": {\"outlinewidth\": 0, \"ticks\": \"\"}, \"colorscale\": [[0.0, \"#0d0887\"], [0.1111111111111111, \"#46039f\"], [0.2222222222222222, \"#7201a8\"], [0.3333333333333333, \"#9c179e\"], [0.4444444444444444, \"#bd3786\"], [0.5555555555555556, \"#d8576b\"], [0.6666666666666666, \"#ed7953\"], [0.7777777777777778, \"#fb9f3a\"], [0.8888888888888888, \"#fdca26\"], [1.0, \"#f0f921\"]], \"type\": \"heatmap\"}], \"heatmapgl\": [{\"colorbar\": {\"outlinewidth\": 0, \"ticks\": \"\"}, \"colorscale\": [[0.0, \"#0d0887\"], [0.1111111111111111, \"#46039f\"], [0.2222222222222222, \"#7201a8\"], [0.3333333333333333, \"#9c179e\"], [0.4444444444444444, \"#bd3786\"], [0.5555555555555556, \"#d8576b\"], [0.6666666666666666, \"#ed7953\"], [0.7777777777777778, \"#fb9f3a\"], [0.8888888888888888, \"#fdca26\"], [1.0, \"#f0f921\"]], \"type\": \"heatmapgl\"}], \"histogram\": [{\"marker\": {\"colorbar\": {\"outlinewidth\": 0, \"ticks\": \"\"}}, \"type\": \"histogram\"}], \"histogram2d\": [{\"colorbar\": {\"outlinewidth\": 0, \"ticks\": \"\"}, \"colorscale\": [[0.0, \"#0d0887\"], [0.1111111111111111, \"#46039f\"], [0.2222222222222222, \"#7201a8\"], [0.3333333333333333, \"#9c179e\"], [0.4444444444444444, \"#bd3786\"], [0.5555555555555556, \"#d8576b\"], [0.6666666666666666, \"#ed7953\"], [0.7777777777777778, \"#fb9f3a\"], [0.8888888888888888, \"#fdca26\"], [1.0, \"#f0f921\"]], \"type\": \"histogram2d\"}], \"histogram2dcontour\": [{\"colorbar\": {\"outlinewidth\": 0, \"ticks\": \"\"}, \"colorscale\": [[0.0, \"#0d0887\"], [0.1111111111111111, \"#46039f\"], [0.2222222222222222, \"#7201a8\"], [0.3333333333333333, \"#9c179e\"], [0.4444444444444444, \"#bd3786\"], [0.5555555555555556, \"#d8576b\"], [0.6666666666666666, \"#ed7953\"], [0.7777777777777778, \"#fb9f3a\"], [0.8888888888888888, \"#fdca26\"], [1.0, \"#f0f921\"]], \"type\": \"histogram2dcontour\"}], \"mesh3d\": [{\"colorbar\": {\"outlinewidth\": 0, \"ticks\": \"\"}, \"type\": \"mesh3d\"}], \"parcoords\": [{\"line\": {\"colorbar\": {\"outlinewidth\": 0, \"ticks\": \"\"}}, \"type\": \"parcoords\"}], \"pie\": [{\"automargin\": true, \"type\": \"pie\"}], \"scatter\": [{\"marker\": {\"colorbar\": {\"outlinewidth\": 0, \"ticks\": \"\"}}, \"type\": \"scatter\"}], \"scatter3d\": [{\"line\": {\"colorbar\": {\"outlinewidth\": 0, \"ticks\": \"\"}}, \"marker\": {\"colorbar\": {\"outlinewidth\": 0, \"ticks\": \"\"}}, \"type\": \"scatter3d\"}], \"scattercarpet\": [{\"marker\": {\"colorbar\": {\"outlinewidth\": 0, \"ticks\": \"\"}}, \"type\": \"scattercarpet\"}], \"scattergeo\": [{\"marker\": {\"colorbar\": {\"outlinewidth\": 0, \"ticks\": \"\"}}, \"type\": \"scattergeo\"}], \"scattergl\": [{\"marker\": {\"colorbar\": {\"outlinewidth\": 0, \"ticks\": \"\"}}, \"type\": \"scattergl\"}], \"scattermapbox\": [{\"marker\": {\"colorbar\": {\"outlinewidth\": 0, \"ticks\": \"\"}}, \"type\": \"scattermapbox\"}], \"scatterpolar\": [{\"marker\": {\"colorbar\": {\"outlinewidth\": 0, \"ticks\": \"\"}}, \"type\": \"scatterpolar\"}], \"scatterpolargl\": [{\"marker\": {\"colorbar\": {\"outlinewidth\": 0, \"ticks\": \"\"}}, \"type\": \"scatterpolargl\"}], \"scatterternary\": [{\"marker\": {\"colorbar\": {\"outlinewidth\": 0, \"ticks\": \"\"}}, \"type\": \"scatterternary\"}], \"surface\": [{\"colorbar\": {\"outlinewidth\": 0, \"ticks\": \"\"}, \"colorscale\": [[0.0, \"#0d0887\"], [0.1111111111111111, \"#46039f\"], [0.2222222222222222, \"#7201a8\"], [0.3333333333333333, \"#9c179e\"], [0.4444444444444444, \"#bd3786\"], [0.5555555555555556, \"#d8576b\"], [0.6666666666666666, \"#ed7953\"], [0.7777777777777778, \"#fb9f3a\"], [0.8888888888888888, \"#fdca26\"], [1.0, \"#f0f921\"]], \"type\": \"surface\"}], \"table\": [{\"cells\": {\"fill\": {\"color\": \"#EBF0F8\"}, \"line\": {\"color\": \"white\"}}, \"header\": {\"fill\": {\"color\": \"#C8D4E3\"}, \"line\": {\"color\": \"white\"}}, \"type\": \"table\"}]}, \"layout\": {\"annotationdefaults\": {\"arrowcolor\": \"#2a3f5f\", \"arrowhead\": 0, \"arrowwidth\": 1}, \"autotypenumbers\": \"strict\", \"coloraxis\": {\"colorbar\": {\"outlinewidth\": 0, \"ticks\": \"\"}}, \"colorscale\": {\"diverging\": [[0, \"#8e0152\"], [0.1, \"#c51b7d\"], [0.2, \"#de77ae\"], [0.3, \"#f1b6da\"], [0.4, \"#fde0ef\"], [0.5, \"#f7f7f7\"], [0.6, \"#e6f5d0\"], [0.7, \"#b8e186\"], [0.8, \"#7fbc41\"], [0.9, \"#4d9221\"], [1, \"#276419\"]], \"sequential\": [[0.0, \"#0d0887\"], [0.1111111111111111, \"#46039f\"], [0.2222222222222222, \"#7201a8\"], [0.3333333333333333, \"#9c179e\"], [0.4444444444444444, \"#bd3786\"], [0.5555555555555556, \"#d8576b\"], [0.6666666666666666, \"#ed7953\"], [0.7777777777777778, \"#fb9f3a\"], [0.8888888888888888, \"#fdca26\"], [1.0, \"#f0f921\"]], \"sequentialminus\": [[0.0, \"#0d0887\"], [0.1111111111111111, \"#46039f\"], [0.2222222222222222, \"#7201a8\"], [0.3333333333333333, \"#9c179e\"], [0.4444444444444444, \"#bd3786\"], [0.5555555555555556, \"#d8576b\"], [0.6666666666666666, \"#ed7953\"], [0.7777777777777778, \"#fb9f3a\"], [0.8888888888888888, \"#fdca26\"], [1.0, \"#f0f921\"]]}, \"colorway\": [\"#636efa\", \"#EF553B\", \"#00cc96\", \"#ab63fa\", \"#FFA15A\", \"#19d3f3\", \"#FF6692\", \"#B6E880\", \"#FF97FF\", \"#FECB52\"], \"font\": {\"color\": \"#2a3f5f\"}, \"geo\": {\"bgcolor\": \"white\", \"lakecolor\": \"white\", \"landcolor\": \"#E5ECF6\", \"showlakes\": true, \"showland\": true, \"subunitcolor\": \"white\"}, \"hoverlabel\": {\"align\": \"left\"}, \"hovermode\": \"closest\", \"mapbox\": {\"style\": \"light\"}, \"paper_bgcolor\": \"white\", \"plot_bgcolor\": \"#E5ECF6\", \"polar\": {\"angularaxis\": {\"gridcolor\": \"white\", \"linecolor\": \"white\", \"ticks\": \"\"}, \"bgcolor\": \"#E5ECF6\", \"radialaxis\": {\"gridcolor\": \"white\", \"linecolor\": \"white\", \"ticks\": \"\"}}, \"scene\": {\"xaxis\": {\"backgroundcolor\": \"#E5ECF6\", \"gridcolor\": \"white\", \"gridwidth\": 2, \"linecolor\": \"white\", \"showbackground\": true, \"ticks\": \"\", \"zerolinecolor\": \"white\"}, \"yaxis\": {\"backgroundcolor\": \"#E5ECF6\", \"gridcolor\": \"white\", \"gridwidth\": 2, \"linecolor\": \"white\", \"showbackground\": true, \"ticks\": \"\", \"zerolinecolor\": \"white\"}, \"zaxis\": {\"backgroundcolor\": \"#E5ECF6\", \"gridcolor\": \"white\", \"gridwidth\": 2, \"linecolor\": \"white\", \"showbackground\": true, \"ticks\": \"\", \"zerolinecolor\": \"white\"}}, \"shapedefaults\": {\"line\": {\"color\": \"#2a3f5f\"}}, \"ternary\": {\"aaxis\": {\"gridcolor\": \"white\", \"linecolor\": \"white\", \"ticks\": \"\"}, \"baxis\": {\"gridcolor\": \"white\", \"linecolor\": \"white\", \"ticks\": \"\"}, \"bgcolor\": \"#E5ECF6\", \"caxis\": {\"gridcolor\": \"white\", \"linecolor\": \"white\", \"ticks\": \"\"}}, \"title\": {\"x\": 0.05}, \"xaxis\": {\"automargin\": true, \"gridcolor\": \"white\", \"linecolor\": \"white\", \"ticks\": \"\", \"title\": {\"standoff\": 15}, \"zerolinecolor\": \"white\", \"zerolinewidth\": 2}, \"yaxis\": {\"automargin\": true, \"gridcolor\": \"white\", \"linecolor\": \"white\", \"ticks\": \"\", \"title\": {\"standoff\": 15}, \"zerolinecolor\": \"white\", \"zerolinewidth\": 2}}}, \"xaxis\": {\"anchor\": \"y\", \"domain\": [0.0, 1.0], \"title\": {\"text\": \"GMV_adults\"}}, \"yaxis\": {\"anchor\": \"x\", \"domain\": [0.0, 1.0], \"title\": {\"text\": \"GMV_children\"}}},                        {\"responsive\": true}                    ).then(function(){\n",
       "                            \n",
       "var gd = document.getElementById('790cab80-7d3b-4113-9120-37e4f83b30fa');\n",
       "var x = new MutationObserver(function (mutations, observer) {{\n",
       "        var display = window.getComputedStyle(gd).display;\n",
       "        if (!display || display === 'none') {{\n",
       "            console.log([gd, 'removed!']);\n",
       "            Plotly.purge(gd);\n",
       "            observer.disconnect();\n",
       "        }}\n",
       "}});\n",
       "\n",
       "// Listen for the removal of the full notebook cells\n",
       "var notebookContainer = gd.closest('#notebook-container');\n",
       "if (notebookContainer) {{\n",
       "    x.observe(notebookContainer, {childList: true});\n",
       "}}\n",
       "\n",
       "// Listen for the clearing of the current output cell\n",
       "var outputEl = gd.closest('.output');\n",
       "if (outputEl) {{\n",
       "    x.observe(outputEl, {childList: true});\n",
       "}}\n",
       "\n",
       "                        })                };                });            </script>        </div>"
      ]
     },
     "metadata": {},
     "output_type": "display_data"
    }
   ],
   "source": [
    "#creating a simple scatterplot\n",
    "fig = px.scatter(df, x=\"GMV_adults\", y=\"GMV_children\")\n",
    "fig.show()"
   ]
  },
  {
   "cell_type": "code",
   "execution_count": 16,
   "id": "0b83f6ef",
   "metadata": {},
   "outputs": [
    {
     "data": {
      "application/vnd.plotly.v1+json": {
       "config": {
        "plotlyServerURL": "https://plot.ly"
       },
       "data": [
        {
         "hovertemplate": "GMV_adults=%{x}<br>GMV_children=%{y}<extra></extra>",
         "legendgroup": "",
         "marker": {
          "color": "#636efa",
          "symbol": "circle"
         },
         "mode": "markers",
         "name": "",
         "orientation": "v",
         "showlegend": false,
         "type": "scatter",
         "x": [
          27544,
          25574,
          26752,
          23911,
          30927,
          26339,
          22983,
          21831,
          23345,
          24945,
          22777,
          26298,
          26164,
          19851,
          27428,
          20793,
          24507,
          31235,
          27604,
          26941,
          28038,
          30286,
          27567,
          30742,
          19782,
          23858,
          24831,
          23954,
          25062,
          28708,
          24126,
          24891,
          25099,
          24086,
          26034,
          26357,
          27212,
          24781,
          27898,
          24996,
          25551,
          28447,
          22817,
          23855,
          24993,
          24593,
          24289,
          22941,
          24900,
          26167,
          25339,
          24785,
          28138,
          25814,
          26982,
          22013,
          22709,
          30230,
          27416,
          21800,
          22510,
          22063,
          25732,
          28258,
          27131,
          24831,
          29999,
          26752,
          30927,
          19782,
          24945,
          25062,
          22983,
          23345,
          26941,
          27567,
          23911,
          23858,
          24891,
          21831,
          24126,
          28708,
          26164,
          27428,
          30742,
          24831,
          23954,
          19851,
          22777,
          20793,
          25574,
          24086,
          30286,
          28038,
          27604,
          27544,
          25099,
          26298,
          26339,
          31235,
          24507,
          29999,
          24993,
          24996,
          22817,
          28447,
          26034,
          21800,
          27212,
          23855,
          28258,
          27416,
          24831,
          24900,
          30230,
          24781,
          27898,
          25551,
          26982,
          24593,
          25339,
          28138,
          22709,
          26167,
          25732,
          24289,
          27131,
          22013,
          24785,
          22063,
          22510,
          26357,
          25814,
          22941
         ],
         "xaxis": "x",
         "y": [
          36300,
          33411,
          33491,
          32000,
          38225,
          31580,
          30891,
          27946,
          31262,
          32729,
          36607,
          34836,
          36500,
          32726,
          33958,
          28972,
          31513,
          34069,
          31631,
          38128,
          37651,
          36179,
          36073,
          42425,
          37554,
          33519,
          35133,
          37380,
          29446,
          35993,
          31611,
          27307,
          33719,
          30222,
          28825,
          29754,
          39859,
          35821,
          33509,
          33013,
          34052,
          35260,
          34978,
          30839,
          33026,
          32144,
          31273,
          33827,
          32022,
          37533,
          32472,
          34225,
          37919,
          41490,
          29758,
          29983,
          34098,
          40744,
          36680,
          29743,
          27713,
          28034,
          33241,
          32564,
          31830,
          33595,
          32788,
          36300,
          33411,
          33491,
          32000,
          38225,
          31580,
          30891,
          27946,
          31262,
          32729,
          36607,
          34836,
          36500,
          32726,
          33958,
          28972,
          31513,
          34069,
          31631,
          38128,
          37651,
          36179,
          36073,
          42425,
          37554,
          33519,
          35133,
          37380,
          29446,
          35993,
          31611,
          27307,
          33719,
          30222,
          28825,
          29754,
          39859,
          35821,
          33509,
          33013,
          34052,
          35260,
          34978,
          30839,
          33026,
          32144,
          31273,
          33827,
          32022,
          37533,
          32472,
          34225,
          37919,
          41490,
          29758,
          29983,
          34098,
          40744,
          36680,
          29743,
          27713,
          28034,
          33241,
          32564,
          31830,
          33595,
          32788
         ],
         "yaxis": "y"
        },
        {
         "hovertemplate": "<b>OLS trendline</b><br>GMV_children = 0.222194 * GMV_adults + 27963.7<br>R<sup>2</sup>=0.029419<br><br>GMV_adults=%{x}<br>GMV_children=%{y} <b>(trend)</b><extra></extra>",
         "legendgroup": "",
         "marker": {
          "color": "#636efa",
          "symbol": "circle"
         },
         "mode": "lines",
         "name": "",
         "showlegend": false,
         "type": "scatter",
         "x": [
          19782,
          19782,
          19851,
          19851,
          20793,
          20793,
          21800,
          21800,
          21831,
          21831,
          22013,
          22013,
          22063,
          22063,
          22510,
          22510,
          22709,
          22709,
          22777,
          22777,
          22817,
          22817,
          22941,
          22941,
          22983,
          22983,
          23345,
          23345,
          23855,
          23855,
          23858,
          23858,
          23911,
          23911,
          23954,
          23954,
          24086,
          24086,
          24126,
          24126,
          24289,
          24289,
          24507,
          24507,
          24593,
          24593,
          24781,
          24781,
          24785,
          24785,
          24831,
          24831,
          24831,
          24831,
          24891,
          24891,
          24900,
          24900,
          24945,
          24945,
          24993,
          24993,
          24996,
          24996,
          25062,
          25062,
          25099,
          25099,
          25339,
          25339,
          25551,
          25551,
          25574,
          25574,
          25732,
          25732,
          25814,
          25814,
          26034,
          26034,
          26164,
          26164,
          26167,
          26167,
          26298,
          26298,
          26339,
          26339,
          26357,
          26357,
          26752,
          26752,
          26941,
          26941,
          26982,
          26982,
          27131,
          27131,
          27212,
          27212,
          27416,
          27416,
          27428,
          27428,
          27544,
          27544,
          27567,
          27567,
          27604,
          27604,
          27898,
          27898,
          28038,
          28038,
          28138,
          28138,
          28258,
          28258,
          28447,
          28447,
          28708,
          28708,
          29999,
          29999,
          30230,
          30230,
          30286,
          30286,
          30742,
          30742,
          30927,
          30927,
          31235,
          31235
         ],
         "xaxis": "x",
         "y": [
          32359.131908912565,
          32359.131908912565,
          32374.463299697978,
          32374.463299697978,
          32583.770113029263,
          32583.770113029263,
          32807.51954086855,
          32807.51954086855,
          32814.407557018516,
          32814.407557018516,
          32854.846877640906,
          32854.846877640906,
          32865.9565811086,
          32865.9565811086,
          32965.27733010975,
          32965.27733010975,
          33009.49394991116,
          33009.49394991116,
          33024.60314662721,
          33024.60314662721,
          33033.49090940137,
          33033.49090940137,
          33061.04297400124,
          33061.04297400124,
          33070.3751249141,
          33070.3751249141,
          33150.809378020174,
          33150.809378020174,
          33264.12835339062,
          33264.12835339062,
          33264.79493559868,
          33264.79493559868,
          33276.57122127443,
          33276.57122127443,
          33286.12556625665,
          33286.12556625665,
          33315.455183411344,
          33315.455183411344,
          33324.3429461855,
          33324.3429461855,
          33360.56057949017,
          33360.56057949017,
          33408.9988866093,
          33408.9988866093,
          33428.107576573726,
          33428.107576573726,
          33469.880061612246,
          33469.880061612246,
          33470.76883788966,
          33470.76883788966,
          33480.98976507993,
          33480.98976507993,
          33480.98976507993,
          33480.98976507993,
          33494.321409241165,
          33494.321409241165,
          33496.32115586534,
          33496.32115586534,
          33506.31988898627,
          33506.31988898627,
          33516.98520431525,
          33516.98520431525,
          33517.65178652331,
          33517.65178652331,
          33532.31659510066,
          33532.31659510066,
          33540.53777566675,
          33540.53777566675,
          33593.86435231167,
          33593.86435231167,
          33640.96949501467,
          33640.96949501467,
          33646.079958609815,
          33646.079958609815,
          33681.186621567715,
          33681.186621567715,
          33699.406535254726,
          33699.406535254726,
          33748.289230512564,
          33748.289230512564,
          33777.174459528556,
          33777.174459528556,
          33777.84104173662,
          33777.84104173662,
          33806.948464821966,
          33806.948464821966,
          33816.058421665475,
          33816.058421665475,
          33820.05791491384,
          33820.05791491384,
          33907.82457230859,
          33907.82457230859,
          33949.81925141646,
          33949.81925141646,
          33958.92920825997,
          33958.92920825997,
          33992.03612459369,
          33992.03612459369,
          34010.03384421134,
          34010.03384421134,
          34055.361434359525,
          34055.361434359525,
          34058.02776319177,
          34058.02776319177,
          34083.80227523681,
          34083.80227523681,
          34088.91273883195,
          34088.91273883195,
          34097.13391939804,
          34097.13391939804,
          34162.45897578806,
          34162.45897578806,
          34193.56614549759,
          34193.56614549759,
          34215.78555243297,
          34215.78555243297,
          34242.44884075543,
          34242.44884075543,
          34284.4435198633,
          34284.4435198633,
          34342.43617196464,
          34342.43617196464,
          34629.28871550041,
          34629.28871550041,
          34680.615545521134,
          34680.615545521134,
          34693.05841340495,
          34693.05841340495,
          34794.37890903028,
          34794.37890903028,
          34835.48481186074,
          34835.48481186074,
          34903.92058522171,
          34903.92058522171
         ],
         "yaxis": "y"
        }
       ],
       "layout": {
        "legend": {
         "tracegroupgap": 0
        },
        "margin": {
         "t": 60
        },
        "template": {
         "data": {
          "bar": [
           {
            "error_x": {
             "color": "#2a3f5f"
            },
            "error_y": {
             "color": "#2a3f5f"
            },
            "marker": {
             "line": {
              "color": "#E5ECF6",
              "width": 0.5
             }
            },
            "type": "bar"
           }
          ],
          "barpolar": [
           {
            "marker": {
             "line": {
              "color": "#E5ECF6",
              "width": 0.5
             }
            },
            "type": "barpolar"
           }
          ],
          "carpet": [
           {
            "aaxis": {
             "endlinecolor": "#2a3f5f",
             "gridcolor": "white",
             "linecolor": "white",
             "minorgridcolor": "white",
             "startlinecolor": "#2a3f5f"
            },
            "baxis": {
             "endlinecolor": "#2a3f5f",
             "gridcolor": "white",
             "linecolor": "white",
             "minorgridcolor": "white",
             "startlinecolor": "#2a3f5f"
            },
            "type": "carpet"
           }
          ],
          "choropleth": [
           {
            "colorbar": {
             "outlinewidth": 0,
             "ticks": ""
            },
            "type": "choropleth"
           }
          ],
          "contour": [
           {
            "colorbar": {
             "outlinewidth": 0,
             "ticks": ""
            },
            "colorscale": [
             [
              0,
              "#0d0887"
             ],
             [
              0.1111111111111111,
              "#46039f"
             ],
             [
              0.2222222222222222,
              "#7201a8"
             ],
             [
              0.3333333333333333,
              "#9c179e"
             ],
             [
              0.4444444444444444,
              "#bd3786"
             ],
             [
              0.5555555555555556,
              "#d8576b"
             ],
             [
              0.6666666666666666,
              "#ed7953"
             ],
             [
              0.7777777777777778,
              "#fb9f3a"
             ],
             [
              0.8888888888888888,
              "#fdca26"
             ],
             [
              1,
              "#f0f921"
             ]
            ],
            "type": "contour"
           }
          ],
          "contourcarpet": [
           {
            "colorbar": {
             "outlinewidth": 0,
             "ticks": ""
            },
            "type": "contourcarpet"
           }
          ],
          "heatmap": [
           {
            "colorbar": {
             "outlinewidth": 0,
             "ticks": ""
            },
            "colorscale": [
             [
              0,
              "#0d0887"
             ],
             [
              0.1111111111111111,
              "#46039f"
             ],
             [
              0.2222222222222222,
              "#7201a8"
             ],
             [
              0.3333333333333333,
              "#9c179e"
             ],
             [
              0.4444444444444444,
              "#bd3786"
             ],
             [
              0.5555555555555556,
              "#d8576b"
             ],
             [
              0.6666666666666666,
              "#ed7953"
             ],
             [
              0.7777777777777778,
              "#fb9f3a"
             ],
             [
              0.8888888888888888,
              "#fdca26"
             ],
             [
              1,
              "#f0f921"
             ]
            ],
            "type": "heatmap"
           }
          ],
          "heatmapgl": [
           {
            "colorbar": {
             "outlinewidth": 0,
             "ticks": ""
            },
            "colorscale": [
             [
              0,
              "#0d0887"
             ],
             [
              0.1111111111111111,
              "#46039f"
             ],
             [
              0.2222222222222222,
              "#7201a8"
             ],
             [
              0.3333333333333333,
              "#9c179e"
             ],
             [
              0.4444444444444444,
              "#bd3786"
             ],
             [
              0.5555555555555556,
              "#d8576b"
             ],
             [
              0.6666666666666666,
              "#ed7953"
             ],
             [
              0.7777777777777778,
              "#fb9f3a"
             ],
             [
              0.8888888888888888,
              "#fdca26"
             ],
             [
              1,
              "#f0f921"
             ]
            ],
            "type": "heatmapgl"
           }
          ],
          "histogram": [
           {
            "marker": {
             "colorbar": {
              "outlinewidth": 0,
              "ticks": ""
             }
            },
            "type": "histogram"
           }
          ],
          "histogram2d": [
           {
            "colorbar": {
             "outlinewidth": 0,
             "ticks": ""
            },
            "colorscale": [
             [
              0,
              "#0d0887"
             ],
             [
              0.1111111111111111,
              "#46039f"
             ],
             [
              0.2222222222222222,
              "#7201a8"
             ],
             [
              0.3333333333333333,
              "#9c179e"
             ],
             [
              0.4444444444444444,
              "#bd3786"
             ],
             [
              0.5555555555555556,
              "#d8576b"
             ],
             [
              0.6666666666666666,
              "#ed7953"
             ],
             [
              0.7777777777777778,
              "#fb9f3a"
             ],
             [
              0.8888888888888888,
              "#fdca26"
             ],
             [
              1,
              "#f0f921"
             ]
            ],
            "type": "histogram2d"
           }
          ],
          "histogram2dcontour": [
           {
            "colorbar": {
             "outlinewidth": 0,
             "ticks": ""
            },
            "colorscale": [
             [
              0,
              "#0d0887"
             ],
             [
              0.1111111111111111,
              "#46039f"
             ],
             [
              0.2222222222222222,
              "#7201a8"
             ],
             [
              0.3333333333333333,
              "#9c179e"
             ],
             [
              0.4444444444444444,
              "#bd3786"
             ],
             [
              0.5555555555555556,
              "#d8576b"
             ],
             [
              0.6666666666666666,
              "#ed7953"
             ],
             [
              0.7777777777777778,
              "#fb9f3a"
             ],
             [
              0.8888888888888888,
              "#fdca26"
             ],
             [
              1,
              "#f0f921"
             ]
            ],
            "type": "histogram2dcontour"
           }
          ],
          "mesh3d": [
           {
            "colorbar": {
             "outlinewidth": 0,
             "ticks": ""
            },
            "type": "mesh3d"
           }
          ],
          "parcoords": [
           {
            "line": {
             "colorbar": {
              "outlinewidth": 0,
              "ticks": ""
             }
            },
            "type": "parcoords"
           }
          ],
          "pie": [
           {
            "automargin": true,
            "type": "pie"
           }
          ],
          "scatter": [
           {
            "marker": {
             "colorbar": {
              "outlinewidth": 0,
              "ticks": ""
             }
            },
            "type": "scatter"
           }
          ],
          "scatter3d": [
           {
            "line": {
             "colorbar": {
              "outlinewidth": 0,
              "ticks": ""
             }
            },
            "marker": {
             "colorbar": {
              "outlinewidth": 0,
              "ticks": ""
             }
            },
            "type": "scatter3d"
           }
          ],
          "scattercarpet": [
           {
            "marker": {
             "colorbar": {
              "outlinewidth": 0,
              "ticks": ""
             }
            },
            "type": "scattercarpet"
           }
          ],
          "scattergeo": [
           {
            "marker": {
             "colorbar": {
              "outlinewidth": 0,
              "ticks": ""
             }
            },
            "type": "scattergeo"
           }
          ],
          "scattergl": [
           {
            "marker": {
             "colorbar": {
              "outlinewidth": 0,
              "ticks": ""
             }
            },
            "type": "scattergl"
           }
          ],
          "scattermapbox": [
           {
            "marker": {
             "colorbar": {
              "outlinewidth": 0,
              "ticks": ""
             }
            },
            "type": "scattermapbox"
           }
          ],
          "scatterpolar": [
           {
            "marker": {
             "colorbar": {
              "outlinewidth": 0,
              "ticks": ""
             }
            },
            "type": "scatterpolar"
           }
          ],
          "scatterpolargl": [
           {
            "marker": {
             "colorbar": {
              "outlinewidth": 0,
              "ticks": ""
             }
            },
            "type": "scatterpolargl"
           }
          ],
          "scatterternary": [
           {
            "marker": {
             "colorbar": {
              "outlinewidth": 0,
              "ticks": ""
             }
            },
            "type": "scatterternary"
           }
          ],
          "surface": [
           {
            "colorbar": {
             "outlinewidth": 0,
             "ticks": ""
            },
            "colorscale": [
             [
              0,
              "#0d0887"
             ],
             [
              0.1111111111111111,
              "#46039f"
             ],
             [
              0.2222222222222222,
              "#7201a8"
             ],
             [
              0.3333333333333333,
              "#9c179e"
             ],
             [
              0.4444444444444444,
              "#bd3786"
             ],
             [
              0.5555555555555556,
              "#d8576b"
             ],
             [
              0.6666666666666666,
              "#ed7953"
             ],
             [
              0.7777777777777778,
              "#fb9f3a"
             ],
             [
              0.8888888888888888,
              "#fdca26"
             ],
             [
              1,
              "#f0f921"
             ]
            ],
            "type": "surface"
           }
          ],
          "table": [
           {
            "cells": {
             "fill": {
              "color": "#EBF0F8"
             },
             "line": {
              "color": "white"
             }
            },
            "header": {
             "fill": {
              "color": "#C8D4E3"
             },
             "line": {
              "color": "white"
             }
            },
            "type": "table"
           }
          ]
         },
         "layout": {
          "annotationdefaults": {
           "arrowcolor": "#2a3f5f",
           "arrowhead": 0,
           "arrowwidth": 1
          },
          "autotypenumbers": "strict",
          "coloraxis": {
           "colorbar": {
            "outlinewidth": 0,
            "ticks": ""
           }
          },
          "colorscale": {
           "diverging": [
            [
             0,
             "#8e0152"
            ],
            [
             0.1,
             "#c51b7d"
            ],
            [
             0.2,
             "#de77ae"
            ],
            [
             0.3,
             "#f1b6da"
            ],
            [
             0.4,
             "#fde0ef"
            ],
            [
             0.5,
             "#f7f7f7"
            ],
            [
             0.6,
             "#e6f5d0"
            ],
            [
             0.7,
             "#b8e186"
            ],
            [
             0.8,
             "#7fbc41"
            ],
            [
             0.9,
             "#4d9221"
            ],
            [
             1,
             "#276419"
            ]
           ],
           "sequential": [
            [
             0,
             "#0d0887"
            ],
            [
             0.1111111111111111,
             "#46039f"
            ],
            [
             0.2222222222222222,
             "#7201a8"
            ],
            [
             0.3333333333333333,
             "#9c179e"
            ],
            [
             0.4444444444444444,
             "#bd3786"
            ],
            [
             0.5555555555555556,
             "#d8576b"
            ],
            [
             0.6666666666666666,
             "#ed7953"
            ],
            [
             0.7777777777777778,
             "#fb9f3a"
            ],
            [
             0.8888888888888888,
             "#fdca26"
            ],
            [
             1,
             "#f0f921"
            ]
           ],
           "sequentialminus": [
            [
             0,
             "#0d0887"
            ],
            [
             0.1111111111111111,
             "#46039f"
            ],
            [
             0.2222222222222222,
             "#7201a8"
            ],
            [
             0.3333333333333333,
             "#9c179e"
            ],
            [
             0.4444444444444444,
             "#bd3786"
            ],
            [
             0.5555555555555556,
             "#d8576b"
            ],
            [
             0.6666666666666666,
             "#ed7953"
            ],
            [
             0.7777777777777778,
             "#fb9f3a"
            ],
            [
             0.8888888888888888,
             "#fdca26"
            ],
            [
             1,
             "#f0f921"
            ]
           ]
          },
          "colorway": [
           "#636efa",
           "#EF553B",
           "#00cc96",
           "#ab63fa",
           "#FFA15A",
           "#19d3f3",
           "#FF6692",
           "#B6E880",
           "#FF97FF",
           "#FECB52"
          ],
          "font": {
           "color": "#2a3f5f"
          },
          "geo": {
           "bgcolor": "white",
           "lakecolor": "white",
           "landcolor": "#E5ECF6",
           "showlakes": true,
           "showland": true,
           "subunitcolor": "white"
          },
          "hoverlabel": {
           "align": "left"
          },
          "hovermode": "closest",
          "mapbox": {
           "style": "light"
          },
          "paper_bgcolor": "white",
          "plot_bgcolor": "#E5ECF6",
          "polar": {
           "angularaxis": {
            "gridcolor": "white",
            "linecolor": "white",
            "ticks": ""
           },
           "bgcolor": "#E5ECF6",
           "radialaxis": {
            "gridcolor": "white",
            "linecolor": "white",
            "ticks": ""
           }
          },
          "scene": {
           "xaxis": {
            "backgroundcolor": "#E5ECF6",
            "gridcolor": "white",
            "gridwidth": 2,
            "linecolor": "white",
            "showbackground": true,
            "ticks": "",
            "zerolinecolor": "white"
           },
           "yaxis": {
            "backgroundcolor": "#E5ECF6",
            "gridcolor": "white",
            "gridwidth": 2,
            "linecolor": "white",
            "showbackground": true,
            "ticks": "",
            "zerolinecolor": "white"
           },
           "zaxis": {
            "backgroundcolor": "#E5ECF6",
            "gridcolor": "white",
            "gridwidth": 2,
            "linecolor": "white",
            "showbackground": true,
            "ticks": "",
            "zerolinecolor": "white"
           }
          },
          "shapedefaults": {
           "line": {
            "color": "#2a3f5f"
           }
          },
          "ternary": {
           "aaxis": {
            "gridcolor": "white",
            "linecolor": "white",
            "ticks": ""
           },
           "baxis": {
            "gridcolor": "white",
            "linecolor": "white",
            "ticks": ""
           },
           "bgcolor": "#E5ECF6",
           "caxis": {
            "gridcolor": "white",
            "linecolor": "white",
            "ticks": ""
           }
          },
          "title": {
           "x": 0.05
          },
          "xaxis": {
           "automargin": true,
           "gridcolor": "white",
           "linecolor": "white",
           "ticks": "",
           "title": {
            "standoff": 15
           },
           "zerolinecolor": "white",
           "zerolinewidth": 2
          },
          "yaxis": {
           "automargin": true,
           "gridcolor": "white",
           "linecolor": "white",
           "ticks": "",
           "title": {
            "standoff": 15
           },
           "zerolinecolor": "white",
           "zerolinewidth": 2
          }
         }
        },
        "xaxis": {
         "anchor": "y",
         "domain": [
          0,
          1
         ],
         "title": {
          "text": "GMV_adults"
         }
        },
        "yaxis": {
         "anchor": "x",
         "domain": [
          0,
          1
         ],
         "title": {
          "text": "GMV_children"
         }
        }
       }
      },
      "text/html": [
       "<div>                            <div id=\"4e2fe8c5-0129-430b-bb81-2e46f7287280\" class=\"plotly-graph-div\" style=\"height:525px; width:100%;\"></div>            <script type=\"text/javascript\">                require([\"plotly\"], function(Plotly) {                    window.PLOTLYENV=window.PLOTLYENV || {};                                    if (document.getElementById(\"4e2fe8c5-0129-430b-bb81-2e46f7287280\")) {                    Plotly.newPlot(                        \"4e2fe8c5-0129-430b-bb81-2e46f7287280\",                        [{\"hovertemplate\": \"GMV_adults=%{x}<br>GMV_children=%{y}<extra></extra>\", \"legendgroup\": \"\", \"marker\": {\"color\": \"#636efa\", \"symbol\": \"circle\"}, \"mode\": \"markers\", \"name\": \"\", \"orientation\": \"v\", \"showlegend\": false, \"type\": \"scatter\", \"x\": [27544, 25574, 26752, 23911, 30927, 26339, 22983, 21831, 23345, 24945, 22777, 26298, 26164, 19851, 27428, 20793, 24507, 31235, 27604, 26941, 28038, 30286, 27567, 30742, 19782, 23858, 24831, 23954, 25062, 28708, 24126, 24891, 25099, 24086, 26034, 26357, 27212, 24781, 27898, 24996, 25551, 28447, 22817, 23855, 24993, 24593, 24289, 22941, 24900, 26167, 25339, 24785, 28138, 25814, 26982, 22013, 22709, 30230, 27416, 21800, 22510, 22063, 25732, 28258, 27131, 24831, 29999, 26752, 30927, 19782, 24945, 25062, 22983, 23345, 26941, 27567, 23911, 23858, 24891, 21831, 24126, 28708, 26164, 27428, 30742, 24831, 23954, 19851, 22777, 20793, 25574, 24086, 30286, 28038, 27604, 27544, 25099, 26298, 26339, 31235, 24507, 29999, 24993, 24996, 22817, 28447, 26034, 21800, 27212, 23855, 28258, 27416, 24831, 24900, 30230, 24781, 27898, 25551, 26982, 24593, 25339, 28138, 22709, 26167, 25732, 24289, 27131, 22013, 24785, 22063, 22510, 26357, 25814, 22941], \"xaxis\": \"x\", \"y\": [36300, 33411, 33491, 32000, 38225, 31580, 30891, 27946, 31262, 32729, 36607, 34836, 36500, 32726, 33958, 28972, 31513, 34069, 31631, 38128, 37651, 36179, 36073, 42425, 37554, 33519, 35133, 37380, 29446, 35993, 31611, 27307, 33719, 30222, 28825, 29754, 39859, 35821, 33509, 33013, 34052, 35260, 34978, 30839, 33026, 32144, 31273, 33827, 32022, 37533, 32472, 34225, 37919, 41490, 29758, 29983, 34098, 40744, 36680, 29743, 27713, 28034, 33241, 32564, 31830, 33595, 32788, 36300, 33411, 33491, 32000, 38225, 31580, 30891, 27946, 31262, 32729, 36607, 34836, 36500, 32726, 33958, 28972, 31513, 34069, 31631, 38128, 37651, 36179, 36073, 42425, 37554, 33519, 35133, 37380, 29446, 35993, 31611, 27307, 33719, 30222, 28825, 29754, 39859, 35821, 33509, 33013, 34052, 35260, 34978, 30839, 33026, 32144, 31273, 33827, 32022, 37533, 32472, 34225, 37919, 41490, 29758, 29983, 34098, 40744, 36680, 29743, 27713, 28034, 33241, 32564, 31830, 33595, 32788], \"yaxis\": \"y\"}, {\"hovertemplate\": \"<b>OLS trendline</b><br>GMV_children = 0.222194 * GMV_adults + 27963.7<br>R<sup>2</sup>=0.029419<br><br>GMV_adults=%{x}<br>GMV_children=%{y} <b>(trend)</b><extra></extra>\", \"legendgroup\": \"\", \"marker\": {\"color\": \"#636efa\", \"symbol\": \"circle\"}, \"mode\": \"lines\", \"name\": \"\", \"showlegend\": false, \"type\": \"scatter\", \"x\": [19782, 19782, 19851, 19851, 20793, 20793, 21800, 21800, 21831, 21831, 22013, 22013, 22063, 22063, 22510, 22510, 22709, 22709, 22777, 22777, 22817, 22817, 22941, 22941, 22983, 22983, 23345, 23345, 23855, 23855, 23858, 23858, 23911, 23911, 23954, 23954, 24086, 24086, 24126, 24126, 24289, 24289, 24507, 24507, 24593, 24593, 24781, 24781, 24785, 24785, 24831, 24831, 24831, 24831, 24891, 24891, 24900, 24900, 24945, 24945, 24993, 24993, 24996, 24996, 25062, 25062, 25099, 25099, 25339, 25339, 25551, 25551, 25574, 25574, 25732, 25732, 25814, 25814, 26034, 26034, 26164, 26164, 26167, 26167, 26298, 26298, 26339, 26339, 26357, 26357, 26752, 26752, 26941, 26941, 26982, 26982, 27131, 27131, 27212, 27212, 27416, 27416, 27428, 27428, 27544, 27544, 27567, 27567, 27604, 27604, 27898, 27898, 28038, 28038, 28138, 28138, 28258, 28258, 28447, 28447, 28708, 28708, 29999, 29999, 30230, 30230, 30286, 30286, 30742, 30742, 30927, 30927, 31235, 31235], \"xaxis\": \"x\", \"y\": [32359.131908912565, 32359.131908912565, 32374.463299697978, 32374.463299697978, 32583.770113029263, 32583.770113029263, 32807.51954086855, 32807.51954086855, 32814.407557018516, 32814.407557018516, 32854.846877640906, 32854.846877640906, 32865.9565811086, 32865.9565811086, 32965.27733010975, 32965.27733010975, 33009.49394991116, 33009.49394991116, 33024.60314662721, 33024.60314662721, 33033.49090940137, 33033.49090940137, 33061.04297400124, 33061.04297400124, 33070.3751249141, 33070.3751249141, 33150.809378020174, 33150.809378020174, 33264.12835339062, 33264.12835339062, 33264.79493559868, 33264.79493559868, 33276.57122127443, 33276.57122127443, 33286.12556625665, 33286.12556625665, 33315.455183411344, 33315.455183411344, 33324.3429461855, 33324.3429461855, 33360.56057949017, 33360.56057949017, 33408.9988866093, 33408.9988866093, 33428.107576573726, 33428.107576573726, 33469.880061612246, 33469.880061612246, 33470.76883788966, 33470.76883788966, 33480.98976507993, 33480.98976507993, 33480.98976507993, 33480.98976507993, 33494.321409241165, 33494.321409241165, 33496.32115586534, 33496.32115586534, 33506.31988898627, 33506.31988898627, 33516.98520431525, 33516.98520431525, 33517.65178652331, 33517.65178652331, 33532.31659510066, 33532.31659510066, 33540.53777566675, 33540.53777566675, 33593.86435231167, 33593.86435231167, 33640.96949501467, 33640.96949501467, 33646.079958609815, 33646.079958609815, 33681.186621567715, 33681.186621567715, 33699.406535254726, 33699.406535254726, 33748.289230512564, 33748.289230512564, 33777.174459528556, 33777.174459528556, 33777.84104173662, 33777.84104173662, 33806.948464821966, 33806.948464821966, 33816.058421665475, 33816.058421665475, 33820.05791491384, 33820.05791491384, 33907.82457230859, 33907.82457230859, 33949.81925141646, 33949.81925141646, 33958.92920825997, 33958.92920825997, 33992.03612459369, 33992.03612459369, 34010.03384421134, 34010.03384421134, 34055.361434359525, 34055.361434359525, 34058.02776319177, 34058.02776319177, 34083.80227523681, 34083.80227523681, 34088.91273883195, 34088.91273883195, 34097.13391939804, 34097.13391939804, 34162.45897578806, 34162.45897578806, 34193.56614549759, 34193.56614549759, 34215.78555243297, 34215.78555243297, 34242.44884075543, 34242.44884075543, 34284.4435198633, 34284.4435198633, 34342.43617196464, 34342.43617196464, 34629.28871550041, 34629.28871550041, 34680.615545521134, 34680.615545521134, 34693.05841340495, 34693.05841340495, 34794.37890903028, 34794.37890903028, 34835.48481186074, 34835.48481186074, 34903.92058522171, 34903.92058522171], \"yaxis\": \"y\"}],                        {\"legend\": {\"tracegroupgap\": 0}, \"margin\": {\"t\": 60}, \"template\": {\"data\": {\"bar\": [{\"error_x\": {\"color\": \"#2a3f5f\"}, \"error_y\": {\"color\": \"#2a3f5f\"}, \"marker\": {\"line\": {\"color\": \"#E5ECF6\", \"width\": 0.5}}, \"type\": \"bar\"}], \"barpolar\": [{\"marker\": {\"line\": {\"color\": \"#E5ECF6\", \"width\": 0.5}}, \"type\": \"barpolar\"}], \"carpet\": [{\"aaxis\": {\"endlinecolor\": \"#2a3f5f\", \"gridcolor\": \"white\", \"linecolor\": \"white\", \"minorgridcolor\": \"white\", \"startlinecolor\": \"#2a3f5f\"}, \"baxis\": {\"endlinecolor\": \"#2a3f5f\", \"gridcolor\": \"white\", \"linecolor\": \"white\", \"minorgridcolor\": \"white\", \"startlinecolor\": \"#2a3f5f\"}, \"type\": \"carpet\"}], \"choropleth\": [{\"colorbar\": {\"outlinewidth\": 0, \"ticks\": \"\"}, \"type\": \"choropleth\"}], \"contour\": [{\"colorbar\": {\"outlinewidth\": 0, \"ticks\": \"\"}, \"colorscale\": [[0.0, \"#0d0887\"], [0.1111111111111111, \"#46039f\"], [0.2222222222222222, \"#7201a8\"], [0.3333333333333333, \"#9c179e\"], [0.4444444444444444, \"#bd3786\"], [0.5555555555555556, \"#d8576b\"], [0.6666666666666666, \"#ed7953\"], [0.7777777777777778, \"#fb9f3a\"], [0.8888888888888888, \"#fdca26\"], [1.0, \"#f0f921\"]], \"type\": \"contour\"}], \"contourcarpet\": [{\"colorbar\": {\"outlinewidth\": 0, \"ticks\": \"\"}, \"type\": \"contourcarpet\"}], \"heatmap\": [{\"colorbar\": {\"outlinewidth\": 0, \"ticks\": \"\"}, \"colorscale\": [[0.0, \"#0d0887\"], [0.1111111111111111, \"#46039f\"], [0.2222222222222222, \"#7201a8\"], [0.3333333333333333, \"#9c179e\"], [0.4444444444444444, \"#bd3786\"], [0.5555555555555556, \"#d8576b\"], [0.6666666666666666, \"#ed7953\"], [0.7777777777777778, \"#fb9f3a\"], [0.8888888888888888, \"#fdca26\"], [1.0, \"#f0f921\"]], \"type\": \"heatmap\"}], \"heatmapgl\": [{\"colorbar\": {\"outlinewidth\": 0, \"ticks\": \"\"}, \"colorscale\": [[0.0, \"#0d0887\"], [0.1111111111111111, \"#46039f\"], [0.2222222222222222, \"#7201a8\"], [0.3333333333333333, \"#9c179e\"], [0.4444444444444444, \"#bd3786\"], [0.5555555555555556, \"#d8576b\"], [0.6666666666666666, \"#ed7953\"], [0.7777777777777778, \"#fb9f3a\"], [0.8888888888888888, \"#fdca26\"], [1.0, \"#f0f921\"]], \"type\": \"heatmapgl\"}], \"histogram\": [{\"marker\": {\"colorbar\": {\"outlinewidth\": 0, \"ticks\": \"\"}}, \"type\": \"histogram\"}], \"histogram2d\": [{\"colorbar\": {\"outlinewidth\": 0, \"ticks\": \"\"}, \"colorscale\": [[0.0, \"#0d0887\"], [0.1111111111111111, \"#46039f\"], [0.2222222222222222, \"#7201a8\"], [0.3333333333333333, \"#9c179e\"], [0.4444444444444444, \"#bd3786\"], [0.5555555555555556, \"#d8576b\"], [0.6666666666666666, \"#ed7953\"], [0.7777777777777778, \"#fb9f3a\"], [0.8888888888888888, \"#fdca26\"], [1.0, \"#f0f921\"]], \"type\": \"histogram2d\"}], \"histogram2dcontour\": [{\"colorbar\": {\"outlinewidth\": 0, \"ticks\": \"\"}, \"colorscale\": [[0.0, \"#0d0887\"], [0.1111111111111111, \"#46039f\"], [0.2222222222222222, \"#7201a8\"], [0.3333333333333333, \"#9c179e\"], [0.4444444444444444, \"#bd3786\"], [0.5555555555555556, \"#d8576b\"], [0.6666666666666666, \"#ed7953\"], [0.7777777777777778, \"#fb9f3a\"], [0.8888888888888888, \"#fdca26\"], [1.0, \"#f0f921\"]], \"type\": \"histogram2dcontour\"}], \"mesh3d\": [{\"colorbar\": {\"outlinewidth\": 0, \"ticks\": \"\"}, \"type\": \"mesh3d\"}], \"parcoords\": [{\"line\": {\"colorbar\": {\"outlinewidth\": 0, \"ticks\": \"\"}}, \"type\": \"parcoords\"}], \"pie\": [{\"automargin\": true, \"type\": \"pie\"}], \"scatter\": [{\"marker\": {\"colorbar\": {\"outlinewidth\": 0, \"ticks\": \"\"}}, \"type\": \"scatter\"}], \"scatter3d\": [{\"line\": {\"colorbar\": {\"outlinewidth\": 0, \"ticks\": \"\"}}, \"marker\": {\"colorbar\": {\"outlinewidth\": 0, \"ticks\": \"\"}}, \"type\": \"scatter3d\"}], \"scattercarpet\": [{\"marker\": {\"colorbar\": {\"outlinewidth\": 0, \"ticks\": \"\"}}, \"type\": \"scattercarpet\"}], \"scattergeo\": [{\"marker\": {\"colorbar\": {\"outlinewidth\": 0, \"ticks\": \"\"}}, \"type\": \"scattergeo\"}], \"scattergl\": [{\"marker\": {\"colorbar\": {\"outlinewidth\": 0, \"ticks\": \"\"}}, \"type\": \"scattergl\"}], \"scattermapbox\": [{\"marker\": {\"colorbar\": {\"outlinewidth\": 0, \"ticks\": \"\"}}, \"type\": \"scattermapbox\"}], \"scatterpolar\": [{\"marker\": {\"colorbar\": {\"outlinewidth\": 0, \"ticks\": \"\"}}, \"type\": \"scatterpolar\"}], \"scatterpolargl\": [{\"marker\": {\"colorbar\": {\"outlinewidth\": 0, \"ticks\": \"\"}}, \"type\": \"scatterpolargl\"}], \"scatterternary\": [{\"marker\": {\"colorbar\": {\"outlinewidth\": 0, \"ticks\": \"\"}}, \"type\": \"scatterternary\"}], \"surface\": [{\"colorbar\": {\"outlinewidth\": 0, \"ticks\": \"\"}, \"colorscale\": [[0.0, \"#0d0887\"], [0.1111111111111111, \"#46039f\"], [0.2222222222222222, \"#7201a8\"], [0.3333333333333333, \"#9c179e\"], [0.4444444444444444, \"#bd3786\"], [0.5555555555555556, \"#d8576b\"], [0.6666666666666666, \"#ed7953\"], [0.7777777777777778, \"#fb9f3a\"], [0.8888888888888888, \"#fdca26\"], [1.0, \"#f0f921\"]], \"type\": \"surface\"}], \"table\": [{\"cells\": {\"fill\": {\"color\": \"#EBF0F8\"}, \"line\": {\"color\": \"white\"}}, \"header\": {\"fill\": {\"color\": \"#C8D4E3\"}, \"line\": {\"color\": \"white\"}}, \"type\": \"table\"}]}, \"layout\": {\"annotationdefaults\": {\"arrowcolor\": \"#2a3f5f\", \"arrowhead\": 0, \"arrowwidth\": 1}, \"autotypenumbers\": \"strict\", \"coloraxis\": {\"colorbar\": {\"outlinewidth\": 0, \"ticks\": \"\"}}, \"colorscale\": {\"diverging\": [[0, \"#8e0152\"], [0.1, \"#c51b7d\"], [0.2, \"#de77ae\"], [0.3, \"#f1b6da\"], [0.4, \"#fde0ef\"], [0.5, \"#f7f7f7\"], [0.6, \"#e6f5d0\"], [0.7, \"#b8e186\"], [0.8, \"#7fbc41\"], [0.9, \"#4d9221\"], [1, \"#276419\"]], \"sequential\": [[0.0, \"#0d0887\"], [0.1111111111111111, \"#46039f\"], [0.2222222222222222, \"#7201a8\"], [0.3333333333333333, \"#9c179e\"], [0.4444444444444444, \"#bd3786\"], [0.5555555555555556, \"#d8576b\"], [0.6666666666666666, \"#ed7953\"], [0.7777777777777778, \"#fb9f3a\"], [0.8888888888888888, \"#fdca26\"], [1.0, \"#f0f921\"]], \"sequentialminus\": [[0.0, \"#0d0887\"], [0.1111111111111111, \"#46039f\"], [0.2222222222222222, \"#7201a8\"], [0.3333333333333333, \"#9c179e\"], [0.4444444444444444, \"#bd3786\"], [0.5555555555555556, \"#d8576b\"], [0.6666666666666666, \"#ed7953\"], [0.7777777777777778, \"#fb9f3a\"], [0.8888888888888888, \"#fdca26\"], [1.0, \"#f0f921\"]]}, \"colorway\": [\"#636efa\", \"#EF553B\", \"#00cc96\", \"#ab63fa\", \"#FFA15A\", \"#19d3f3\", \"#FF6692\", \"#B6E880\", \"#FF97FF\", \"#FECB52\"], \"font\": {\"color\": \"#2a3f5f\"}, \"geo\": {\"bgcolor\": \"white\", \"lakecolor\": \"white\", \"landcolor\": \"#E5ECF6\", \"showlakes\": true, \"showland\": true, \"subunitcolor\": \"white\"}, \"hoverlabel\": {\"align\": \"left\"}, \"hovermode\": \"closest\", \"mapbox\": {\"style\": \"light\"}, \"paper_bgcolor\": \"white\", \"plot_bgcolor\": \"#E5ECF6\", \"polar\": {\"angularaxis\": {\"gridcolor\": \"white\", \"linecolor\": \"white\", \"ticks\": \"\"}, \"bgcolor\": \"#E5ECF6\", \"radialaxis\": {\"gridcolor\": \"white\", \"linecolor\": \"white\", \"ticks\": \"\"}}, \"scene\": {\"xaxis\": {\"backgroundcolor\": \"#E5ECF6\", \"gridcolor\": \"white\", \"gridwidth\": 2, \"linecolor\": \"white\", \"showbackground\": true, \"ticks\": \"\", \"zerolinecolor\": \"white\"}, \"yaxis\": {\"backgroundcolor\": \"#E5ECF6\", \"gridcolor\": \"white\", \"gridwidth\": 2, \"linecolor\": \"white\", \"showbackground\": true, \"ticks\": \"\", \"zerolinecolor\": \"white\"}, \"zaxis\": {\"backgroundcolor\": \"#E5ECF6\", \"gridcolor\": \"white\", \"gridwidth\": 2, \"linecolor\": \"white\", \"showbackground\": true, \"ticks\": \"\", \"zerolinecolor\": \"white\"}}, \"shapedefaults\": {\"line\": {\"color\": \"#2a3f5f\"}}, \"ternary\": {\"aaxis\": {\"gridcolor\": \"white\", \"linecolor\": \"white\", \"ticks\": \"\"}, \"baxis\": {\"gridcolor\": \"white\", \"linecolor\": \"white\", \"ticks\": \"\"}, \"bgcolor\": \"#E5ECF6\", \"caxis\": {\"gridcolor\": \"white\", \"linecolor\": \"white\", \"ticks\": \"\"}}, \"title\": {\"x\": 0.05}, \"xaxis\": {\"automargin\": true, \"gridcolor\": \"white\", \"linecolor\": \"white\", \"ticks\": \"\", \"title\": {\"standoff\": 15}, \"zerolinecolor\": \"white\", \"zerolinewidth\": 2}, \"yaxis\": {\"automargin\": true, \"gridcolor\": \"white\", \"linecolor\": \"white\", \"ticks\": \"\", \"title\": {\"standoff\": 15}, \"zerolinecolor\": \"white\", \"zerolinewidth\": 2}}}, \"xaxis\": {\"anchor\": \"y\", \"domain\": [0.0, 1.0], \"title\": {\"text\": \"GMV_adults\"}}, \"yaxis\": {\"anchor\": \"x\", \"domain\": [0.0, 1.0], \"title\": {\"text\": \"GMV_children\"}}},                        {\"responsive\": true}                    ).then(function(){\n",
       "                            \n",
       "var gd = document.getElementById('4e2fe8c5-0129-430b-bb81-2e46f7287280');\n",
       "var x = new MutationObserver(function (mutations, observer) {{\n",
       "        var display = window.getComputedStyle(gd).display;\n",
       "        if (!display || display === 'none') {{\n",
       "            console.log([gd, 'removed!']);\n",
       "            Plotly.purge(gd);\n",
       "            observer.disconnect();\n",
       "        }}\n",
       "}});\n",
       "\n",
       "// Listen for the removal of the full notebook cells\n",
       "var notebookContainer = gd.closest('#notebook-container');\n",
       "if (notebookContainer) {{\n",
       "    x.observe(notebookContainer, {childList: true});\n",
       "}}\n",
       "\n",
       "// Listen for the clearing of the current output cell\n",
       "var outputEl = gd.closest('.output');\n",
       "if (outputEl) {{\n",
       "    x.observe(outputEl, {childList: true});\n",
       "}}\n",
       "\n",
       "                        })                };                });            </script>        </div>"
      ]
     },
     "metadata": {},
     "output_type": "display_data"
    }
   ],
   "source": [
    "#adding a trendline\n",
    "fig = px.scatter(df, x=\"GMV_adults\", y=\"GMV_children\",trendline=\"ols\")\n",
    "fig.show()\n"
   ]
  },
  {
   "cell_type": "code",
   "execution_count": 17,
   "id": "146105f7",
   "metadata": {},
   "outputs": [
    {
     "data": {
      "application/vnd.plotly.v1+json": {
       "config": {
        "plotlyServerURL": "https://plot.ly"
       },
       "data": [
        {
         "hovertemplate": "Group =own_mother<br>GMV_adults=%{x}<br>GMV_children=%{y}<extra></extra>",
         "legendgroup": "own_mother",
         "marker": {
          "color": "#636efa",
          "symbol": "circle"
         },
         "mode": "markers",
         "name": "own_mother",
         "orientation": "v",
         "showlegend": true,
         "type": "scatter",
         "x": [
          27544,
          25574,
          26752,
          23911,
          30927,
          26339,
          22983,
          21831,
          23345,
          24945,
          22777,
          26298,
          26164,
          19851,
          27428,
          20793,
          24507,
          31235,
          27604,
          26941,
          28038,
          30286,
          27567,
          30742,
          19782,
          23858,
          24831,
          23954,
          25062,
          28708,
          24126,
          24891,
          25099,
          24086,
          26034,
          26357,
          27212,
          24781,
          27898,
          24996,
          25551,
          28447,
          22817,
          23855,
          24993,
          24593,
          24289,
          22941,
          24900,
          26167,
          25339,
          24785,
          28138,
          25814,
          26982,
          22013,
          22709,
          30230,
          27416,
          21800,
          22510,
          22063,
          25732,
          28258,
          27131,
          24831,
          29999
         ],
         "xaxis": "x",
         "y": [
          36300,
          33411,
          33491,
          32000,
          38225,
          31580,
          30891,
          27946,
          31262,
          32729,
          36607,
          34836,
          36500,
          32726,
          33958,
          28972,
          31513,
          34069,
          31631,
          38128,
          37651,
          36179,
          36073,
          42425,
          37554,
          33519,
          35133,
          37380,
          29446,
          35993,
          31611,
          27307,
          33719,
          30222,
          28825,
          29754,
          39859,
          35821,
          33509,
          33013,
          34052,
          35260,
          34978,
          30839,
          33026,
          32144,
          31273,
          33827,
          32022,
          37533,
          32472,
          34225,
          37919,
          41490,
          29758,
          29983,
          34098,
          40744,
          36680,
          29743,
          27713,
          28034,
          33241,
          32564,
          31830,
          33595,
          32788
         ],
         "yaxis": "y"
        },
        {
         "hovertemplate": "<b>OLS trendline</b><br>GMV_children = 0.621179 * GMV_adults + 17778.5<br>R<sup>2</sup>=0.229933<br><br>Group =own_mother<br>GMV_adults=%{x}<br>GMV_children=%{y} <b>(trend)</b><extra></extra>",
         "legendgroup": "own_mother",
         "marker": {
          "color": "#636efa",
          "symbol": "circle"
         },
         "mode": "lines",
         "name": "own_mother",
         "showlegend": false,
         "type": "scatter",
         "x": [
          19782,
          19851,
          20793,
          21800,
          21831,
          22013,
          22063,
          22510,
          22709,
          22777,
          22817,
          22941,
          22983,
          23345,
          23855,
          23858,
          23911,
          23954,
          24086,
          24126,
          24289,
          24507,
          24593,
          24781,
          24785,
          24831,
          24831,
          24891,
          24900,
          24945,
          24993,
          24996,
          25062,
          25099,
          25339,
          25551,
          25574,
          25732,
          25814,
          26034,
          26164,
          26167,
          26298,
          26339,
          26357,
          26752,
          26941,
          26982,
          27131,
          27212,
          27416,
          27428,
          27544,
          27567,
          27604,
          27898,
          28038,
          28138,
          28258,
          28447,
          28708,
          29999,
          30230,
          30286,
          30742,
          30927,
          31235
         ],
         "xaxis": "x",
         "y": [
          30066.657679362354,
          30109.519055557415,
          30694.670017524775,
          31320.197638226608,
          31339.454198546126,
          31452.508843002666,
          31483.567811259956,
          31761.234987480137,
          31884.84968114415,
          31927.089877974067,
          31951.9370525799,
          32028.96329385798,
          32055.052827194104,
          32279.91975737689,
          32596.721233601253,
          32598.58477169669,
          32631.50727804942,
          32658.217990750687,
          32740.213666949938,
          32765.06084155577,
          32866.313078074534,
          33001.73017967632,
          33055.15160507886,
          33171.93332572628,
          33174.41804318686,
          33202.99229398357,
          33202.99229398357,
          33240.26305589231,
          33245.85367017863,
          33273.80674161019,
          33303.62335113719,
          33305.48688923263,
          33346.48472733225,
          33369.46836384264,
          33518.551411477645,
          33650.24143688855,
          33664.528562286905,
          33762.674901979946,
          33813.6116099219,
          33950.27107025398,
          34031.02438772294,
          34032.88792581837,
          34114.26242265248,
          34139.73077662345,
          34150.91200519608,
          34396.27785442867,
          34513.68075444123,
          34539.14910841221,
          34631.704833818934,
          34682.02036239575,
          34808.74095288549,
          34816.195105267245,
          34888.25191162416,
          34902.539037022514,
          34925.522673532905,
          35108.14940688577,
          35195.11451800619,
          35257.232454520774,
          35331.77397833827,
          35449.17687835083,
          35611.30469265388,
          36413.24725305713,
          36556.73968640581,
          36591.52573085398,
          36874.78352136047,
          36989.70170391245,
          37181.02494837735
         ],
         "yaxis": "y"
        },
        {
         "hovertemplate": "Group =random_adult<br>GMV_adults=%{x}<br>GMV_children=%{y}<extra></extra>",
         "legendgroup": "random_adult",
         "marker": {
          "color": "#EF553B",
          "symbol": "circle"
         },
         "mode": "markers",
         "name": "random_adult",
         "orientation": "v",
         "showlegend": true,
         "type": "scatter",
         "x": [
          26752,
          30927,
          19782,
          24945,
          25062,
          22983,
          23345,
          26941,
          27567,
          23911,
          23858,
          24891,
          21831,
          24126,
          28708,
          26164,
          27428,
          30742,
          24831,
          23954,
          19851,
          22777,
          20793,
          25574,
          24086,
          30286,
          28038,
          27604,
          27544,
          25099,
          26298,
          26339,
          31235,
          24507,
          29999,
          24993,
          24996,
          22817,
          28447,
          26034,
          21800,
          27212,
          23855,
          28258,
          27416,
          24831,
          24900,
          30230,
          24781,
          27898,
          25551,
          26982,
          24593,
          25339,
          28138,
          22709,
          26167,
          25732,
          24289,
          27131,
          22013,
          24785,
          22063,
          22510,
          26357,
          25814,
          22941
         ],
         "xaxis": "x",
         "y": [
          36300,
          33411,
          33491,
          32000,
          38225,
          31580,
          30891,
          27946,
          31262,
          32729,
          36607,
          34836,
          36500,
          32726,
          33958,
          28972,
          31513,
          34069,
          31631,
          38128,
          37651,
          36179,
          36073,
          42425,
          37554,
          33519,
          35133,
          37380,
          29446,
          35993,
          31611,
          27307,
          33719,
          30222,
          28825,
          29754,
          39859,
          35821,
          33509,
          33013,
          34052,
          35260,
          34978,
          30839,
          33026,
          32144,
          31273,
          33827,
          32022,
          37533,
          32472,
          34225,
          37919,
          41490,
          29758,
          29983,
          34098,
          40744,
          36680,
          29743,
          27713,
          28034,
          33241,
          32564,
          31830,
          33595,
          32788
         ],
         "yaxis": "y"
        },
        {
         "hovertemplate": "<b>OLS trendline</b><br>GMV_children = -0.176791 * GMV_adults + 38148.9<br>R<sup>2</sup>=0.018625<br><br>Group =random_adult<br>GMV_adults=%{x}<br>GMV_children=%{y} <b>(trend)</b><extra></extra>",
         "legendgroup": "random_adult",
         "marker": {
          "color": "#EF553B",
          "symbol": "circle"
         },
         "mode": "lines",
         "name": "random_adult",
         "showlegend": false,
         "type": "scatter",
         "x": [
          19782,
          19851,
          20793,
          21800,
          21831,
          22013,
          22063,
          22510,
          22709,
          22777,
          22817,
          22941,
          22983,
          23345,
          23855,
          23858,
          23911,
          23954,
          24086,
          24126,
          24289,
          24507,
          24593,
          24781,
          24785,
          24831,
          24831,
          24891,
          24900,
          24945,
          24993,
          24996,
          25062,
          25099,
          25339,
          25551,
          25574,
          25732,
          25814,
          26034,
          26164,
          26167,
          26298,
          26339,
          26357,
          26752,
          26941,
          26982,
          27131,
          27212,
          27416,
          27428,
          27544,
          27567,
          27604,
          27898,
          28038,
          28138,
          28258,
          28447,
          28708,
          29999,
          30230,
          30286,
          30742,
          30927,
          31235
         ],
         "xaxis": "x",
         "y": [
          34651.60613846284,
          34639.407543838606,
          34472.87020853382,
          34294.84144351055,
          34289.36091549097,
          34257.18491227922,
          34248.34535095731,
          34169.31967273943,
          34134.13821867823,
          34122.116415280434,
          34115.044766222905,
          34093.122654144565,
          34085.69742263416,
          34021.69899866354,
          33931.535473180054,
          33931.00509950074,
          33921.635164499516,
          33914.03314176267,
          33890.69669987283,
          33883.6250508153,
          33854.808080905874,
          33816.26759354235,
          33801.06354806866,
          33767.82679749828,
          33767.11963259253,
          33758.98723617637,
          33758.98723617637,
          33748.37976259008,
          33746.788641552135,
          33738.83303636241,
          33730.34705749338,
          33729.81668381407,
          33718.14846286915,
          33711.60718749093,
          33669.17729314577,
          33631.69755314087,
          33627.63135493279,
          33599.698341155556,
          33585.20146058762,
          33546.30739077122,
          33523.32453133425,
          33522.794157654935,
          33499.63450699153,
          33492.386066707564,
          33489.20382463168,
          33419.37129018859,
          33385.95774839177,
          33378.709308107806,
          33352.36741536851,
          33338.047326027016,
          33301.981915833625,
          33299.86042111636,
          33279.35263884954,
          33275.28644064146,
          33268.745165263244,
          33216.768544690414,
          33192.017772989064,
          33174.33865034524,
          33153.12370317266,
          33119.71016137584,
          33073.56765127547,
          32845.33017794375,
          32804.49140463653,
          32794.59109595599,
          32713.974296700173,
          32681.267919809106,
          32626.81622206614
         ],
         "yaxis": "y"
        }
       ],
       "layout": {
        "legend": {
         "title": {
          "text": "Group "
         },
         "tracegroupgap": 0
        },
        "margin": {
         "t": 60
        },
        "template": {
         "data": {
          "bar": [
           {
            "error_x": {
             "color": "#2a3f5f"
            },
            "error_y": {
             "color": "#2a3f5f"
            },
            "marker": {
             "line": {
              "color": "#E5ECF6",
              "width": 0.5
             }
            },
            "type": "bar"
           }
          ],
          "barpolar": [
           {
            "marker": {
             "line": {
              "color": "#E5ECF6",
              "width": 0.5
             }
            },
            "type": "barpolar"
           }
          ],
          "carpet": [
           {
            "aaxis": {
             "endlinecolor": "#2a3f5f",
             "gridcolor": "white",
             "linecolor": "white",
             "minorgridcolor": "white",
             "startlinecolor": "#2a3f5f"
            },
            "baxis": {
             "endlinecolor": "#2a3f5f",
             "gridcolor": "white",
             "linecolor": "white",
             "minorgridcolor": "white",
             "startlinecolor": "#2a3f5f"
            },
            "type": "carpet"
           }
          ],
          "choropleth": [
           {
            "colorbar": {
             "outlinewidth": 0,
             "ticks": ""
            },
            "type": "choropleth"
           }
          ],
          "contour": [
           {
            "colorbar": {
             "outlinewidth": 0,
             "ticks": ""
            },
            "colorscale": [
             [
              0,
              "#0d0887"
             ],
             [
              0.1111111111111111,
              "#46039f"
             ],
             [
              0.2222222222222222,
              "#7201a8"
             ],
             [
              0.3333333333333333,
              "#9c179e"
             ],
             [
              0.4444444444444444,
              "#bd3786"
             ],
             [
              0.5555555555555556,
              "#d8576b"
             ],
             [
              0.6666666666666666,
              "#ed7953"
             ],
             [
              0.7777777777777778,
              "#fb9f3a"
             ],
             [
              0.8888888888888888,
              "#fdca26"
             ],
             [
              1,
              "#f0f921"
             ]
            ],
            "type": "contour"
           }
          ],
          "contourcarpet": [
           {
            "colorbar": {
             "outlinewidth": 0,
             "ticks": ""
            },
            "type": "contourcarpet"
           }
          ],
          "heatmap": [
           {
            "colorbar": {
             "outlinewidth": 0,
             "ticks": ""
            },
            "colorscale": [
             [
              0,
              "#0d0887"
             ],
             [
              0.1111111111111111,
              "#46039f"
             ],
             [
              0.2222222222222222,
              "#7201a8"
             ],
             [
              0.3333333333333333,
              "#9c179e"
             ],
             [
              0.4444444444444444,
              "#bd3786"
             ],
             [
              0.5555555555555556,
              "#d8576b"
             ],
             [
              0.6666666666666666,
              "#ed7953"
             ],
             [
              0.7777777777777778,
              "#fb9f3a"
             ],
             [
              0.8888888888888888,
              "#fdca26"
             ],
             [
              1,
              "#f0f921"
             ]
            ],
            "type": "heatmap"
           }
          ],
          "heatmapgl": [
           {
            "colorbar": {
             "outlinewidth": 0,
             "ticks": ""
            },
            "colorscale": [
             [
              0,
              "#0d0887"
             ],
             [
              0.1111111111111111,
              "#46039f"
             ],
             [
              0.2222222222222222,
              "#7201a8"
             ],
             [
              0.3333333333333333,
              "#9c179e"
             ],
             [
              0.4444444444444444,
              "#bd3786"
             ],
             [
              0.5555555555555556,
              "#d8576b"
             ],
             [
              0.6666666666666666,
              "#ed7953"
             ],
             [
              0.7777777777777778,
              "#fb9f3a"
             ],
             [
              0.8888888888888888,
              "#fdca26"
             ],
             [
              1,
              "#f0f921"
             ]
            ],
            "type": "heatmapgl"
           }
          ],
          "histogram": [
           {
            "marker": {
             "colorbar": {
              "outlinewidth": 0,
              "ticks": ""
             }
            },
            "type": "histogram"
           }
          ],
          "histogram2d": [
           {
            "colorbar": {
             "outlinewidth": 0,
             "ticks": ""
            },
            "colorscale": [
             [
              0,
              "#0d0887"
             ],
             [
              0.1111111111111111,
              "#46039f"
             ],
             [
              0.2222222222222222,
              "#7201a8"
             ],
             [
              0.3333333333333333,
              "#9c179e"
             ],
             [
              0.4444444444444444,
              "#bd3786"
             ],
             [
              0.5555555555555556,
              "#d8576b"
             ],
             [
              0.6666666666666666,
              "#ed7953"
             ],
             [
              0.7777777777777778,
              "#fb9f3a"
             ],
             [
              0.8888888888888888,
              "#fdca26"
             ],
             [
              1,
              "#f0f921"
             ]
            ],
            "type": "histogram2d"
           }
          ],
          "histogram2dcontour": [
           {
            "colorbar": {
             "outlinewidth": 0,
             "ticks": ""
            },
            "colorscale": [
             [
              0,
              "#0d0887"
             ],
             [
              0.1111111111111111,
              "#46039f"
             ],
             [
              0.2222222222222222,
              "#7201a8"
             ],
             [
              0.3333333333333333,
              "#9c179e"
             ],
             [
              0.4444444444444444,
              "#bd3786"
             ],
             [
              0.5555555555555556,
              "#d8576b"
             ],
             [
              0.6666666666666666,
              "#ed7953"
             ],
             [
              0.7777777777777778,
              "#fb9f3a"
             ],
             [
              0.8888888888888888,
              "#fdca26"
             ],
             [
              1,
              "#f0f921"
             ]
            ],
            "type": "histogram2dcontour"
           }
          ],
          "mesh3d": [
           {
            "colorbar": {
             "outlinewidth": 0,
             "ticks": ""
            },
            "type": "mesh3d"
           }
          ],
          "parcoords": [
           {
            "line": {
             "colorbar": {
              "outlinewidth": 0,
              "ticks": ""
             }
            },
            "type": "parcoords"
           }
          ],
          "pie": [
           {
            "automargin": true,
            "type": "pie"
           }
          ],
          "scatter": [
           {
            "marker": {
             "colorbar": {
              "outlinewidth": 0,
              "ticks": ""
             }
            },
            "type": "scatter"
           }
          ],
          "scatter3d": [
           {
            "line": {
             "colorbar": {
              "outlinewidth": 0,
              "ticks": ""
             }
            },
            "marker": {
             "colorbar": {
              "outlinewidth": 0,
              "ticks": ""
             }
            },
            "type": "scatter3d"
           }
          ],
          "scattercarpet": [
           {
            "marker": {
             "colorbar": {
              "outlinewidth": 0,
              "ticks": ""
             }
            },
            "type": "scattercarpet"
           }
          ],
          "scattergeo": [
           {
            "marker": {
             "colorbar": {
              "outlinewidth": 0,
              "ticks": ""
             }
            },
            "type": "scattergeo"
           }
          ],
          "scattergl": [
           {
            "marker": {
             "colorbar": {
              "outlinewidth": 0,
              "ticks": ""
             }
            },
            "type": "scattergl"
           }
          ],
          "scattermapbox": [
           {
            "marker": {
             "colorbar": {
              "outlinewidth": 0,
              "ticks": ""
             }
            },
            "type": "scattermapbox"
           }
          ],
          "scatterpolar": [
           {
            "marker": {
             "colorbar": {
              "outlinewidth": 0,
              "ticks": ""
             }
            },
            "type": "scatterpolar"
           }
          ],
          "scatterpolargl": [
           {
            "marker": {
             "colorbar": {
              "outlinewidth": 0,
              "ticks": ""
             }
            },
            "type": "scatterpolargl"
           }
          ],
          "scatterternary": [
           {
            "marker": {
             "colorbar": {
              "outlinewidth": 0,
              "ticks": ""
             }
            },
            "type": "scatterternary"
           }
          ],
          "surface": [
           {
            "colorbar": {
             "outlinewidth": 0,
             "ticks": ""
            },
            "colorscale": [
             [
              0,
              "#0d0887"
             ],
             [
              0.1111111111111111,
              "#46039f"
             ],
             [
              0.2222222222222222,
              "#7201a8"
             ],
             [
              0.3333333333333333,
              "#9c179e"
             ],
             [
              0.4444444444444444,
              "#bd3786"
             ],
             [
              0.5555555555555556,
              "#d8576b"
             ],
             [
              0.6666666666666666,
              "#ed7953"
             ],
             [
              0.7777777777777778,
              "#fb9f3a"
             ],
             [
              0.8888888888888888,
              "#fdca26"
             ],
             [
              1,
              "#f0f921"
             ]
            ],
            "type": "surface"
           }
          ],
          "table": [
           {
            "cells": {
             "fill": {
              "color": "#EBF0F8"
             },
             "line": {
              "color": "white"
             }
            },
            "header": {
             "fill": {
              "color": "#C8D4E3"
             },
             "line": {
              "color": "white"
             }
            },
            "type": "table"
           }
          ]
         },
         "layout": {
          "annotationdefaults": {
           "arrowcolor": "#2a3f5f",
           "arrowhead": 0,
           "arrowwidth": 1
          },
          "autotypenumbers": "strict",
          "coloraxis": {
           "colorbar": {
            "outlinewidth": 0,
            "ticks": ""
           }
          },
          "colorscale": {
           "diverging": [
            [
             0,
             "#8e0152"
            ],
            [
             0.1,
             "#c51b7d"
            ],
            [
             0.2,
             "#de77ae"
            ],
            [
             0.3,
             "#f1b6da"
            ],
            [
             0.4,
             "#fde0ef"
            ],
            [
             0.5,
             "#f7f7f7"
            ],
            [
             0.6,
             "#e6f5d0"
            ],
            [
             0.7,
             "#b8e186"
            ],
            [
             0.8,
             "#7fbc41"
            ],
            [
             0.9,
             "#4d9221"
            ],
            [
             1,
             "#276419"
            ]
           ],
           "sequential": [
            [
             0,
             "#0d0887"
            ],
            [
             0.1111111111111111,
             "#46039f"
            ],
            [
             0.2222222222222222,
             "#7201a8"
            ],
            [
             0.3333333333333333,
             "#9c179e"
            ],
            [
             0.4444444444444444,
             "#bd3786"
            ],
            [
             0.5555555555555556,
             "#d8576b"
            ],
            [
             0.6666666666666666,
             "#ed7953"
            ],
            [
             0.7777777777777778,
             "#fb9f3a"
            ],
            [
             0.8888888888888888,
             "#fdca26"
            ],
            [
             1,
             "#f0f921"
            ]
           ],
           "sequentialminus": [
            [
             0,
             "#0d0887"
            ],
            [
             0.1111111111111111,
             "#46039f"
            ],
            [
             0.2222222222222222,
             "#7201a8"
            ],
            [
             0.3333333333333333,
             "#9c179e"
            ],
            [
             0.4444444444444444,
             "#bd3786"
            ],
            [
             0.5555555555555556,
             "#d8576b"
            ],
            [
             0.6666666666666666,
             "#ed7953"
            ],
            [
             0.7777777777777778,
             "#fb9f3a"
            ],
            [
             0.8888888888888888,
             "#fdca26"
            ],
            [
             1,
             "#f0f921"
            ]
           ]
          },
          "colorway": [
           "#636efa",
           "#EF553B",
           "#00cc96",
           "#ab63fa",
           "#FFA15A",
           "#19d3f3",
           "#FF6692",
           "#B6E880",
           "#FF97FF",
           "#FECB52"
          ],
          "font": {
           "color": "#2a3f5f"
          },
          "geo": {
           "bgcolor": "white",
           "lakecolor": "white",
           "landcolor": "#E5ECF6",
           "showlakes": true,
           "showland": true,
           "subunitcolor": "white"
          },
          "hoverlabel": {
           "align": "left"
          },
          "hovermode": "closest",
          "mapbox": {
           "style": "light"
          },
          "paper_bgcolor": "white",
          "plot_bgcolor": "#E5ECF6",
          "polar": {
           "angularaxis": {
            "gridcolor": "white",
            "linecolor": "white",
            "ticks": ""
           },
           "bgcolor": "#E5ECF6",
           "radialaxis": {
            "gridcolor": "white",
            "linecolor": "white",
            "ticks": ""
           }
          },
          "scene": {
           "xaxis": {
            "backgroundcolor": "#E5ECF6",
            "gridcolor": "white",
            "gridwidth": 2,
            "linecolor": "white",
            "showbackground": true,
            "ticks": "",
            "zerolinecolor": "white"
           },
           "yaxis": {
            "backgroundcolor": "#E5ECF6",
            "gridcolor": "white",
            "gridwidth": 2,
            "linecolor": "white",
            "showbackground": true,
            "ticks": "",
            "zerolinecolor": "white"
           },
           "zaxis": {
            "backgroundcolor": "#E5ECF6",
            "gridcolor": "white",
            "gridwidth": 2,
            "linecolor": "white",
            "showbackground": true,
            "ticks": "",
            "zerolinecolor": "white"
           }
          },
          "shapedefaults": {
           "line": {
            "color": "#2a3f5f"
           }
          },
          "ternary": {
           "aaxis": {
            "gridcolor": "white",
            "linecolor": "white",
            "ticks": ""
           },
           "baxis": {
            "gridcolor": "white",
            "linecolor": "white",
            "ticks": ""
           },
           "bgcolor": "#E5ECF6",
           "caxis": {
            "gridcolor": "white",
            "linecolor": "white",
            "ticks": ""
           }
          },
          "title": {
           "x": 0.05
          },
          "xaxis": {
           "automargin": true,
           "gridcolor": "white",
           "linecolor": "white",
           "ticks": "",
           "title": {
            "standoff": 15
           },
           "zerolinecolor": "white",
           "zerolinewidth": 2
          },
          "yaxis": {
           "automargin": true,
           "gridcolor": "white",
           "linecolor": "white",
           "ticks": "",
           "title": {
            "standoff": 15
           },
           "zerolinecolor": "white",
           "zerolinewidth": 2
          }
         }
        },
        "xaxis": {
         "anchor": "y",
         "domain": [
          0,
          1
         ],
         "title": {
          "text": "GMV_adults"
         }
        },
        "yaxis": {
         "anchor": "x",
         "domain": [
          0,
          1
         ],
         "title": {
          "text": "GMV_children"
         }
        }
       }
      },
      "text/html": [
       "<div>                            <div id=\"32c84fa1-f1ae-4692-b58a-e0c67e617d6c\" class=\"plotly-graph-div\" style=\"height:525px; width:100%;\"></div>            <script type=\"text/javascript\">                require([\"plotly\"], function(Plotly) {                    window.PLOTLYENV=window.PLOTLYENV || {};                                    if (document.getElementById(\"32c84fa1-f1ae-4692-b58a-e0c67e617d6c\")) {                    Plotly.newPlot(                        \"32c84fa1-f1ae-4692-b58a-e0c67e617d6c\",                        [{\"hovertemplate\": \"Group =own_mother<br>GMV_adults=%{x}<br>GMV_children=%{y}<extra></extra>\", \"legendgroup\": \"own_mother\", \"marker\": {\"color\": \"#636efa\", \"symbol\": \"circle\"}, \"mode\": \"markers\", \"name\": \"own_mother\", \"orientation\": \"v\", \"showlegend\": true, \"type\": \"scatter\", \"x\": [27544, 25574, 26752, 23911, 30927, 26339, 22983, 21831, 23345, 24945, 22777, 26298, 26164, 19851, 27428, 20793, 24507, 31235, 27604, 26941, 28038, 30286, 27567, 30742, 19782, 23858, 24831, 23954, 25062, 28708, 24126, 24891, 25099, 24086, 26034, 26357, 27212, 24781, 27898, 24996, 25551, 28447, 22817, 23855, 24993, 24593, 24289, 22941, 24900, 26167, 25339, 24785, 28138, 25814, 26982, 22013, 22709, 30230, 27416, 21800, 22510, 22063, 25732, 28258, 27131, 24831, 29999], \"xaxis\": \"x\", \"y\": [36300, 33411, 33491, 32000, 38225, 31580, 30891, 27946, 31262, 32729, 36607, 34836, 36500, 32726, 33958, 28972, 31513, 34069, 31631, 38128, 37651, 36179, 36073, 42425, 37554, 33519, 35133, 37380, 29446, 35993, 31611, 27307, 33719, 30222, 28825, 29754, 39859, 35821, 33509, 33013, 34052, 35260, 34978, 30839, 33026, 32144, 31273, 33827, 32022, 37533, 32472, 34225, 37919, 41490, 29758, 29983, 34098, 40744, 36680, 29743, 27713, 28034, 33241, 32564, 31830, 33595, 32788], \"yaxis\": \"y\"}, {\"hovertemplate\": \"<b>OLS trendline</b><br>GMV_children = 0.621179 * GMV_adults + 17778.5<br>R<sup>2</sup>=0.229933<br><br>Group =own_mother<br>GMV_adults=%{x}<br>GMV_children=%{y} <b>(trend)</b><extra></extra>\", \"legendgroup\": \"own_mother\", \"marker\": {\"color\": \"#636efa\", \"symbol\": \"circle\"}, \"mode\": \"lines\", \"name\": \"own_mother\", \"showlegend\": false, \"type\": \"scatter\", \"x\": [19782, 19851, 20793, 21800, 21831, 22013, 22063, 22510, 22709, 22777, 22817, 22941, 22983, 23345, 23855, 23858, 23911, 23954, 24086, 24126, 24289, 24507, 24593, 24781, 24785, 24831, 24831, 24891, 24900, 24945, 24993, 24996, 25062, 25099, 25339, 25551, 25574, 25732, 25814, 26034, 26164, 26167, 26298, 26339, 26357, 26752, 26941, 26982, 27131, 27212, 27416, 27428, 27544, 27567, 27604, 27898, 28038, 28138, 28258, 28447, 28708, 29999, 30230, 30286, 30742, 30927, 31235], \"xaxis\": \"x\", \"y\": [30066.657679362354, 30109.519055557415, 30694.670017524775, 31320.197638226608, 31339.454198546126, 31452.508843002666, 31483.567811259956, 31761.234987480137, 31884.84968114415, 31927.089877974067, 31951.9370525799, 32028.96329385798, 32055.052827194104, 32279.91975737689, 32596.721233601253, 32598.58477169669, 32631.50727804942, 32658.217990750687, 32740.213666949938, 32765.06084155577, 32866.313078074534, 33001.73017967632, 33055.15160507886, 33171.93332572628, 33174.41804318686, 33202.99229398357, 33202.99229398357, 33240.26305589231, 33245.85367017863, 33273.80674161019, 33303.62335113719, 33305.48688923263, 33346.48472733225, 33369.46836384264, 33518.551411477645, 33650.24143688855, 33664.528562286905, 33762.674901979946, 33813.6116099219, 33950.27107025398, 34031.02438772294, 34032.88792581837, 34114.26242265248, 34139.73077662345, 34150.91200519608, 34396.27785442867, 34513.68075444123, 34539.14910841221, 34631.704833818934, 34682.02036239575, 34808.74095288549, 34816.195105267245, 34888.25191162416, 34902.539037022514, 34925.522673532905, 35108.14940688577, 35195.11451800619, 35257.232454520774, 35331.77397833827, 35449.17687835083, 35611.30469265388, 36413.24725305713, 36556.73968640581, 36591.52573085398, 36874.78352136047, 36989.70170391245, 37181.02494837735], \"yaxis\": \"y\"}, {\"hovertemplate\": \"Group =random_adult<br>GMV_adults=%{x}<br>GMV_children=%{y}<extra></extra>\", \"legendgroup\": \"random_adult\", \"marker\": {\"color\": \"#EF553B\", \"symbol\": \"circle\"}, \"mode\": \"markers\", \"name\": \"random_adult\", \"orientation\": \"v\", \"showlegend\": true, \"type\": \"scatter\", \"x\": [26752, 30927, 19782, 24945, 25062, 22983, 23345, 26941, 27567, 23911, 23858, 24891, 21831, 24126, 28708, 26164, 27428, 30742, 24831, 23954, 19851, 22777, 20793, 25574, 24086, 30286, 28038, 27604, 27544, 25099, 26298, 26339, 31235, 24507, 29999, 24993, 24996, 22817, 28447, 26034, 21800, 27212, 23855, 28258, 27416, 24831, 24900, 30230, 24781, 27898, 25551, 26982, 24593, 25339, 28138, 22709, 26167, 25732, 24289, 27131, 22013, 24785, 22063, 22510, 26357, 25814, 22941], \"xaxis\": \"x\", \"y\": [36300, 33411, 33491, 32000, 38225, 31580, 30891, 27946, 31262, 32729, 36607, 34836, 36500, 32726, 33958, 28972, 31513, 34069, 31631, 38128, 37651, 36179, 36073, 42425, 37554, 33519, 35133, 37380, 29446, 35993, 31611, 27307, 33719, 30222, 28825, 29754, 39859, 35821, 33509, 33013, 34052, 35260, 34978, 30839, 33026, 32144, 31273, 33827, 32022, 37533, 32472, 34225, 37919, 41490, 29758, 29983, 34098, 40744, 36680, 29743, 27713, 28034, 33241, 32564, 31830, 33595, 32788], \"yaxis\": \"y\"}, {\"hovertemplate\": \"<b>OLS trendline</b><br>GMV_children = -0.176791 * GMV_adults + 38148.9<br>R<sup>2</sup>=0.018625<br><br>Group =random_adult<br>GMV_adults=%{x}<br>GMV_children=%{y} <b>(trend)</b><extra></extra>\", \"legendgroup\": \"random_adult\", \"marker\": {\"color\": \"#EF553B\", \"symbol\": \"circle\"}, \"mode\": \"lines\", \"name\": \"random_adult\", \"showlegend\": false, \"type\": \"scatter\", \"x\": [19782, 19851, 20793, 21800, 21831, 22013, 22063, 22510, 22709, 22777, 22817, 22941, 22983, 23345, 23855, 23858, 23911, 23954, 24086, 24126, 24289, 24507, 24593, 24781, 24785, 24831, 24831, 24891, 24900, 24945, 24993, 24996, 25062, 25099, 25339, 25551, 25574, 25732, 25814, 26034, 26164, 26167, 26298, 26339, 26357, 26752, 26941, 26982, 27131, 27212, 27416, 27428, 27544, 27567, 27604, 27898, 28038, 28138, 28258, 28447, 28708, 29999, 30230, 30286, 30742, 30927, 31235], \"xaxis\": \"x\", \"y\": [34651.60613846284, 34639.407543838606, 34472.87020853382, 34294.84144351055, 34289.36091549097, 34257.18491227922, 34248.34535095731, 34169.31967273943, 34134.13821867823, 34122.116415280434, 34115.044766222905, 34093.122654144565, 34085.69742263416, 34021.69899866354, 33931.535473180054, 33931.00509950074, 33921.635164499516, 33914.03314176267, 33890.69669987283, 33883.6250508153, 33854.808080905874, 33816.26759354235, 33801.06354806866, 33767.82679749828, 33767.11963259253, 33758.98723617637, 33758.98723617637, 33748.37976259008, 33746.788641552135, 33738.83303636241, 33730.34705749338, 33729.81668381407, 33718.14846286915, 33711.60718749093, 33669.17729314577, 33631.69755314087, 33627.63135493279, 33599.698341155556, 33585.20146058762, 33546.30739077122, 33523.32453133425, 33522.794157654935, 33499.63450699153, 33492.386066707564, 33489.20382463168, 33419.37129018859, 33385.95774839177, 33378.709308107806, 33352.36741536851, 33338.047326027016, 33301.981915833625, 33299.86042111636, 33279.35263884954, 33275.28644064146, 33268.745165263244, 33216.768544690414, 33192.017772989064, 33174.33865034524, 33153.12370317266, 33119.71016137584, 33073.56765127547, 32845.33017794375, 32804.49140463653, 32794.59109595599, 32713.974296700173, 32681.267919809106, 32626.81622206614], \"yaxis\": \"y\"}],                        {\"legend\": {\"title\": {\"text\": \"Group \"}, \"tracegroupgap\": 0}, \"margin\": {\"t\": 60}, \"template\": {\"data\": {\"bar\": [{\"error_x\": {\"color\": \"#2a3f5f\"}, \"error_y\": {\"color\": \"#2a3f5f\"}, \"marker\": {\"line\": {\"color\": \"#E5ECF6\", \"width\": 0.5}}, \"type\": \"bar\"}], \"barpolar\": [{\"marker\": {\"line\": {\"color\": \"#E5ECF6\", \"width\": 0.5}}, \"type\": \"barpolar\"}], \"carpet\": [{\"aaxis\": {\"endlinecolor\": \"#2a3f5f\", \"gridcolor\": \"white\", \"linecolor\": \"white\", \"minorgridcolor\": \"white\", \"startlinecolor\": \"#2a3f5f\"}, \"baxis\": {\"endlinecolor\": \"#2a3f5f\", \"gridcolor\": \"white\", \"linecolor\": \"white\", \"minorgridcolor\": \"white\", \"startlinecolor\": \"#2a3f5f\"}, \"type\": \"carpet\"}], \"choropleth\": [{\"colorbar\": {\"outlinewidth\": 0, \"ticks\": \"\"}, \"type\": \"choropleth\"}], \"contour\": [{\"colorbar\": {\"outlinewidth\": 0, \"ticks\": \"\"}, \"colorscale\": [[0.0, \"#0d0887\"], [0.1111111111111111, \"#46039f\"], [0.2222222222222222, \"#7201a8\"], [0.3333333333333333, \"#9c179e\"], [0.4444444444444444, \"#bd3786\"], [0.5555555555555556, \"#d8576b\"], [0.6666666666666666, \"#ed7953\"], [0.7777777777777778, \"#fb9f3a\"], [0.8888888888888888, \"#fdca26\"], [1.0, \"#f0f921\"]], \"type\": \"contour\"}], \"contourcarpet\": [{\"colorbar\": {\"outlinewidth\": 0, \"ticks\": \"\"}, \"type\": \"contourcarpet\"}], \"heatmap\": [{\"colorbar\": {\"outlinewidth\": 0, \"ticks\": \"\"}, \"colorscale\": [[0.0, \"#0d0887\"], [0.1111111111111111, \"#46039f\"], [0.2222222222222222, \"#7201a8\"], [0.3333333333333333, \"#9c179e\"], [0.4444444444444444, \"#bd3786\"], [0.5555555555555556, \"#d8576b\"], [0.6666666666666666, \"#ed7953\"], [0.7777777777777778, \"#fb9f3a\"], [0.8888888888888888, \"#fdca26\"], [1.0, \"#f0f921\"]], \"type\": \"heatmap\"}], \"heatmapgl\": [{\"colorbar\": {\"outlinewidth\": 0, \"ticks\": \"\"}, \"colorscale\": [[0.0, \"#0d0887\"], [0.1111111111111111, \"#46039f\"], [0.2222222222222222, \"#7201a8\"], [0.3333333333333333, \"#9c179e\"], [0.4444444444444444, \"#bd3786\"], [0.5555555555555556, \"#d8576b\"], [0.6666666666666666, \"#ed7953\"], [0.7777777777777778, \"#fb9f3a\"], [0.8888888888888888, \"#fdca26\"], [1.0, \"#f0f921\"]], \"type\": \"heatmapgl\"}], \"histogram\": [{\"marker\": {\"colorbar\": {\"outlinewidth\": 0, \"ticks\": \"\"}}, \"type\": \"histogram\"}], \"histogram2d\": [{\"colorbar\": {\"outlinewidth\": 0, \"ticks\": \"\"}, \"colorscale\": [[0.0, \"#0d0887\"], [0.1111111111111111, \"#46039f\"], [0.2222222222222222, \"#7201a8\"], [0.3333333333333333, \"#9c179e\"], [0.4444444444444444, \"#bd3786\"], [0.5555555555555556, \"#d8576b\"], [0.6666666666666666, \"#ed7953\"], [0.7777777777777778, \"#fb9f3a\"], [0.8888888888888888, \"#fdca26\"], [1.0, \"#f0f921\"]], \"type\": \"histogram2d\"}], \"histogram2dcontour\": [{\"colorbar\": {\"outlinewidth\": 0, \"ticks\": \"\"}, \"colorscale\": [[0.0, \"#0d0887\"], [0.1111111111111111, \"#46039f\"], [0.2222222222222222, \"#7201a8\"], [0.3333333333333333, \"#9c179e\"], [0.4444444444444444, \"#bd3786\"], [0.5555555555555556, \"#d8576b\"], [0.6666666666666666, \"#ed7953\"], [0.7777777777777778, \"#fb9f3a\"], [0.8888888888888888, \"#fdca26\"], [1.0, \"#f0f921\"]], \"type\": \"histogram2dcontour\"}], \"mesh3d\": [{\"colorbar\": {\"outlinewidth\": 0, \"ticks\": \"\"}, \"type\": \"mesh3d\"}], \"parcoords\": [{\"line\": {\"colorbar\": {\"outlinewidth\": 0, \"ticks\": \"\"}}, \"type\": \"parcoords\"}], \"pie\": [{\"automargin\": true, \"type\": \"pie\"}], \"scatter\": [{\"marker\": {\"colorbar\": {\"outlinewidth\": 0, \"ticks\": \"\"}}, \"type\": \"scatter\"}], \"scatter3d\": [{\"line\": {\"colorbar\": {\"outlinewidth\": 0, \"ticks\": \"\"}}, \"marker\": {\"colorbar\": {\"outlinewidth\": 0, \"ticks\": \"\"}}, \"type\": \"scatter3d\"}], \"scattercarpet\": [{\"marker\": {\"colorbar\": {\"outlinewidth\": 0, \"ticks\": \"\"}}, \"type\": \"scattercarpet\"}], \"scattergeo\": [{\"marker\": {\"colorbar\": {\"outlinewidth\": 0, \"ticks\": \"\"}}, \"type\": \"scattergeo\"}], \"scattergl\": [{\"marker\": {\"colorbar\": {\"outlinewidth\": 0, \"ticks\": \"\"}}, \"type\": \"scattergl\"}], \"scattermapbox\": [{\"marker\": {\"colorbar\": {\"outlinewidth\": 0, \"ticks\": \"\"}}, \"type\": \"scattermapbox\"}], \"scatterpolar\": [{\"marker\": {\"colorbar\": {\"outlinewidth\": 0, \"ticks\": \"\"}}, \"type\": \"scatterpolar\"}], \"scatterpolargl\": [{\"marker\": {\"colorbar\": {\"outlinewidth\": 0, \"ticks\": \"\"}}, \"type\": \"scatterpolargl\"}], \"scatterternary\": [{\"marker\": {\"colorbar\": {\"outlinewidth\": 0, \"ticks\": \"\"}}, \"type\": \"scatterternary\"}], \"surface\": [{\"colorbar\": {\"outlinewidth\": 0, \"ticks\": \"\"}, \"colorscale\": [[0.0, \"#0d0887\"], [0.1111111111111111, \"#46039f\"], [0.2222222222222222, \"#7201a8\"], [0.3333333333333333, \"#9c179e\"], [0.4444444444444444, \"#bd3786\"], [0.5555555555555556, \"#d8576b\"], [0.6666666666666666, \"#ed7953\"], [0.7777777777777778, \"#fb9f3a\"], [0.8888888888888888, \"#fdca26\"], [1.0, \"#f0f921\"]], \"type\": \"surface\"}], \"table\": [{\"cells\": {\"fill\": {\"color\": \"#EBF0F8\"}, \"line\": {\"color\": \"white\"}}, \"header\": {\"fill\": {\"color\": \"#C8D4E3\"}, \"line\": {\"color\": \"white\"}}, \"type\": \"table\"}]}, \"layout\": {\"annotationdefaults\": {\"arrowcolor\": \"#2a3f5f\", \"arrowhead\": 0, \"arrowwidth\": 1}, \"autotypenumbers\": \"strict\", \"coloraxis\": {\"colorbar\": {\"outlinewidth\": 0, \"ticks\": \"\"}}, \"colorscale\": {\"diverging\": [[0, \"#8e0152\"], [0.1, \"#c51b7d\"], [0.2, \"#de77ae\"], [0.3, \"#f1b6da\"], [0.4, \"#fde0ef\"], [0.5, \"#f7f7f7\"], [0.6, \"#e6f5d0\"], [0.7, \"#b8e186\"], [0.8, \"#7fbc41\"], [0.9, \"#4d9221\"], [1, \"#276419\"]], \"sequential\": [[0.0, \"#0d0887\"], [0.1111111111111111, \"#46039f\"], [0.2222222222222222, \"#7201a8\"], [0.3333333333333333, \"#9c179e\"], [0.4444444444444444, \"#bd3786\"], [0.5555555555555556, \"#d8576b\"], [0.6666666666666666, \"#ed7953\"], [0.7777777777777778, \"#fb9f3a\"], [0.8888888888888888, \"#fdca26\"], [1.0, \"#f0f921\"]], \"sequentialminus\": [[0.0, \"#0d0887\"], [0.1111111111111111, \"#46039f\"], [0.2222222222222222, \"#7201a8\"], [0.3333333333333333, \"#9c179e\"], [0.4444444444444444, \"#bd3786\"], [0.5555555555555556, \"#d8576b\"], [0.6666666666666666, \"#ed7953\"], [0.7777777777777778, \"#fb9f3a\"], [0.8888888888888888, \"#fdca26\"], [1.0, \"#f0f921\"]]}, \"colorway\": [\"#636efa\", \"#EF553B\", \"#00cc96\", \"#ab63fa\", \"#FFA15A\", \"#19d3f3\", \"#FF6692\", \"#B6E880\", \"#FF97FF\", \"#FECB52\"], \"font\": {\"color\": \"#2a3f5f\"}, \"geo\": {\"bgcolor\": \"white\", \"lakecolor\": \"white\", \"landcolor\": \"#E5ECF6\", \"showlakes\": true, \"showland\": true, \"subunitcolor\": \"white\"}, \"hoverlabel\": {\"align\": \"left\"}, \"hovermode\": \"closest\", \"mapbox\": {\"style\": \"light\"}, \"paper_bgcolor\": \"white\", \"plot_bgcolor\": \"#E5ECF6\", \"polar\": {\"angularaxis\": {\"gridcolor\": \"white\", \"linecolor\": \"white\", \"ticks\": \"\"}, \"bgcolor\": \"#E5ECF6\", \"radialaxis\": {\"gridcolor\": \"white\", \"linecolor\": \"white\", \"ticks\": \"\"}}, \"scene\": {\"xaxis\": {\"backgroundcolor\": \"#E5ECF6\", \"gridcolor\": \"white\", \"gridwidth\": 2, \"linecolor\": \"white\", \"showbackground\": true, \"ticks\": \"\", \"zerolinecolor\": \"white\"}, \"yaxis\": {\"backgroundcolor\": \"#E5ECF6\", \"gridcolor\": \"white\", \"gridwidth\": 2, \"linecolor\": \"white\", \"showbackground\": true, \"ticks\": \"\", \"zerolinecolor\": \"white\"}, \"zaxis\": {\"backgroundcolor\": \"#E5ECF6\", \"gridcolor\": \"white\", \"gridwidth\": 2, \"linecolor\": \"white\", \"showbackground\": true, \"ticks\": \"\", \"zerolinecolor\": \"white\"}}, \"shapedefaults\": {\"line\": {\"color\": \"#2a3f5f\"}}, \"ternary\": {\"aaxis\": {\"gridcolor\": \"white\", \"linecolor\": \"white\", \"ticks\": \"\"}, \"baxis\": {\"gridcolor\": \"white\", \"linecolor\": \"white\", \"ticks\": \"\"}, \"bgcolor\": \"#E5ECF6\", \"caxis\": {\"gridcolor\": \"white\", \"linecolor\": \"white\", \"ticks\": \"\"}}, \"title\": {\"x\": 0.05}, \"xaxis\": {\"automargin\": true, \"gridcolor\": \"white\", \"linecolor\": \"white\", \"ticks\": \"\", \"title\": {\"standoff\": 15}, \"zerolinecolor\": \"white\", \"zerolinewidth\": 2}, \"yaxis\": {\"automargin\": true, \"gridcolor\": \"white\", \"linecolor\": \"white\", \"ticks\": \"\", \"title\": {\"standoff\": 15}, \"zerolinecolor\": \"white\", \"zerolinewidth\": 2}}}, \"xaxis\": {\"anchor\": \"y\", \"domain\": [0.0, 1.0], \"title\": {\"text\": \"GMV_adults\"}}, \"yaxis\": {\"anchor\": \"x\", \"domain\": [0.0, 1.0], \"title\": {\"text\": \"GMV_children\"}}},                        {\"responsive\": true}                    ).then(function(){\n",
       "                            \n",
       "var gd = document.getElementById('32c84fa1-f1ae-4692-b58a-e0c67e617d6c');\n",
       "var x = new MutationObserver(function (mutations, observer) {{\n",
       "        var display = window.getComputedStyle(gd).display;\n",
       "        if (!display || display === 'none') {{\n",
       "            console.log([gd, 'removed!']);\n",
       "            Plotly.purge(gd);\n",
       "            observer.disconnect();\n",
       "        }}\n",
       "}});\n",
       "\n",
       "// Listen for the removal of the full notebook cells\n",
       "var notebookContainer = gd.closest('#notebook-container');\n",
       "if (notebookContainer) {{\n",
       "    x.observe(notebookContainer, {childList: true});\n",
       "}}\n",
       "\n",
       "// Listen for the clearing of the current output cell\n",
       "var outputEl = gd.closest('.output');\n",
       "if (outputEl) {{\n",
       "    x.observe(outputEl, {childList: true});\n",
       "}}\n",
       "\n",
       "                        })                };                });            </script>        </div>"
      ]
     },
     "metadata": {},
     "output_type": "display_data"
    }
   ],
   "source": [
    "#seeing whether there is a difference in association between mothers or randomly assigned mother\n",
    "fig = px.scatter(df, x=\"GMV_adults\", y=\"GMV_children\",color=\"Group \",trendline=\"ols\")\n",
    "fig.show()\n"
   ]
  },
  {
   "cell_type": "code",
   "execution_count": 18,
   "id": "75886c2f",
   "metadata": {},
   "outputs": [
    {
     "data": {
      "application/vnd.plotly.v1+json": {
       "config": {
        "plotlyServerURL": "https://plot.ly"
       },
       "data": [
        {
         "hovertemplate": "Matched with=own_mother<br>Gray matter volume in adults (mm<sup>3</sup>)=%{x}<br>Gray matter volume in children (mm<sup>3</sup>)=%{y}<extra></extra>",
         "legendgroup": "own_mother",
         "marker": {
          "color": "#C94277",
          "symbol": "circle"
         },
         "mode": "markers",
         "name": "own_mother",
         "orientation": "v",
         "showlegend": true,
         "type": "scatter",
         "x": [
          27544,
          25574,
          26752,
          23911,
          30927,
          26339,
          22983,
          21831,
          23345,
          24945,
          22777,
          26298,
          26164,
          19851,
          27428,
          20793,
          24507,
          31235,
          27604,
          26941,
          28038,
          30286,
          27567,
          30742,
          19782,
          23858,
          24831,
          23954,
          25062,
          28708,
          24126,
          24891,
          25099,
          24086,
          26034,
          26357,
          27212,
          24781,
          27898,
          24996,
          25551,
          28447,
          22817,
          23855,
          24993,
          24593,
          24289,
          22941,
          24900,
          26167,
          25339,
          24785,
          28138,
          25814,
          26982,
          22013,
          22709,
          30230,
          27416,
          21800,
          22510,
          22063,
          25732,
          28258,
          27131,
          24831,
          29999
         ],
         "xaxis": "x",
         "y": [
          36300,
          33411,
          33491,
          32000,
          38225,
          31580,
          30891,
          27946,
          31262,
          32729,
          36607,
          34836,
          36500,
          32726,
          33958,
          28972,
          31513,
          34069,
          31631,
          38128,
          37651,
          36179,
          36073,
          42425,
          37554,
          33519,
          35133,
          37380,
          29446,
          35993,
          31611,
          27307,
          33719,
          30222,
          28825,
          29754,
          39859,
          35821,
          33509,
          33013,
          34052,
          35260,
          34978,
          30839,
          33026,
          32144,
          31273,
          33827,
          32022,
          37533,
          32472,
          34225,
          37919,
          41490,
          29758,
          29983,
          34098,
          40744,
          36680,
          29743,
          27713,
          28034,
          33241,
          32564,
          31830,
          33595,
          32788
         ],
         "yaxis": "y"
        },
        {
         "hovertemplate": "<b>OLS trendline</b><br>GMV_children = 0.621179 * GMV_adults + 17778.5<br>R<sup>2</sup>=0.229933<br><br>Matched with=own_mother<br>Gray matter volume in adults (mm<sup>3</sup>)=%{x}<br>Gray matter volume in children (mm<sup>3</sup>)=%{y} <b>(trend)</b><extra></extra>",
         "legendgroup": "own_mother",
         "marker": {
          "color": "#C94277",
          "symbol": "circle"
         },
         "mode": "lines",
         "name": "own_mother",
         "showlegend": false,
         "type": "scatter",
         "x": [
          19782,
          19851,
          20793,
          21800,
          21831,
          22013,
          22063,
          22510,
          22709,
          22777,
          22817,
          22941,
          22983,
          23345,
          23855,
          23858,
          23911,
          23954,
          24086,
          24126,
          24289,
          24507,
          24593,
          24781,
          24785,
          24831,
          24831,
          24891,
          24900,
          24945,
          24993,
          24996,
          25062,
          25099,
          25339,
          25551,
          25574,
          25732,
          25814,
          26034,
          26164,
          26167,
          26298,
          26339,
          26357,
          26752,
          26941,
          26982,
          27131,
          27212,
          27416,
          27428,
          27544,
          27567,
          27604,
          27898,
          28038,
          28138,
          28258,
          28447,
          28708,
          29999,
          30230,
          30286,
          30742,
          30927,
          31235
         ],
         "xaxis": "x",
         "y": [
          30066.657679362354,
          30109.519055557415,
          30694.670017524775,
          31320.197638226608,
          31339.454198546126,
          31452.508843002666,
          31483.567811259956,
          31761.234987480137,
          31884.84968114415,
          31927.089877974067,
          31951.9370525799,
          32028.96329385798,
          32055.052827194104,
          32279.91975737689,
          32596.721233601253,
          32598.58477169669,
          32631.50727804942,
          32658.217990750687,
          32740.213666949938,
          32765.06084155577,
          32866.313078074534,
          33001.73017967632,
          33055.15160507886,
          33171.93332572628,
          33174.41804318686,
          33202.99229398357,
          33202.99229398357,
          33240.26305589231,
          33245.85367017863,
          33273.80674161019,
          33303.62335113719,
          33305.48688923263,
          33346.48472733225,
          33369.46836384264,
          33518.551411477645,
          33650.24143688855,
          33664.528562286905,
          33762.674901979946,
          33813.6116099219,
          33950.27107025398,
          34031.02438772294,
          34032.88792581837,
          34114.26242265248,
          34139.73077662345,
          34150.91200519608,
          34396.27785442867,
          34513.68075444123,
          34539.14910841221,
          34631.704833818934,
          34682.02036239575,
          34808.74095288549,
          34816.195105267245,
          34888.25191162416,
          34902.539037022514,
          34925.522673532905,
          35108.14940688577,
          35195.11451800619,
          35257.232454520774,
          35331.77397833827,
          35449.17687835083,
          35611.30469265388,
          36413.24725305713,
          36556.73968640581,
          36591.52573085398,
          36874.78352136047,
          36989.70170391245,
          37181.02494837735
         ],
         "yaxis": "y"
        },
        {
         "hovertemplate": "Matched with=random_adult<br>Gray matter volume in adults (mm<sup>3</sup>)=%{x}<br>Gray matter volume in children (mm<sup>3</sup>)=%{y}<extra></extra>",
         "legendgroup": "random_adult",
         "marker": {
          "color": "#545F78",
          "symbol": "circle"
         },
         "mode": "markers",
         "name": "random_adult",
         "orientation": "v",
         "showlegend": true,
         "type": "scatter",
         "x": [
          26752,
          30927,
          19782,
          24945,
          25062,
          22983,
          23345,
          26941,
          27567,
          23911,
          23858,
          24891,
          21831,
          24126,
          28708,
          26164,
          27428,
          30742,
          24831,
          23954,
          19851,
          22777,
          20793,
          25574,
          24086,
          30286,
          28038,
          27604,
          27544,
          25099,
          26298,
          26339,
          31235,
          24507,
          29999,
          24993,
          24996,
          22817,
          28447,
          26034,
          21800,
          27212,
          23855,
          28258,
          27416,
          24831,
          24900,
          30230,
          24781,
          27898,
          25551,
          26982,
          24593,
          25339,
          28138,
          22709,
          26167,
          25732,
          24289,
          27131,
          22013,
          24785,
          22063,
          22510,
          26357,
          25814,
          22941
         ],
         "xaxis": "x",
         "y": [
          36300,
          33411,
          33491,
          32000,
          38225,
          31580,
          30891,
          27946,
          31262,
          32729,
          36607,
          34836,
          36500,
          32726,
          33958,
          28972,
          31513,
          34069,
          31631,
          38128,
          37651,
          36179,
          36073,
          42425,
          37554,
          33519,
          35133,
          37380,
          29446,
          35993,
          31611,
          27307,
          33719,
          30222,
          28825,
          29754,
          39859,
          35821,
          33509,
          33013,
          34052,
          35260,
          34978,
          30839,
          33026,
          32144,
          31273,
          33827,
          32022,
          37533,
          32472,
          34225,
          37919,
          41490,
          29758,
          29983,
          34098,
          40744,
          36680,
          29743,
          27713,
          28034,
          33241,
          32564,
          31830,
          33595,
          32788
         ],
         "yaxis": "y"
        },
        {
         "hovertemplate": "<b>OLS trendline</b><br>GMV_children = -0.176791 * GMV_adults + 38148.9<br>R<sup>2</sup>=0.018625<br><br>Matched with=random_adult<br>Gray matter volume in adults (mm<sup>3</sup>)=%{x}<br>Gray matter volume in children (mm<sup>3</sup>)=%{y} <b>(trend)</b><extra></extra>",
         "legendgroup": "random_adult",
         "marker": {
          "color": "#545F78",
          "symbol": "circle"
         },
         "mode": "lines",
         "name": "random_adult",
         "showlegend": false,
         "type": "scatter",
         "x": [
          19782,
          19851,
          20793,
          21800,
          21831,
          22013,
          22063,
          22510,
          22709,
          22777,
          22817,
          22941,
          22983,
          23345,
          23855,
          23858,
          23911,
          23954,
          24086,
          24126,
          24289,
          24507,
          24593,
          24781,
          24785,
          24831,
          24831,
          24891,
          24900,
          24945,
          24993,
          24996,
          25062,
          25099,
          25339,
          25551,
          25574,
          25732,
          25814,
          26034,
          26164,
          26167,
          26298,
          26339,
          26357,
          26752,
          26941,
          26982,
          27131,
          27212,
          27416,
          27428,
          27544,
          27567,
          27604,
          27898,
          28038,
          28138,
          28258,
          28447,
          28708,
          29999,
          30230,
          30286,
          30742,
          30927,
          31235
         ],
         "xaxis": "x",
         "y": [
          34651.60613846284,
          34639.407543838606,
          34472.87020853382,
          34294.84144351055,
          34289.36091549097,
          34257.18491227922,
          34248.34535095731,
          34169.31967273943,
          34134.13821867823,
          34122.116415280434,
          34115.044766222905,
          34093.122654144565,
          34085.69742263416,
          34021.69899866354,
          33931.535473180054,
          33931.00509950074,
          33921.635164499516,
          33914.03314176267,
          33890.69669987283,
          33883.6250508153,
          33854.808080905874,
          33816.26759354235,
          33801.06354806866,
          33767.82679749828,
          33767.11963259253,
          33758.98723617637,
          33758.98723617637,
          33748.37976259008,
          33746.788641552135,
          33738.83303636241,
          33730.34705749338,
          33729.81668381407,
          33718.14846286915,
          33711.60718749093,
          33669.17729314577,
          33631.69755314087,
          33627.63135493279,
          33599.698341155556,
          33585.20146058762,
          33546.30739077122,
          33523.32453133425,
          33522.794157654935,
          33499.63450699153,
          33492.386066707564,
          33489.20382463168,
          33419.37129018859,
          33385.95774839177,
          33378.709308107806,
          33352.36741536851,
          33338.047326027016,
          33301.981915833625,
          33299.86042111636,
          33279.35263884954,
          33275.28644064146,
          33268.745165263244,
          33216.768544690414,
          33192.017772989064,
          33174.33865034524,
          33153.12370317266,
          33119.71016137584,
          33073.56765127547,
          32845.33017794375,
          32804.49140463653,
          32794.59109595599,
          32713.974296700173,
          32681.267919809106,
          32626.81622206614
         ],
         "yaxis": "y"
        }
       ],
       "layout": {
        "font": {
         "family": "Times New Roman"
        },
        "legend": {
         "title": {
          "text": "Matched with"
         },
         "tracegroupgap": 0
        },
        "margin": {
         "t": 60
        },
        "template": {
         "data": {
          "bar": [
           {
            "error_x": {
             "color": "rgb(36,36,36)"
            },
            "error_y": {
             "color": "rgb(36,36,36)"
            },
            "marker": {
             "line": {
              "color": "white",
              "width": 0.5
             }
            },
            "type": "bar"
           }
          ],
          "barpolar": [
           {
            "marker": {
             "line": {
              "color": "white",
              "width": 0.5
             }
            },
            "type": "barpolar"
           }
          ],
          "carpet": [
           {
            "aaxis": {
             "endlinecolor": "rgb(36,36,36)",
             "gridcolor": "white",
             "linecolor": "white",
             "minorgridcolor": "white",
             "startlinecolor": "rgb(36,36,36)"
            },
            "baxis": {
             "endlinecolor": "rgb(36,36,36)",
             "gridcolor": "white",
             "linecolor": "white",
             "minorgridcolor": "white",
             "startlinecolor": "rgb(36,36,36)"
            },
            "type": "carpet"
           }
          ],
          "choropleth": [
           {
            "colorbar": {
             "outlinewidth": 1,
             "tickcolor": "rgb(36,36,36)",
             "ticks": "outside"
            },
            "type": "choropleth"
           }
          ],
          "contour": [
           {
            "colorbar": {
             "outlinewidth": 1,
             "tickcolor": "rgb(36,36,36)",
             "ticks": "outside"
            },
            "colorscale": [
             [
              0,
              "#440154"
             ],
             [
              0.1111111111111111,
              "#482878"
             ],
             [
              0.2222222222222222,
              "#3e4989"
             ],
             [
              0.3333333333333333,
              "#31688e"
             ],
             [
              0.4444444444444444,
              "#26828e"
             ],
             [
              0.5555555555555556,
              "#1f9e89"
             ],
             [
              0.6666666666666666,
              "#35b779"
             ],
             [
              0.7777777777777778,
              "#6ece58"
             ],
             [
              0.8888888888888888,
              "#b5de2b"
             ],
             [
              1,
              "#fde725"
             ]
            ],
            "type": "contour"
           }
          ],
          "contourcarpet": [
           {
            "colorbar": {
             "outlinewidth": 1,
             "tickcolor": "rgb(36,36,36)",
             "ticks": "outside"
            },
            "type": "contourcarpet"
           }
          ],
          "heatmap": [
           {
            "colorbar": {
             "outlinewidth": 1,
             "tickcolor": "rgb(36,36,36)",
             "ticks": "outside"
            },
            "colorscale": [
             [
              0,
              "#440154"
             ],
             [
              0.1111111111111111,
              "#482878"
             ],
             [
              0.2222222222222222,
              "#3e4989"
             ],
             [
              0.3333333333333333,
              "#31688e"
             ],
             [
              0.4444444444444444,
              "#26828e"
             ],
             [
              0.5555555555555556,
              "#1f9e89"
             ],
             [
              0.6666666666666666,
              "#35b779"
             ],
             [
              0.7777777777777778,
              "#6ece58"
             ],
             [
              0.8888888888888888,
              "#b5de2b"
             ],
             [
              1,
              "#fde725"
             ]
            ],
            "type": "heatmap"
           }
          ],
          "heatmapgl": [
           {
            "colorbar": {
             "outlinewidth": 1,
             "tickcolor": "rgb(36,36,36)",
             "ticks": "outside"
            },
            "colorscale": [
             [
              0,
              "#440154"
             ],
             [
              0.1111111111111111,
              "#482878"
             ],
             [
              0.2222222222222222,
              "#3e4989"
             ],
             [
              0.3333333333333333,
              "#31688e"
             ],
             [
              0.4444444444444444,
              "#26828e"
             ],
             [
              0.5555555555555556,
              "#1f9e89"
             ],
             [
              0.6666666666666666,
              "#35b779"
             ],
             [
              0.7777777777777778,
              "#6ece58"
             ],
             [
              0.8888888888888888,
              "#b5de2b"
             ],
             [
              1,
              "#fde725"
             ]
            ],
            "type": "heatmapgl"
           }
          ],
          "histogram": [
           {
            "marker": {
             "line": {
              "color": "white",
              "width": 0.6
             }
            },
            "type": "histogram"
           }
          ],
          "histogram2d": [
           {
            "colorbar": {
             "outlinewidth": 1,
             "tickcolor": "rgb(36,36,36)",
             "ticks": "outside"
            },
            "colorscale": [
             [
              0,
              "#440154"
             ],
             [
              0.1111111111111111,
              "#482878"
             ],
             [
              0.2222222222222222,
              "#3e4989"
             ],
             [
              0.3333333333333333,
              "#31688e"
             ],
             [
              0.4444444444444444,
              "#26828e"
             ],
             [
              0.5555555555555556,
              "#1f9e89"
             ],
             [
              0.6666666666666666,
              "#35b779"
             ],
             [
              0.7777777777777778,
              "#6ece58"
             ],
             [
              0.8888888888888888,
              "#b5de2b"
             ],
             [
              1,
              "#fde725"
             ]
            ],
            "type": "histogram2d"
           }
          ],
          "histogram2dcontour": [
           {
            "colorbar": {
             "outlinewidth": 1,
             "tickcolor": "rgb(36,36,36)",
             "ticks": "outside"
            },
            "colorscale": [
             [
              0,
              "#440154"
             ],
             [
              0.1111111111111111,
              "#482878"
             ],
             [
              0.2222222222222222,
              "#3e4989"
             ],
             [
              0.3333333333333333,
              "#31688e"
             ],
             [
              0.4444444444444444,
              "#26828e"
             ],
             [
              0.5555555555555556,
              "#1f9e89"
             ],
             [
              0.6666666666666666,
              "#35b779"
             ],
             [
              0.7777777777777778,
              "#6ece58"
             ],
             [
              0.8888888888888888,
              "#b5de2b"
             ],
             [
              1,
              "#fde725"
             ]
            ],
            "type": "histogram2dcontour"
           }
          ],
          "mesh3d": [
           {
            "colorbar": {
             "outlinewidth": 1,
             "tickcolor": "rgb(36,36,36)",
             "ticks": "outside"
            },
            "type": "mesh3d"
           }
          ],
          "parcoords": [
           {
            "line": {
             "colorbar": {
              "outlinewidth": 1,
              "tickcolor": "rgb(36,36,36)",
              "ticks": "outside"
             }
            },
            "type": "parcoords"
           }
          ],
          "pie": [
           {
            "automargin": true,
            "type": "pie"
           }
          ],
          "scatter": [
           {
            "marker": {
             "colorbar": {
              "outlinewidth": 1,
              "tickcolor": "rgb(36,36,36)",
              "ticks": "outside"
             }
            },
            "type": "scatter"
           }
          ],
          "scatter3d": [
           {
            "line": {
             "colorbar": {
              "outlinewidth": 1,
              "tickcolor": "rgb(36,36,36)",
              "ticks": "outside"
             }
            },
            "marker": {
             "colorbar": {
              "outlinewidth": 1,
              "tickcolor": "rgb(36,36,36)",
              "ticks": "outside"
             }
            },
            "type": "scatter3d"
           }
          ],
          "scattercarpet": [
           {
            "marker": {
             "colorbar": {
              "outlinewidth": 1,
              "tickcolor": "rgb(36,36,36)",
              "ticks": "outside"
             }
            },
            "type": "scattercarpet"
           }
          ],
          "scattergeo": [
           {
            "marker": {
             "colorbar": {
              "outlinewidth": 1,
              "tickcolor": "rgb(36,36,36)",
              "ticks": "outside"
             }
            },
            "type": "scattergeo"
           }
          ],
          "scattergl": [
           {
            "marker": {
             "colorbar": {
              "outlinewidth": 1,
              "tickcolor": "rgb(36,36,36)",
              "ticks": "outside"
             }
            },
            "type": "scattergl"
           }
          ],
          "scattermapbox": [
           {
            "marker": {
             "colorbar": {
              "outlinewidth": 1,
              "tickcolor": "rgb(36,36,36)",
              "ticks": "outside"
             }
            },
            "type": "scattermapbox"
           }
          ],
          "scatterpolar": [
           {
            "marker": {
             "colorbar": {
              "outlinewidth": 1,
              "tickcolor": "rgb(36,36,36)",
              "ticks": "outside"
             }
            },
            "type": "scatterpolar"
           }
          ],
          "scatterpolargl": [
           {
            "marker": {
             "colorbar": {
              "outlinewidth": 1,
              "tickcolor": "rgb(36,36,36)",
              "ticks": "outside"
             }
            },
            "type": "scatterpolargl"
           }
          ],
          "scatterternary": [
           {
            "marker": {
             "colorbar": {
              "outlinewidth": 1,
              "tickcolor": "rgb(36,36,36)",
              "ticks": "outside"
             }
            },
            "type": "scatterternary"
           }
          ],
          "surface": [
           {
            "colorbar": {
             "outlinewidth": 1,
             "tickcolor": "rgb(36,36,36)",
             "ticks": "outside"
            },
            "colorscale": [
             [
              0,
              "#440154"
             ],
             [
              0.1111111111111111,
              "#482878"
             ],
             [
              0.2222222222222222,
              "#3e4989"
             ],
             [
              0.3333333333333333,
              "#31688e"
             ],
             [
              0.4444444444444444,
              "#26828e"
             ],
             [
              0.5555555555555556,
              "#1f9e89"
             ],
             [
              0.6666666666666666,
              "#35b779"
             ],
             [
              0.7777777777777778,
              "#6ece58"
             ],
             [
              0.8888888888888888,
              "#b5de2b"
             ],
             [
              1,
              "#fde725"
             ]
            ],
            "type": "surface"
           }
          ],
          "table": [
           {
            "cells": {
             "fill": {
              "color": "rgb(237,237,237)"
             },
             "line": {
              "color": "white"
             }
            },
            "header": {
             "fill": {
              "color": "rgb(217,217,217)"
             },
             "line": {
              "color": "white"
             }
            },
            "type": "table"
           }
          ]
         },
         "layout": {
          "annotationdefaults": {
           "arrowhead": 0,
           "arrowwidth": 1
          },
          "autotypenumbers": "strict",
          "coloraxis": {
           "colorbar": {
            "outlinewidth": 1,
            "tickcolor": "rgb(36,36,36)",
            "ticks": "outside"
           }
          },
          "colorscale": {
           "diverging": [
            [
             0,
             "rgb(103,0,31)"
            ],
            [
             0.1,
             "rgb(178,24,43)"
            ],
            [
             0.2,
             "rgb(214,96,77)"
            ],
            [
             0.3,
             "rgb(244,165,130)"
            ],
            [
             0.4,
             "rgb(253,219,199)"
            ],
            [
             0.5,
             "rgb(247,247,247)"
            ],
            [
             0.6,
             "rgb(209,229,240)"
            ],
            [
             0.7,
             "rgb(146,197,222)"
            ],
            [
             0.8,
             "rgb(67,147,195)"
            ],
            [
             0.9,
             "rgb(33,102,172)"
            ],
            [
             1,
             "rgb(5,48,97)"
            ]
           ],
           "sequential": [
            [
             0,
             "#440154"
            ],
            [
             0.1111111111111111,
             "#482878"
            ],
            [
             0.2222222222222222,
             "#3e4989"
            ],
            [
             0.3333333333333333,
             "#31688e"
            ],
            [
             0.4444444444444444,
             "#26828e"
            ],
            [
             0.5555555555555556,
             "#1f9e89"
            ],
            [
             0.6666666666666666,
             "#35b779"
            ],
            [
             0.7777777777777778,
             "#6ece58"
            ],
            [
             0.8888888888888888,
             "#b5de2b"
            ],
            [
             1,
             "#fde725"
            ]
           ],
           "sequentialminus": [
            [
             0,
             "#440154"
            ],
            [
             0.1111111111111111,
             "#482878"
            ],
            [
             0.2222222222222222,
             "#3e4989"
            ],
            [
             0.3333333333333333,
             "#31688e"
            ],
            [
             0.4444444444444444,
             "#26828e"
            ],
            [
             0.5555555555555556,
             "#1f9e89"
            ],
            [
             0.6666666666666666,
             "#35b779"
            ],
            [
             0.7777777777777778,
             "#6ece58"
            ],
            [
             0.8888888888888888,
             "#b5de2b"
            ],
            [
             1,
             "#fde725"
            ]
           ]
          },
          "colorway": [
           "#1F77B4",
           "#FF7F0E",
           "#2CA02C",
           "#D62728",
           "#9467BD",
           "#8C564B",
           "#E377C2",
           "#7F7F7F",
           "#BCBD22",
           "#17BECF"
          ],
          "font": {
           "color": "rgb(36,36,36)"
          },
          "geo": {
           "bgcolor": "white",
           "lakecolor": "white",
           "landcolor": "white",
           "showlakes": true,
           "showland": true,
           "subunitcolor": "white"
          },
          "hoverlabel": {
           "align": "left"
          },
          "hovermode": "closest",
          "mapbox": {
           "style": "light"
          },
          "paper_bgcolor": "white",
          "plot_bgcolor": "white",
          "polar": {
           "angularaxis": {
            "gridcolor": "rgb(232,232,232)",
            "linecolor": "rgb(36,36,36)",
            "showgrid": false,
            "showline": true,
            "ticks": "outside"
           },
           "bgcolor": "white",
           "radialaxis": {
            "gridcolor": "rgb(232,232,232)",
            "linecolor": "rgb(36,36,36)",
            "showgrid": false,
            "showline": true,
            "ticks": "outside"
           }
          },
          "scene": {
           "xaxis": {
            "backgroundcolor": "white",
            "gridcolor": "rgb(232,232,232)",
            "gridwidth": 2,
            "linecolor": "rgb(36,36,36)",
            "showbackground": true,
            "showgrid": false,
            "showline": true,
            "ticks": "outside",
            "zeroline": false,
            "zerolinecolor": "rgb(36,36,36)"
           },
           "yaxis": {
            "backgroundcolor": "white",
            "gridcolor": "rgb(232,232,232)",
            "gridwidth": 2,
            "linecolor": "rgb(36,36,36)",
            "showbackground": true,
            "showgrid": false,
            "showline": true,
            "ticks": "outside",
            "zeroline": false,
            "zerolinecolor": "rgb(36,36,36)"
           },
           "zaxis": {
            "backgroundcolor": "white",
            "gridcolor": "rgb(232,232,232)",
            "gridwidth": 2,
            "linecolor": "rgb(36,36,36)",
            "showbackground": true,
            "showgrid": false,
            "showline": true,
            "ticks": "outside",
            "zeroline": false,
            "zerolinecolor": "rgb(36,36,36)"
           }
          },
          "shapedefaults": {
           "fillcolor": "black",
           "line": {
            "width": 0
           },
           "opacity": 0.3
          },
          "ternary": {
           "aaxis": {
            "gridcolor": "rgb(232,232,232)",
            "linecolor": "rgb(36,36,36)",
            "showgrid": false,
            "showline": true,
            "ticks": "outside"
           },
           "baxis": {
            "gridcolor": "rgb(232,232,232)",
            "linecolor": "rgb(36,36,36)",
            "showgrid": false,
            "showline": true,
            "ticks": "outside"
           },
           "bgcolor": "white",
           "caxis": {
            "gridcolor": "rgb(232,232,232)",
            "linecolor": "rgb(36,36,36)",
            "showgrid": false,
            "showline": true,
            "ticks": "outside"
           }
          },
          "title": {
           "x": 0.05
          },
          "xaxis": {
           "automargin": true,
           "gridcolor": "rgb(232,232,232)",
           "linecolor": "rgb(36,36,36)",
           "showgrid": false,
           "showline": true,
           "ticks": "outside",
           "title": {
            "standoff": 15
           },
           "zeroline": false,
           "zerolinecolor": "rgb(36,36,36)"
          },
          "yaxis": {
           "automargin": true,
           "gridcolor": "rgb(232,232,232)",
           "linecolor": "rgb(36,36,36)",
           "showgrid": false,
           "showline": true,
           "ticks": "outside",
           "title": {
            "standoff": 15
           },
           "zeroline": false,
           "zerolinecolor": "rgb(36,36,36)"
          }
         }
        },
        "title": {
         "text": "Association of gray matter volume in reading network <br> in child-mother and child-random adult pairs",
         "x": 0.45,
         "xanchor": "center",
         "y": 0.93,
         "yanchor": "top"
        },
        "xaxis": {
         "anchor": "y",
         "domain": [
          0,
          1
         ],
         "title": {
          "text": "Gray matter volume in adults (mm<sup>3</sup>)"
         }
        },
        "yaxis": {
         "anchor": "x",
         "domain": [
          0,
          1
         ],
         "title": {
          "text": "Gray matter volume in children (mm<sup>3</sup>)"
         }
        }
       }
      },
      "text/html": [
       "<div>                            <div id=\"98ac53cd-14b5-46c1-83e3-a61deea75028\" class=\"plotly-graph-div\" style=\"height:525px; width:100%;\"></div>            <script type=\"text/javascript\">                require([\"plotly\"], function(Plotly) {                    window.PLOTLYENV=window.PLOTLYENV || {};                                    if (document.getElementById(\"98ac53cd-14b5-46c1-83e3-a61deea75028\")) {                    Plotly.newPlot(                        \"98ac53cd-14b5-46c1-83e3-a61deea75028\",                        [{\"hovertemplate\": \"Matched with=own_mother<br>Gray matter volume in adults (mm<sup>3</sup>)=%{x}<br>Gray matter volume in children (mm<sup>3</sup>)=%{y}<extra></extra>\", \"legendgroup\": \"own_mother\", \"marker\": {\"color\": \"#C94277\", \"symbol\": \"circle\"}, \"mode\": \"markers\", \"name\": \"own_mother\", \"orientation\": \"v\", \"showlegend\": true, \"type\": \"scatter\", \"x\": [27544, 25574, 26752, 23911, 30927, 26339, 22983, 21831, 23345, 24945, 22777, 26298, 26164, 19851, 27428, 20793, 24507, 31235, 27604, 26941, 28038, 30286, 27567, 30742, 19782, 23858, 24831, 23954, 25062, 28708, 24126, 24891, 25099, 24086, 26034, 26357, 27212, 24781, 27898, 24996, 25551, 28447, 22817, 23855, 24993, 24593, 24289, 22941, 24900, 26167, 25339, 24785, 28138, 25814, 26982, 22013, 22709, 30230, 27416, 21800, 22510, 22063, 25732, 28258, 27131, 24831, 29999], \"xaxis\": \"x\", \"y\": [36300, 33411, 33491, 32000, 38225, 31580, 30891, 27946, 31262, 32729, 36607, 34836, 36500, 32726, 33958, 28972, 31513, 34069, 31631, 38128, 37651, 36179, 36073, 42425, 37554, 33519, 35133, 37380, 29446, 35993, 31611, 27307, 33719, 30222, 28825, 29754, 39859, 35821, 33509, 33013, 34052, 35260, 34978, 30839, 33026, 32144, 31273, 33827, 32022, 37533, 32472, 34225, 37919, 41490, 29758, 29983, 34098, 40744, 36680, 29743, 27713, 28034, 33241, 32564, 31830, 33595, 32788], \"yaxis\": \"y\"}, {\"hovertemplate\": \"<b>OLS trendline</b><br>GMV_children = 0.621179 * GMV_adults + 17778.5<br>R<sup>2</sup>=0.229933<br><br>Matched with=own_mother<br>Gray matter volume in adults (mm<sup>3</sup>)=%{x}<br>Gray matter volume in children (mm<sup>3</sup>)=%{y} <b>(trend)</b><extra></extra>\", \"legendgroup\": \"own_mother\", \"marker\": {\"color\": \"#C94277\", \"symbol\": \"circle\"}, \"mode\": \"lines\", \"name\": \"own_mother\", \"showlegend\": false, \"type\": \"scatter\", \"x\": [19782, 19851, 20793, 21800, 21831, 22013, 22063, 22510, 22709, 22777, 22817, 22941, 22983, 23345, 23855, 23858, 23911, 23954, 24086, 24126, 24289, 24507, 24593, 24781, 24785, 24831, 24831, 24891, 24900, 24945, 24993, 24996, 25062, 25099, 25339, 25551, 25574, 25732, 25814, 26034, 26164, 26167, 26298, 26339, 26357, 26752, 26941, 26982, 27131, 27212, 27416, 27428, 27544, 27567, 27604, 27898, 28038, 28138, 28258, 28447, 28708, 29999, 30230, 30286, 30742, 30927, 31235], \"xaxis\": \"x\", \"y\": [30066.657679362354, 30109.519055557415, 30694.670017524775, 31320.197638226608, 31339.454198546126, 31452.508843002666, 31483.567811259956, 31761.234987480137, 31884.84968114415, 31927.089877974067, 31951.9370525799, 32028.96329385798, 32055.052827194104, 32279.91975737689, 32596.721233601253, 32598.58477169669, 32631.50727804942, 32658.217990750687, 32740.213666949938, 32765.06084155577, 32866.313078074534, 33001.73017967632, 33055.15160507886, 33171.93332572628, 33174.41804318686, 33202.99229398357, 33202.99229398357, 33240.26305589231, 33245.85367017863, 33273.80674161019, 33303.62335113719, 33305.48688923263, 33346.48472733225, 33369.46836384264, 33518.551411477645, 33650.24143688855, 33664.528562286905, 33762.674901979946, 33813.6116099219, 33950.27107025398, 34031.02438772294, 34032.88792581837, 34114.26242265248, 34139.73077662345, 34150.91200519608, 34396.27785442867, 34513.68075444123, 34539.14910841221, 34631.704833818934, 34682.02036239575, 34808.74095288549, 34816.195105267245, 34888.25191162416, 34902.539037022514, 34925.522673532905, 35108.14940688577, 35195.11451800619, 35257.232454520774, 35331.77397833827, 35449.17687835083, 35611.30469265388, 36413.24725305713, 36556.73968640581, 36591.52573085398, 36874.78352136047, 36989.70170391245, 37181.02494837735], \"yaxis\": \"y\"}, {\"hovertemplate\": \"Matched with=random_adult<br>Gray matter volume in adults (mm<sup>3</sup>)=%{x}<br>Gray matter volume in children (mm<sup>3</sup>)=%{y}<extra></extra>\", \"legendgroup\": \"random_adult\", \"marker\": {\"color\": \"#545F78\", \"symbol\": \"circle\"}, \"mode\": \"markers\", \"name\": \"random_adult\", \"orientation\": \"v\", \"showlegend\": true, \"type\": \"scatter\", \"x\": [26752, 30927, 19782, 24945, 25062, 22983, 23345, 26941, 27567, 23911, 23858, 24891, 21831, 24126, 28708, 26164, 27428, 30742, 24831, 23954, 19851, 22777, 20793, 25574, 24086, 30286, 28038, 27604, 27544, 25099, 26298, 26339, 31235, 24507, 29999, 24993, 24996, 22817, 28447, 26034, 21800, 27212, 23855, 28258, 27416, 24831, 24900, 30230, 24781, 27898, 25551, 26982, 24593, 25339, 28138, 22709, 26167, 25732, 24289, 27131, 22013, 24785, 22063, 22510, 26357, 25814, 22941], \"xaxis\": \"x\", \"y\": [36300, 33411, 33491, 32000, 38225, 31580, 30891, 27946, 31262, 32729, 36607, 34836, 36500, 32726, 33958, 28972, 31513, 34069, 31631, 38128, 37651, 36179, 36073, 42425, 37554, 33519, 35133, 37380, 29446, 35993, 31611, 27307, 33719, 30222, 28825, 29754, 39859, 35821, 33509, 33013, 34052, 35260, 34978, 30839, 33026, 32144, 31273, 33827, 32022, 37533, 32472, 34225, 37919, 41490, 29758, 29983, 34098, 40744, 36680, 29743, 27713, 28034, 33241, 32564, 31830, 33595, 32788], \"yaxis\": \"y\"}, {\"hovertemplate\": \"<b>OLS trendline</b><br>GMV_children = -0.176791 * GMV_adults + 38148.9<br>R<sup>2</sup>=0.018625<br><br>Matched with=random_adult<br>Gray matter volume in adults (mm<sup>3</sup>)=%{x}<br>Gray matter volume in children (mm<sup>3</sup>)=%{y} <b>(trend)</b><extra></extra>\", \"legendgroup\": \"random_adult\", \"marker\": {\"color\": \"#545F78\", \"symbol\": \"circle\"}, \"mode\": \"lines\", \"name\": \"random_adult\", \"showlegend\": false, \"type\": \"scatter\", \"x\": [19782, 19851, 20793, 21800, 21831, 22013, 22063, 22510, 22709, 22777, 22817, 22941, 22983, 23345, 23855, 23858, 23911, 23954, 24086, 24126, 24289, 24507, 24593, 24781, 24785, 24831, 24831, 24891, 24900, 24945, 24993, 24996, 25062, 25099, 25339, 25551, 25574, 25732, 25814, 26034, 26164, 26167, 26298, 26339, 26357, 26752, 26941, 26982, 27131, 27212, 27416, 27428, 27544, 27567, 27604, 27898, 28038, 28138, 28258, 28447, 28708, 29999, 30230, 30286, 30742, 30927, 31235], \"xaxis\": \"x\", \"y\": [34651.60613846284, 34639.407543838606, 34472.87020853382, 34294.84144351055, 34289.36091549097, 34257.18491227922, 34248.34535095731, 34169.31967273943, 34134.13821867823, 34122.116415280434, 34115.044766222905, 34093.122654144565, 34085.69742263416, 34021.69899866354, 33931.535473180054, 33931.00509950074, 33921.635164499516, 33914.03314176267, 33890.69669987283, 33883.6250508153, 33854.808080905874, 33816.26759354235, 33801.06354806866, 33767.82679749828, 33767.11963259253, 33758.98723617637, 33758.98723617637, 33748.37976259008, 33746.788641552135, 33738.83303636241, 33730.34705749338, 33729.81668381407, 33718.14846286915, 33711.60718749093, 33669.17729314577, 33631.69755314087, 33627.63135493279, 33599.698341155556, 33585.20146058762, 33546.30739077122, 33523.32453133425, 33522.794157654935, 33499.63450699153, 33492.386066707564, 33489.20382463168, 33419.37129018859, 33385.95774839177, 33378.709308107806, 33352.36741536851, 33338.047326027016, 33301.981915833625, 33299.86042111636, 33279.35263884954, 33275.28644064146, 33268.745165263244, 33216.768544690414, 33192.017772989064, 33174.33865034524, 33153.12370317266, 33119.71016137584, 33073.56765127547, 32845.33017794375, 32804.49140463653, 32794.59109595599, 32713.974296700173, 32681.267919809106, 32626.81622206614], \"yaxis\": \"y\"}],                        {\"font\": {\"family\": \"Times New Roman\"}, \"legend\": {\"title\": {\"text\": \"Matched with\"}, \"tracegroupgap\": 0}, \"margin\": {\"t\": 60}, \"template\": {\"data\": {\"bar\": [{\"error_x\": {\"color\": \"rgb(36,36,36)\"}, \"error_y\": {\"color\": \"rgb(36,36,36)\"}, \"marker\": {\"line\": {\"color\": \"white\", \"width\": 0.5}}, \"type\": \"bar\"}], \"barpolar\": [{\"marker\": {\"line\": {\"color\": \"white\", \"width\": 0.5}}, \"type\": \"barpolar\"}], \"carpet\": [{\"aaxis\": {\"endlinecolor\": \"rgb(36,36,36)\", \"gridcolor\": \"white\", \"linecolor\": \"white\", \"minorgridcolor\": \"white\", \"startlinecolor\": \"rgb(36,36,36)\"}, \"baxis\": {\"endlinecolor\": \"rgb(36,36,36)\", \"gridcolor\": \"white\", \"linecolor\": \"white\", \"minorgridcolor\": \"white\", \"startlinecolor\": \"rgb(36,36,36)\"}, \"type\": \"carpet\"}], \"choropleth\": [{\"colorbar\": {\"outlinewidth\": 1, \"tickcolor\": \"rgb(36,36,36)\", \"ticks\": \"outside\"}, \"type\": \"choropleth\"}], \"contour\": [{\"colorbar\": {\"outlinewidth\": 1, \"tickcolor\": \"rgb(36,36,36)\", \"ticks\": \"outside\"}, \"colorscale\": [[0.0, \"#440154\"], [0.1111111111111111, \"#482878\"], [0.2222222222222222, \"#3e4989\"], [0.3333333333333333, \"#31688e\"], [0.4444444444444444, \"#26828e\"], [0.5555555555555556, \"#1f9e89\"], [0.6666666666666666, \"#35b779\"], [0.7777777777777778, \"#6ece58\"], [0.8888888888888888, \"#b5de2b\"], [1.0, \"#fde725\"]], \"type\": \"contour\"}], \"contourcarpet\": [{\"colorbar\": {\"outlinewidth\": 1, \"tickcolor\": \"rgb(36,36,36)\", \"ticks\": \"outside\"}, \"type\": \"contourcarpet\"}], \"heatmap\": [{\"colorbar\": {\"outlinewidth\": 1, \"tickcolor\": \"rgb(36,36,36)\", \"ticks\": \"outside\"}, \"colorscale\": [[0.0, \"#440154\"], [0.1111111111111111, \"#482878\"], [0.2222222222222222, \"#3e4989\"], [0.3333333333333333, \"#31688e\"], [0.4444444444444444, \"#26828e\"], [0.5555555555555556, \"#1f9e89\"], [0.6666666666666666, \"#35b779\"], [0.7777777777777778, \"#6ece58\"], [0.8888888888888888, \"#b5de2b\"], [1.0, \"#fde725\"]], \"type\": \"heatmap\"}], \"heatmapgl\": [{\"colorbar\": {\"outlinewidth\": 1, \"tickcolor\": \"rgb(36,36,36)\", \"ticks\": \"outside\"}, \"colorscale\": [[0.0, \"#440154\"], [0.1111111111111111, \"#482878\"], [0.2222222222222222, \"#3e4989\"], [0.3333333333333333, \"#31688e\"], [0.4444444444444444, \"#26828e\"], [0.5555555555555556, \"#1f9e89\"], [0.6666666666666666, \"#35b779\"], [0.7777777777777778, \"#6ece58\"], [0.8888888888888888, \"#b5de2b\"], [1.0, \"#fde725\"]], \"type\": \"heatmapgl\"}], \"histogram\": [{\"marker\": {\"line\": {\"color\": \"white\", \"width\": 0.6}}, \"type\": \"histogram\"}], \"histogram2d\": [{\"colorbar\": {\"outlinewidth\": 1, \"tickcolor\": \"rgb(36,36,36)\", \"ticks\": \"outside\"}, \"colorscale\": [[0.0, \"#440154\"], [0.1111111111111111, \"#482878\"], [0.2222222222222222, \"#3e4989\"], [0.3333333333333333, \"#31688e\"], [0.4444444444444444, \"#26828e\"], [0.5555555555555556, \"#1f9e89\"], [0.6666666666666666, \"#35b779\"], [0.7777777777777778, \"#6ece58\"], [0.8888888888888888, \"#b5de2b\"], [1.0, \"#fde725\"]], \"type\": \"histogram2d\"}], \"histogram2dcontour\": [{\"colorbar\": {\"outlinewidth\": 1, \"tickcolor\": \"rgb(36,36,36)\", \"ticks\": \"outside\"}, \"colorscale\": [[0.0, \"#440154\"], [0.1111111111111111, \"#482878\"], [0.2222222222222222, \"#3e4989\"], [0.3333333333333333, \"#31688e\"], [0.4444444444444444, \"#26828e\"], [0.5555555555555556, \"#1f9e89\"], [0.6666666666666666, \"#35b779\"], [0.7777777777777778, \"#6ece58\"], [0.8888888888888888, \"#b5de2b\"], [1.0, \"#fde725\"]], \"type\": \"histogram2dcontour\"}], \"mesh3d\": [{\"colorbar\": {\"outlinewidth\": 1, \"tickcolor\": \"rgb(36,36,36)\", \"ticks\": \"outside\"}, \"type\": \"mesh3d\"}], \"parcoords\": [{\"line\": {\"colorbar\": {\"outlinewidth\": 1, \"tickcolor\": \"rgb(36,36,36)\", \"ticks\": \"outside\"}}, \"type\": \"parcoords\"}], \"pie\": [{\"automargin\": true, \"type\": \"pie\"}], \"scatter\": [{\"marker\": {\"colorbar\": {\"outlinewidth\": 1, \"tickcolor\": \"rgb(36,36,36)\", \"ticks\": \"outside\"}}, \"type\": \"scatter\"}], \"scatter3d\": [{\"line\": {\"colorbar\": {\"outlinewidth\": 1, \"tickcolor\": \"rgb(36,36,36)\", \"ticks\": \"outside\"}}, \"marker\": {\"colorbar\": {\"outlinewidth\": 1, \"tickcolor\": \"rgb(36,36,36)\", \"ticks\": \"outside\"}}, \"type\": \"scatter3d\"}], \"scattercarpet\": [{\"marker\": {\"colorbar\": {\"outlinewidth\": 1, \"tickcolor\": \"rgb(36,36,36)\", \"ticks\": \"outside\"}}, \"type\": \"scattercarpet\"}], \"scattergeo\": [{\"marker\": {\"colorbar\": {\"outlinewidth\": 1, \"tickcolor\": \"rgb(36,36,36)\", \"ticks\": \"outside\"}}, \"type\": \"scattergeo\"}], \"scattergl\": [{\"marker\": {\"colorbar\": {\"outlinewidth\": 1, \"tickcolor\": \"rgb(36,36,36)\", \"ticks\": \"outside\"}}, \"type\": \"scattergl\"}], \"scattermapbox\": [{\"marker\": {\"colorbar\": {\"outlinewidth\": 1, \"tickcolor\": \"rgb(36,36,36)\", \"ticks\": \"outside\"}}, \"type\": \"scattermapbox\"}], \"scatterpolar\": [{\"marker\": {\"colorbar\": {\"outlinewidth\": 1, \"tickcolor\": \"rgb(36,36,36)\", \"ticks\": \"outside\"}}, \"type\": \"scatterpolar\"}], \"scatterpolargl\": [{\"marker\": {\"colorbar\": {\"outlinewidth\": 1, \"tickcolor\": \"rgb(36,36,36)\", \"ticks\": \"outside\"}}, \"type\": \"scatterpolargl\"}], \"scatterternary\": [{\"marker\": {\"colorbar\": {\"outlinewidth\": 1, \"tickcolor\": \"rgb(36,36,36)\", \"ticks\": \"outside\"}}, \"type\": \"scatterternary\"}], \"surface\": [{\"colorbar\": {\"outlinewidth\": 1, \"tickcolor\": \"rgb(36,36,36)\", \"ticks\": \"outside\"}, \"colorscale\": [[0.0, \"#440154\"], [0.1111111111111111, \"#482878\"], [0.2222222222222222, \"#3e4989\"], [0.3333333333333333, \"#31688e\"], [0.4444444444444444, \"#26828e\"], [0.5555555555555556, \"#1f9e89\"], [0.6666666666666666, \"#35b779\"], [0.7777777777777778, \"#6ece58\"], [0.8888888888888888, \"#b5de2b\"], [1.0, \"#fde725\"]], \"type\": \"surface\"}], \"table\": [{\"cells\": {\"fill\": {\"color\": \"rgb(237,237,237)\"}, \"line\": {\"color\": \"white\"}}, \"header\": {\"fill\": {\"color\": \"rgb(217,217,217)\"}, \"line\": {\"color\": \"white\"}}, \"type\": \"table\"}]}, \"layout\": {\"annotationdefaults\": {\"arrowhead\": 0, \"arrowwidth\": 1}, \"autotypenumbers\": \"strict\", \"coloraxis\": {\"colorbar\": {\"outlinewidth\": 1, \"tickcolor\": \"rgb(36,36,36)\", \"ticks\": \"outside\"}}, \"colorscale\": {\"diverging\": [[0.0, \"rgb(103,0,31)\"], [0.1, \"rgb(178,24,43)\"], [0.2, \"rgb(214,96,77)\"], [0.3, \"rgb(244,165,130)\"], [0.4, \"rgb(253,219,199)\"], [0.5, \"rgb(247,247,247)\"], [0.6, \"rgb(209,229,240)\"], [0.7, \"rgb(146,197,222)\"], [0.8, \"rgb(67,147,195)\"], [0.9, \"rgb(33,102,172)\"], [1.0, \"rgb(5,48,97)\"]], \"sequential\": [[0.0, \"#440154\"], [0.1111111111111111, \"#482878\"], [0.2222222222222222, \"#3e4989\"], [0.3333333333333333, \"#31688e\"], [0.4444444444444444, \"#26828e\"], [0.5555555555555556, \"#1f9e89\"], [0.6666666666666666, \"#35b779\"], [0.7777777777777778, \"#6ece58\"], [0.8888888888888888, \"#b5de2b\"], [1.0, \"#fde725\"]], \"sequentialminus\": [[0.0, \"#440154\"], [0.1111111111111111, \"#482878\"], [0.2222222222222222, \"#3e4989\"], [0.3333333333333333, \"#31688e\"], [0.4444444444444444, \"#26828e\"], [0.5555555555555556, \"#1f9e89\"], [0.6666666666666666, \"#35b779\"], [0.7777777777777778, \"#6ece58\"], [0.8888888888888888, \"#b5de2b\"], [1.0, \"#fde725\"]]}, \"colorway\": [\"#1F77B4\", \"#FF7F0E\", \"#2CA02C\", \"#D62728\", \"#9467BD\", \"#8C564B\", \"#E377C2\", \"#7F7F7F\", \"#BCBD22\", \"#17BECF\"], \"font\": {\"color\": \"rgb(36,36,36)\"}, \"geo\": {\"bgcolor\": \"white\", \"lakecolor\": \"white\", \"landcolor\": \"white\", \"showlakes\": true, \"showland\": true, \"subunitcolor\": \"white\"}, \"hoverlabel\": {\"align\": \"left\"}, \"hovermode\": \"closest\", \"mapbox\": {\"style\": \"light\"}, \"paper_bgcolor\": \"white\", \"plot_bgcolor\": \"white\", \"polar\": {\"angularaxis\": {\"gridcolor\": \"rgb(232,232,232)\", \"linecolor\": \"rgb(36,36,36)\", \"showgrid\": false, \"showline\": true, \"ticks\": \"outside\"}, \"bgcolor\": \"white\", \"radialaxis\": {\"gridcolor\": \"rgb(232,232,232)\", \"linecolor\": \"rgb(36,36,36)\", \"showgrid\": false, \"showline\": true, \"ticks\": \"outside\"}}, \"scene\": {\"xaxis\": {\"backgroundcolor\": \"white\", \"gridcolor\": \"rgb(232,232,232)\", \"gridwidth\": 2, \"linecolor\": \"rgb(36,36,36)\", \"showbackground\": true, \"showgrid\": false, \"showline\": true, \"ticks\": \"outside\", \"zeroline\": false, \"zerolinecolor\": \"rgb(36,36,36)\"}, \"yaxis\": {\"backgroundcolor\": \"white\", \"gridcolor\": \"rgb(232,232,232)\", \"gridwidth\": 2, \"linecolor\": \"rgb(36,36,36)\", \"showbackground\": true, \"showgrid\": false, \"showline\": true, \"ticks\": \"outside\", \"zeroline\": false, \"zerolinecolor\": \"rgb(36,36,36)\"}, \"zaxis\": {\"backgroundcolor\": \"white\", \"gridcolor\": \"rgb(232,232,232)\", \"gridwidth\": 2, \"linecolor\": \"rgb(36,36,36)\", \"showbackground\": true, \"showgrid\": false, \"showline\": true, \"ticks\": \"outside\", \"zeroline\": false, \"zerolinecolor\": \"rgb(36,36,36)\"}}, \"shapedefaults\": {\"fillcolor\": \"black\", \"line\": {\"width\": 0}, \"opacity\": 0.3}, \"ternary\": {\"aaxis\": {\"gridcolor\": \"rgb(232,232,232)\", \"linecolor\": \"rgb(36,36,36)\", \"showgrid\": false, \"showline\": true, \"ticks\": \"outside\"}, \"baxis\": {\"gridcolor\": \"rgb(232,232,232)\", \"linecolor\": \"rgb(36,36,36)\", \"showgrid\": false, \"showline\": true, \"ticks\": \"outside\"}, \"bgcolor\": \"white\", \"caxis\": {\"gridcolor\": \"rgb(232,232,232)\", \"linecolor\": \"rgb(36,36,36)\", \"showgrid\": false, \"showline\": true, \"ticks\": \"outside\"}}, \"title\": {\"x\": 0.05}, \"xaxis\": {\"automargin\": true, \"gridcolor\": \"rgb(232,232,232)\", \"linecolor\": \"rgb(36,36,36)\", \"showgrid\": false, \"showline\": true, \"ticks\": \"outside\", \"title\": {\"standoff\": 15}, \"zeroline\": false, \"zerolinecolor\": \"rgb(36,36,36)\"}, \"yaxis\": {\"automargin\": true, \"gridcolor\": \"rgb(232,232,232)\", \"linecolor\": \"rgb(36,36,36)\", \"showgrid\": false, \"showline\": true, \"ticks\": \"outside\", \"title\": {\"standoff\": 15}, \"zeroline\": false, \"zerolinecolor\": \"rgb(36,36,36)\"}}}, \"title\": {\"text\": \"Association of gray matter volume in reading network <br> in child-mother and child-random adult pairs\", \"x\": 0.45, \"xanchor\": \"center\", \"y\": 0.93, \"yanchor\": \"top\"}, \"xaxis\": {\"anchor\": \"y\", \"domain\": [0.0, 1.0], \"title\": {\"text\": \"Gray matter volume in adults (mm<sup>3</sup>)\"}}, \"yaxis\": {\"anchor\": \"x\", \"domain\": [0.0, 1.0], \"title\": {\"text\": \"Gray matter volume in children (mm<sup>3</sup>)\"}}},                        {\"responsive\": true}                    ).then(function(){\n",
       "                            \n",
       "var gd = document.getElementById('98ac53cd-14b5-46c1-83e3-a61deea75028');\n",
       "var x = new MutationObserver(function (mutations, observer) {{\n",
       "        var display = window.getComputedStyle(gd).display;\n",
       "        if (!display || display === 'none') {{\n",
       "            console.log([gd, 'removed!']);\n",
       "            Plotly.purge(gd);\n",
       "            observer.disconnect();\n",
       "        }}\n",
       "}});\n",
       "\n",
       "// Listen for the removal of the full notebook cells\n",
       "var notebookContainer = gd.closest('#notebook-container');\n",
       "if (notebookContainer) {{\n",
       "    x.observe(notebookContainer, {childList: true});\n",
       "}}\n",
       "\n",
       "// Listen for the clearing of the current output cell\n",
       "var outputEl = gd.closest('.output');\n",
       "if (outputEl) {{\n",
       "    x.observe(outputEl, {childList: true});\n",
       "}}\n",
       "\n",
       "                        })                };                });            </script>        </div>"
      ]
     },
     "metadata": {},
     "output_type": "display_data"
    }
   ],
   "source": [
    "#style guide: https://plotly.com/python/styling-plotly-express/\n",
    "import plotly.io as pio                                #for the chang in template\n",
    "fig = px.scatter(df, x=\"GMV_adults\", y=\"GMV_children\",\n",
    "                 color=\"Group \",\n",
    "                 trendline=\"ols\", \n",
    "                 color_discrete_map={'own_mother': '#C94277','random_adult': '#545F78'},\n",
    "                 template=\"simple_white\",\n",
    "                 labels={\n",
    "                     \"GMV_adults\": \"Gray matter volume in adults (mm<sup>3</sup>)\",\n",
    "                     \"GMV_children\": \"Gray matter volume in children (mm<sup>3</sup>)\",\n",
    "                     \"Group \": \"Matched with\"})\n",
    " \n",
    "fig.update_layout(\n",
    "    title={\n",
    "        'text': \"Association of gray matter volume in reading network <br> in child-mother and child-random adult pairs\",\n",
    "        'y':0.93,\n",
    "        'x':0.45,\n",
    "        'xanchor': 'center',\n",
    "        'yanchor': 'top'})\n",
    "\n",
    "fig.update_layout(\n",
    "    font_family=\"Times New Roman\"\n",
    ")\n",
    "\n",
    "\n",
    "fig.show()"
   ]
  },
  {
   "cell_type": "code",
   "execution_count": null,
   "id": "75bafdd9",
   "metadata": {},
   "outputs": [],
   "source": [
    "#conda install -c conda-forge python-kaleido  #to save figures"
   ]
  },
  {
   "cell_type": "code",
   "execution_count": null,
   "id": "8968963d",
   "metadata": {},
   "outputs": [],
   "source": [
    "fig.write_image(\"/Users/reka/Desktop/fig1.png\")"
   ]
  },
  {
   "cell_type": "code",
   "execution_count": 10,
   "id": "1315a6ac",
   "metadata": {},
   "outputs": [],
   "source": [
    "fig.write_image(\"/Users/reka/Desktop/fig1.png\", width=1000, height=600, scale = 3)"
   ]
  },
  {
   "cell_type": "code",
   "execution_count": 11,
   "id": "714829c4",
   "metadata": {
    "scrolled": true
   },
   "outputs": [],
   "source": [
    "fig.write_image(\"/Users/reka/Desktop/fig1.pdf\")"
   ]
  },
  {
   "cell_type": "markdown",
   "id": "e7a2cd04",
   "metadata": {},
   "source": [
    "## Further guides:\n",
    "### https://plotly.com/python/\n",
    "### https://plotly.com/python/styling-plotly-express/\n",
    "### https://github.com/derekbanas/plotly-tutorial/blob/master/Plotly%20Tut.ipynb\n",
    "### https://coolors.co/"
   ]
  }
 ],
 "metadata": {
  "kernelspec": {
   "display_name": "Python 3",
   "language": "python",
   "name": "python3"
  },
  "language_info": {
   "codemirror_mode": {
    "name": "ipython",
    "version": 3
   },
   "file_extension": ".py",
   "mimetype": "text/x-python",
   "name": "python",
   "nbconvert_exporter": "python",
   "pygments_lexer": "ipython3",
   "version": "3.8.8"
  }
 },
 "nbformat": 4,
 "nbformat_minor": 5
}
